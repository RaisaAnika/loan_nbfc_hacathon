{
  "nbformat": 4,
  "nbformat_minor": 0,
  "metadata": {
    "colab": {
      "name": "LOAN_NBFC_Hackathon.ipynb",
      "provenance": [],
      "include_colab_link": true
    },
    "kernelspec": {
      "name": "python3",
      "display_name": "Python 3"
    },
    "language_info": {
      "name": "python"
    }
  },
  "cells": [
    {
      "cell_type": "markdown",
      "metadata": {
        "id": "view-in-github",
        "colab_type": "text"
      },
      "source": [
        "<a href=\"https://colab.research.google.com/github/RaisaAnika/loan_nbfc_hacathon/blob/main/LOAN_NBFC_Hackathon.ipynb\" target=\"_parent\"><img src=\"https://colab.research.google.com/assets/colab-badge.svg\" alt=\"Open In Colab\"/></a>"
      ]
    },
    {
      "cell_type": "markdown",
      "metadata": {
        "id": "O9YretAgoe9Z"
      },
      "source": [
        "HACATHON TOPIC: **NBFC Loan Default**\n",
        "Team Details: \n",
        "**Data_Falcon**\n",
        " Members:\n",
        "  * Anika Raisa Chowdhury\n",
        "  * Ian Brick\n",
        "  * Fabrizio Maltese\n",
        "\n",
        "Hackathon link: https://olympus.greatlearning.in/hackathons/216 \n",
        "Repository link: https://github.com/RaisaAnika/loan_nbfc_hacathon \n",
        "\n",
        "A non-banking financial institution (NBFI) or non-bank financial company (NBFC) is a Financial Institution that does not have a full banking license or is not supervised by a national or international banking regulatory agency. NBFC facilitates bank-related financial services, such as investment, risk pooling, contractual savings, and market brokering.\n",
        "\n",
        "The following is the story of a challenge faced by DHDL Ltd. (Name Changed), an NBFC in India. In recent times, the company is struggling to mark profits due to an increase in Loan Defaults. The company aims to determine the relative importance of each parameter with regards to their contribution as to whether a loan is going to default or not. Provided is a sample that contains the data of 90,000 + clients who have taken a loan from the company in the past with the information on whether the loan defaulted. \n",
        "\n",
        "The objective of this exercise is to understand which parameters play an important role in determining whether a client will default on the loan payment or not. "
      ]
    },
    {
      "cell_type": "markdown",
      "metadata": {
        "id": "uy1cZdXbhXWE"
      },
      "source": [
        "**Goal:**\n",
        "The goal of the problem is to predict whether a client will default on the loan payment or not. For each ID in the test_data, you must predict the “default” level.\n",
        "\n",
        "\n",
        "**Datasets**\n",
        "The problem contains two datasets, Train Data, and Test Data. Model building is to be done on Train Dataset and the Model testing is to be done on Test Dataset. The output from the Test Data is to be submitted in the Hackathon platform\n",
        "\n",
        "\n",
        "**Metric to measure**\n",
        "Your score is the percentage of all correct predictions made by you. This is simply known as accuracy. The best accuracy is 1 whereas the worst is 0. It will be calculated as the total number of two correct predictions (True positive + True negative) divided by the total number of observations in the dataset.\n",
        "\n",
        "\n",
        "**Submission File Format:**\n",
        "You should submit a CSV file with exactly 39933 entries plus a header row.\n",
        "The file should have exactly two columns\n",
        "\n",
        "·         ID ( sorted in any order)\n",
        "\n",
        "·         default (contains 0 & 1, 1 represents default)"
      ]
    },
    {
      "cell_type": "code",
      "metadata": {
        "id": "zGpbDn19pbGO"
      },
      "source": [
        "##Library Imports\n",
        "\n",
        "import os\n",
        "import pandas as pd\n",
        "import numpy as np\n",
        "from sklearn import preprocessing,metrics \n",
        "from IPython.core.display import HTML\n",
        "pd.set_option(\"display.max_columns\",75)\n",
        "import warnings\n",
        "warnings.filterwarnings('ignore')\n",
        "from sklearn.model_selection import train_test_split\n",
        "from sklearn.ensemble import RandomForestClassifier\n",
        "from sklearn.neighbors import KNeighborsClassifier\n",
        "from sklearn.metrics import accuracy_score\n",
        "import matplotlib.pyplot as plt\n",
        "import seaborn as sns\n",
        "%matplotlib inline\n",
        "from sklearn import linear_model,svm\n",
        "from sklearn.metrics import average_precision_score\n",
        "from sklearn.metrics import precision_recall_curve\n",
        "from sklearn.metrics import r2_score\n",
        "\n",
        "# to handle data in form of rows and columns \n",
        "import pandas as pd    \n",
        "\n",
        "# importing ploting libraries\n",
        "import matplotlib.pyplot as plt   \n",
        "\n",
        "#importing seaborn for statistical plots\n",
        "import seaborn as sns\n",
        "# Library to suppress warnings or deprecation notes \n",
        "import warnings\n",
        "warnings.filterwarnings('ignore')\n",
        "\n",
        "# Libraries to help with reading and manipulating data\n",
        "import numpy as np\n",
        "import pandas as pd\n",
        "\n",
        "# Libraries to help with data visualization\n",
        "import matplotlib.pyplot as plt\n",
        "%matplotlib inline\n",
        "import seaborn as sns\n",
        "\n",
        "# Libraries to split data, impute missing values \n",
        "from sklearn.model_selection import train_test_split\n",
        "from sklearn.impute import SimpleImputer\n",
        "\n",
        "# Libraries to import decision tree classifier and different ensemble classifiers\n",
        "from sklearn.ensemble import BaggingClassifier\n",
        "from sklearn.ensemble import RandomForestClassifier\n",
        "from sklearn.ensemble import AdaBoostClassifier, GradientBoostingClassifier\n",
        "from xgboost import XGBClassifier\n",
        "from sklearn.ensemble import StackingClassifier\n",
        "from sklearn.tree import DecisionTreeClassifier\n",
        "\n",
        "# Libtune to tune model, get different metric scores\n",
        "from sklearn import metrics\n",
        "from sklearn.metrics import confusion_matrix, classification_report, accuracy_score, precision_score, recall_score\n",
        "from sklearn.model_selection import GridSearchCV\n",
        "from catboost import CatBoostClassifier \n",
        "from sklearn.preprocessing import StandardScaler\n",
        "from sklearn.model_selection import train_test_split, GridSearchCV\n",
        "from catboost import Pool, cv\n",
        "import pandas as pd\n",
        "import numpy as np\n",
        "import matplotlib.pyplot as plt\n",
        "from sklearn.model_selection import train_test_split\n",
        "from sklearn import metrics\n",
        "\n",
        "from sklearn.impute import SimpleImputer\n",
        "\n",
        "from sklearn.tree import DecisionTreeClassifier\n",
        "\n",
        "from pandas import read_csv\n",
        "from sklearn.model_selection import train_test_split\n",
        "from sklearn.linear_model import LogisticRegression\n",
        "from sklearn.model_selection import KFold\n",
        "from sklearn.model_selection import cross_val_score\n",
        "import numpy as np\n",
        "import warnings\n",
        "warnings.filterwarnings('ignore')\n",
        "from sklearn.pipeline import Pipeline\n",
        "from keras.wrappers.scikit_learn import KerasClassifier\n",
        "import keras.layers \n",
        "from keras.layers import Dropout\n",
        "from keras.wrappers.scikit_learn import KerasClassifier\n",
        "from sklearn.model_selection import cross_val_score\n",
        "\n",
        "from sklearn import metrics\n",
        "from sklearn.model_selection import train_test_split\n",
        "from sklearn.preprocessing import OneHotEncoder as ohc\n",
        "\n",
        "from sklearn.pipeline import Pipeline\n",
        "from sklearn.preprocessing import StandardScaler\n",
        "from sklearn.linear_model import LogisticRegression\n",
        "from sklearn.model_selection import train_test_split\n",
        "from sklearn.model_selection import GridSearchCV\n",
        "from sklearn.svm import SVC\n",
        "\n",
        "import warnings"
      ],
      "execution_count": null,
      "outputs": []
    },
    {
      "cell_type": "code",
      "metadata": {
        "colab": {
          "base_uri": "https://localhost:8080/",
          "height": 731
        },
        "id": "Ld-m4WH0kZD8",
        "outputId": "c97e162d-5888-462e-bd81-241aedc2cc3c"
      },
      "source": [
        "df_dict = pd.read_csv(\"/content/Data_Dictionary_(1).csv\")\n",
        "df_dict"
      ],
      "execution_count": 8,
      "outputs": [
        {
          "output_type": "execute_result",
          "data": {
            "text/html": [
              "<div>\n",
              "<style scoped>\n",
              "    .dataframe tbody tr th:only-of-type {\n",
              "        vertical-align: middle;\n",
              "    }\n",
              "\n",
              "    .dataframe tbody tr th {\n",
              "        vertical-align: top;\n",
              "    }\n",
              "\n",
              "    .dataframe thead th {\n",
              "        text-align: right;\n",
              "    }\n",
              "</style>\n",
              "<table border=\"1\" class=\"dataframe\">\n",
              "  <thead>\n",
              "    <tr style=\"text-align: right;\">\n",
              "      <th></th>\n",
              "      <th>ID</th>\n",
              "      <th>unique ID assigned to each applicant</th>\n",
              "    </tr>\n",
              "  </thead>\n",
              "  <tbody>\n",
              "    <tr>\n",
              "      <th>0</th>\n",
              "      <td>loan_amnt</td>\n",
              "      <td>loan amount ($) applied each applicant</td>\n",
              "    </tr>\n",
              "    <tr>\n",
              "      <th>1</th>\n",
              "      <td>loan_term</td>\n",
              "      <td>Loan duration in years</td>\n",
              "    </tr>\n",
              "    <tr>\n",
              "      <th>2</th>\n",
              "      <td>interest_rate</td>\n",
              "      <td>Applicable interest rate on Loan in %</td>\n",
              "    </tr>\n",
              "    <tr>\n",
              "      <th>3</th>\n",
              "      <td>loan_grade</td>\n",
              "      <td>Loan Grade Assigned by the bank</td>\n",
              "    </tr>\n",
              "    <tr>\n",
              "      <th>4</th>\n",
              "      <td>loan_subgrade</td>\n",
              "      <td>Loan SubGrade Assigned by the bank</td>\n",
              "    </tr>\n",
              "    <tr>\n",
              "      <th>5</th>\n",
              "      <td>job_experience</td>\n",
              "      <td>Number of years job experience</td>\n",
              "    </tr>\n",
              "    <tr>\n",
              "      <th>6</th>\n",
              "      <td>home_ownership</td>\n",
              "      <td>Status of House Ownership</td>\n",
              "    </tr>\n",
              "    <tr>\n",
              "      <th>7</th>\n",
              "      <td>annual_income</td>\n",
              "      <td>Annual income of the applicant</td>\n",
              "    </tr>\n",
              "    <tr>\n",
              "      <th>8</th>\n",
              "      <td>income_verification_status</td>\n",
              "      <td>Status of Income verification by the bank</td>\n",
              "    </tr>\n",
              "    <tr>\n",
              "      <th>9</th>\n",
              "      <td>loan_purpose</td>\n",
              "      <td>Purpose of loan</td>\n",
              "    </tr>\n",
              "    <tr>\n",
              "      <th>10</th>\n",
              "      <td>state_code</td>\n",
              "      <td>State code of the applicant's residence</td>\n",
              "    </tr>\n",
              "    <tr>\n",
              "      <th>11</th>\n",
              "      <td>debt_to_income</td>\n",
              "      <td>Ratio to total debt to income (total debt migh...</td>\n",
              "    </tr>\n",
              "    <tr>\n",
              "      <th>12</th>\n",
              "      <td>delinq_2yrs</td>\n",
              "      <td>number of 30+ days delinquency in past 2 years</td>\n",
              "    </tr>\n",
              "    <tr>\n",
              "      <th>13</th>\n",
              "      <td>public_records</td>\n",
              "      <td>number of legal cases against the applicant</td>\n",
              "    </tr>\n",
              "    <tr>\n",
              "      <th>14</th>\n",
              "      <td>revolving_balance</td>\n",
              "      <td>total credit revolving balance</td>\n",
              "    </tr>\n",
              "    <tr>\n",
              "      <th>15</th>\n",
              "      <td>total_acc</td>\n",
              "      <td>total number of credit lines available in memb...</td>\n",
              "    </tr>\n",
              "    <tr>\n",
              "      <th>16</th>\n",
              "      <td>interest_receive</td>\n",
              "      <td>total interest received by the bank on the loan</td>\n",
              "    </tr>\n",
              "    <tr>\n",
              "      <th>17</th>\n",
              "      <td>application_type</td>\n",
              "      <td>Whether the applicant has applied the loan by ...</td>\n",
              "    </tr>\n",
              "    <tr>\n",
              "      <th>18</th>\n",
              "      <td>last_week_pay</td>\n",
              "      <td>How many months have the applicant paid the lo...</td>\n",
              "    </tr>\n",
              "    <tr>\n",
              "      <th>19</th>\n",
              "      <td>total_current_balance</td>\n",
              "      <td>total current balance of all the accounts of a...</td>\n",
              "    </tr>\n",
              "    <tr>\n",
              "      <th>20</th>\n",
              "      <td>total_revolving_limit</td>\n",
              "      <td>total revolving credit limit</td>\n",
              "    </tr>\n",
              "    <tr>\n",
              "      <th>21</th>\n",
              "      <td>default</td>\n",
              "      <td>status of loan amount, 1 = Defaulter, 0 = Non ...</td>\n",
              "    </tr>\n",
              "  </tbody>\n",
              "</table>\n",
              "</div>"
            ],
            "text/plain": [
              "                            ID  \\\n",
              "0                    loan_amnt   \n",
              "1                    loan_term   \n",
              "2                interest_rate   \n",
              "3                   loan_grade   \n",
              "4                loan_subgrade   \n",
              "5               job_experience   \n",
              "6               home_ownership   \n",
              "7                annual_income   \n",
              "8   income_verification_status   \n",
              "9                 loan_purpose   \n",
              "10                  state_code   \n",
              "11              debt_to_income   \n",
              "12                 delinq_2yrs   \n",
              "13              public_records   \n",
              "14           revolving_balance   \n",
              "15                   total_acc   \n",
              "16            interest_receive   \n",
              "17            application_type   \n",
              "18               last_week_pay   \n",
              "19       total_current_balance   \n",
              "20       total_revolving_limit   \n",
              "21                     default   \n",
              "\n",
              "                 unique ID assigned to each applicant  \n",
              "0              loan amount ($) applied each applicant  \n",
              "1                              Loan duration in years  \n",
              "2               Applicable interest rate on Loan in %  \n",
              "3                     Loan Grade Assigned by the bank  \n",
              "4                  Loan SubGrade Assigned by the bank  \n",
              "5                     Number of years job experience   \n",
              "6                           Status of House Ownership  \n",
              "7                      Annual income of the applicant  \n",
              "8           Status of Income verification by the bank  \n",
              "9                                     Purpose of loan  \n",
              "10           State code of the applicant's residence   \n",
              "11  Ratio to total debt to income (total debt migh...  \n",
              "12     number of 30+ days delinquency in past 2 years  \n",
              "13        number of legal cases against the applicant  \n",
              "14                     total credit revolving balance  \n",
              "15  total number of credit lines available in memb...  \n",
              "16    total interest received by the bank on the loan  \n",
              "17  Whether the applicant has applied the loan by ...  \n",
              "18  How many months have the applicant paid the lo...  \n",
              "19  total current balance of all the accounts of a...  \n",
              "20                       total revolving credit limit  \n",
              "21  status of loan amount, 1 = Defaulter, 0 = Non ...  "
            ]
          },
          "metadata": {},
          "execution_count": 8
        }
      ]
    },
    {
      "cell_type": "code",
      "metadata": {
        "id": "2Trtw7oWvSZ5"
      },
      "source": [
        "!pip install catboost"
      ],
      "execution_count": null,
      "outputs": []
    },
    {
      "cell_type": "code",
      "metadata": {
        "colab": {
          "base_uri": "https://localhost:8080/",
          "height": 224
        },
        "id": "09MyGNLwkmzI",
        "outputId": "27e4fc24-85a3-45f6-ef51-d64bd742f42b"
      },
      "source": [
        "df_test = pd.read_csv(\"/content/Test_set.csv\")\n",
        "df_test.head()"
      ],
      "execution_count": 9,
      "outputs": [
        {
          "output_type": "execute_result",
          "data": {
            "text/html": [
              "<div>\n",
              "<style scoped>\n",
              "    .dataframe tbody tr th:only-of-type {\n",
              "        vertical-align: middle;\n",
              "    }\n",
              "\n",
              "    .dataframe tbody tr th {\n",
              "        vertical-align: top;\n",
              "    }\n",
              "\n",
              "    .dataframe thead th {\n",
              "        text-align: right;\n",
              "    }\n",
              "</style>\n",
              "<table border=\"1\" class=\"dataframe\">\n",
              "  <thead>\n",
              "    <tr style=\"text-align: right;\">\n",
              "      <th></th>\n",
              "      <th>ID</th>\n",
              "      <th>loan_amnt</th>\n",
              "      <th>loan_term</th>\n",
              "      <th>interest_rate</th>\n",
              "      <th>loan_grade</th>\n",
              "      <th>loan_subgrade</th>\n",
              "      <th>job_experience</th>\n",
              "      <th>home_ownership</th>\n",
              "      <th>annual_income</th>\n",
              "      <th>income_verification_status</th>\n",
              "      <th>loan_purpose</th>\n",
              "      <th>state_code</th>\n",
              "      <th>debt_to_income</th>\n",
              "      <th>delinq_2yrs</th>\n",
              "      <th>public_records</th>\n",
              "      <th>revolving_balance</th>\n",
              "      <th>total_acc</th>\n",
              "      <th>interest_receive</th>\n",
              "      <th>application_type</th>\n",
              "      <th>last_week_pay</th>\n",
              "      <th>total_current_balance</th>\n",
              "      <th>total_revolving_limit</th>\n",
              "    </tr>\n",
              "  </thead>\n",
              "  <tbody>\n",
              "    <tr>\n",
              "      <th>0</th>\n",
              "      <td>4855329</td>\n",
              "      <td>12000</td>\n",
              "      <td>3 years</td>\n",
              "      <td>15.31</td>\n",
              "      <td>C</td>\n",
              "      <td>C2</td>\n",
              "      <td>&lt;5 Years</td>\n",
              "      <td>MORTGAGE</td>\n",
              "      <td>73400.0</td>\n",
              "      <td>Not Verified</td>\n",
              "      <td>debt_consolidation</td>\n",
              "      <td>CA</td>\n",
              "      <td>14.62</td>\n",
              "      <td>0.0</td>\n",
              "      <td>0.0</td>\n",
              "      <td>22156</td>\n",
              "      <td>30.0</td>\n",
              "      <td>2290.24</td>\n",
              "      <td>INDIVIDUAL</td>\n",
              "      <td>87.0</td>\n",
              "      <td>128098.0</td>\n",
              "      <td>25800.0</td>\n",
              "    </tr>\n",
              "    <tr>\n",
              "      <th>1</th>\n",
              "      <td>66862420</td>\n",
              "      <td>12000</td>\n",
              "      <td>3 years</td>\n",
              "      <td>7.26</td>\n",
              "      <td>A</td>\n",
              "      <td>A4</td>\n",
              "      <td>10+ years</td>\n",
              "      <td>MORTGAGE</td>\n",
              "      <td>105000.0</td>\n",
              "      <td>Not Verified</td>\n",
              "      <td>credit_card</td>\n",
              "      <td>VA</td>\n",
              "      <td>11.38</td>\n",
              "      <td>0.0</td>\n",
              "      <td>0.0</td>\n",
              "      <td>7592</td>\n",
              "      <td>14.0</td>\n",
              "      <td>202.68</td>\n",
              "      <td>INDIVIDUAL</td>\n",
              "      <td>13.0</td>\n",
              "      <td>269396.0</td>\n",
              "      <td>23600.0</td>\n",
              "    </tr>\n",
              "    <tr>\n",
              "      <th>2</th>\n",
              "      <td>3637416</td>\n",
              "      <td>15000</td>\n",
              "      <td>3 years</td>\n",
              "      <td>14.33</td>\n",
              "      <td>C</td>\n",
              "      <td>C1</td>\n",
              "      <td>6-10 years</td>\n",
              "      <td>MORTGAGE</td>\n",
              "      <td>50000.0</td>\n",
              "      <td>Verified</td>\n",
              "      <td>debt_consolidation</td>\n",
              "      <td>TX</td>\n",
              "      <td>28.15</td>\n",
              "      <td>0.0</td>\n",
              "      <td>1.0</td>\n",
              "      <td>17983</td>\n",
              "      <td>19.0</td>\n",
              "      <td>1166.24</td>\n",
              "      <td>INDIVIDUAL</td>\n",
              "      <td>30.0</td>\n",
              "      <td>220135.0</td>\n",
              "      <td>34100.0</td>\n",
              "    </tr>\n",
              "    <tr>\n",
              "      <th>3</th>\n",
              "      <td>53682249</td>\n",
              "      <td>12000</td>\n",
              "      <td>3 years</td>\n",
              "      <td>9.99</td>\n",
              "      <td>B</td>\n",
              "      <td>B3</td>\n",
              "      <td>6-10 years</td>\n",
              "      <td>RENT</td>\n",
              "      <td>37000.0</td>\n",
              "      <td>Source Verified</td>\n",
              "      <td>credit_card</td>\n",
              "      <td>NJ</td>\n",
              "      <td>34.32</td>\n",
              "      <td>0.0</td>\n",
              "      <td>0.0</td>\n",
              "      <td>12262</td>\n",
              "      <td>18.0</td>\n",
              "      <td>635.06</td>\n",
              "      <td>INDIVIDUAL</td>\n",
              "      <td>35.0</td>\n",
              "      <td>39436.0</td>\n",
              "      <td>21700.0</td>\n",
              "    </tr>\n",
              "    <tr>\n",
              "      <th>4</th>\n",
              "      <td>53937165</td>\n",
              "      <td>20150</td>\n",
              "      <td>3 years</td>\n",
              "      <td>11.53</td>\n",
              "      <td>B</td>\n",
              "      <td>B5</td>\n",
              "      <td>&lt;5 Years</td>\n",
              "      <td>RENT</td>\n",
              "      <td>75000.0</td>\n",
              "      <td>Source Verified</td>\n",
              "      <td>debt_consolidation</td>\n",
              "      <td>CA</td>\n",
              "      <td>26.74</td>\n",
              "      <td>1.0</td>\n",
              "      <td>0.0</td>\n",
              "      <td>8251</td>\n",
              "      <td>11.0</td>\n",
              "      <td>1232.84</td>\n",
              "      <td>INDIVIDUAL</td>\n",
              "      <td>31.0</td>\n",
              "      <td>52764.0</td>\n",
              "      <td>12000.0</td>\n",
              "    </tr>\n",
              "  </tbody>\n",
              "</table>\n",
              "</div>"
            ],
            "text/plain": [
              "         ID  loan_amnt loan_term  interest_rate loan_grade loan_subgrade  \\\n",
              "0   4855329      12000   3 years          15.31          C            C2   \n",
              "1  66862420      12000   3 years           7.26          A            A4   \n",
              "2   3637416      15000   3 years          14.33          C            C1   \n",
              "3  53682249      12000   3 years           9.99          B            B3   \n",
              "4  53937165      20150   3 years          11.53          B            B5   \n",
              "\n",
              "  job_experience home_ownership  annual_income income_verification_status  \\\n",
              "0       <5 Years       MORTGAGE        73400.0               Not Verified   \n",
              "1      10+ years       MORTGAGE       105000.0               Not Verified   \n",
              "2     6-10 years       MORTGAGE        50000.0                   Verified   \n",
              "3     6-10 years           RENT        37000.0            Source Verified   \n",
              "4       <5 Years           RENT        75000.0            Source Verified   \n",
              "\n",
              "         loan_purpose state_code  debt_to_income  delinq_2yrs  public_records  \\\n",
              "0  debt_consolidation         CA           14.62          0.0             0.0   \n",
              "1         credit_card         VA           11.38          0.0             0.0   \n",
              "2  debt_consolidation         TX           28.15          0.0             1.0   \n",
              "3         credit_card         NJ           34.32          0.0             0.0   \n",
              "4  debt_consolidation         CA           26.74          1.0             0.0   \n",
              "\n",
              "   revolving_balance  total_acc  interest_receive application_type  \\\n",
              "0              22156       30.0           2290.24       INDIVIDUAL   \n",
              "1               7592       14.0            202.68       INDIVIDUAL   \n",
              "2              17983       19.0           1166.24       INDIVIDUAL   \n",
              "3              12262       18.0            635.06       INDIVIDUAL   \n",
              "4               8251       11.0           1232.84       INDIVIDUAL   \n",
              "\n",
              "   last_week_pay  total_current_balance  total_revolving_limit  \n",
              "0           87.0               128098.0                25800.0  \n",
              "1           13.0               269396.0                23600.0  \n",
              "2           30.0               220135.0                34100.0  \n",
              "3           35.0                39436.0                21700.0  \n",
              "4           31.0                52764.0                12000.0  "
            ]
          },
          "metadata": {},
          "execution_count": 9
        }
      ]
    },
    {
      "cell_type": "code",
      "metadata": {
        "colab": {
          "base_uri": "https://localhost:8080/",
          "height": 224
        },
        "id": "j8l4TruxkuuK",
        "outputId": "db450d5f-046e-4e41-ebf1-a421604c9239"
      },
      "source": [
        "df_train = pd.read_csv(\"/content/Train_set.csv\")\n",
        "df_train.head()"
      ],
      "execution_count": 10,
      "outputs": [
        {
          "output_type": "execute_result",
          "data": {
            "text/html": [
              "<div>\n",
              "<style scoped>\n",
              "    .dataframe tbody tr th:only-of-type {\n",
              "        vertical-align: middle;\n",
              "    }\n",
              "\n",
              "    .dataframe tbody tr th {\n",
              "        vertical-align: top;\n",
              "    }\n",
              "\n",
              "    .dataframe thead th {\n",
              "        text-align: right;\n",
              "    }\n",
              "</style>\n",
              "<table border=\"1\" class=\"dataframe\">\n",
              "  <thead>\n",
              "    <tr style=\"text-align: right;\">\n",
              "      <th></th>\n",
              "      <th>ID</th>\n",
              "      <th>loan_amnt</th>\n",
              "      <th>loan_term</th>\n",
              "      <th>interest_rate</th>\n",
              "      <th>loan_grade</th>\n",
              "      <th>loan_subgrade</th>\n",
              "      <th>job_experience</th>\n",
              "      <th>home_ownership</th>\n",
              "      <th>annual_income</th>\n",
              "      <th>income_verification_status</th>\n",
              "      <th>loan_purpose</th>\n",
              "      <th>state_code</th>\n",
              "      <th>debt_to_income</th>\n",
              "      <th>delinq_2yrs</th>\n",
              "      <th>public_records</th>\n",
              "      <th>revolving_balance</th>\n",
              "      <th>total_acc</th>\n",
              "      <th>interest_receive</th>\n",
              "      <th>application_type</th>\n",
              "      <th>last_week_pay</th>\n",
              "      <th>total_current_balance</th>\n",
              "      <th>total_revolving_limit</th>\n",
              "      <th>default</th>\n",
              "    </tr>\n",
              "  </thead>\n",
              "  <tbody>\n",
              "    <tr>\n",
              "      <th>0</th>\n",
              "      <td>72199369</td>\n",
              "      <td>9000</td>\n",
              "      <td>3 years</td>\n",
              "      <td>9.17</td>\n",
              "      <td>B</td>\n",
              "      <td>B2</td>\n",
              "      <td>&lt;5 Years</td>\n",
              "      <td>OWN</td>\n",
              "      <td>85000.0</td>\n",
              "      <td>Not Verified</td>\n",
              "      <td>debt_consolidation</td>\n",
              "      <td>NC</td>\n",
              "      <td>26.68</td>\n",
              "      <td>0.0</td>\n",
              "      <td>0.0</td>\n",
              "      <td>39519</td>\n",
              "      <td>20.0</td>\n",
              "      <td>59.60</td>\n",
              "      <td>INDIVIDUAL</td>\n",
              "      <td>4.0</td>\n",
              "      <td>95493.0</td>\n",
              "      <td>84100.0</td>\n",
              "      <td>0</td>\n",
              "    </tr>\n",
              "    <tr>\n",
              "      <th>1</th>\n",
              "      <td>14257956</td>\n",
              "      <td>18000</td>\n",
              "      <td>3 years</td>\n",
              "      <td>13.65</td>\n",
              "      <td>C</td>\n",
              "      <td>C1</td>\n",
              "      <td>&lt;5 Years</td>\n",
              "      <td>OWN</td>\n",
              "      <td>64000.0</td>\n",
              "      <td>Verified</td>\n",
              "      <td>debt_consolidation</td>\n",
              "      <td>SC</td>\n",
              "      <td>31.67</td>\n",
              "      <td>0.0</td>\n",
              "      <td>1.0</td>\n",
              "      <td>9783</td>\n",
              "      <td>24.0</td>\n",
              "      <td>3348.25</td>\n",
              "      <td>INDIVIDUAL</td>\n",
              "      <td>95.0</td>\n",
              "      <td>185433.0</td>\n",
              "      <td>13500.0</td>\n",
              "      <td>0</td>\n",
              "    </tr>\n",
              "    <tr>\n",
              "      <th>2</th>\n",
              "      <td>66216451</td>\n",
              "      <td>16000</td>\n",
              "      <td>3 years</td>\n",
              "      <td>7.26</td>\n",
              "      <td>A</td>\n",
              "      <td>A4</td>\n",
              "      <td>&lt;5 Years</td>\n",
              "      <td>MORTGAGE</td>\n",
              "      <td>150000.0</td>\n",
              "      <td>Source Verified</td>\n",
              "      <td>debt_consolidation</td>\n",
              "      <td>TX</td>\n",
              "      <td>19.70</td>\n",
              "      <td>2.0</td>\n",
              "      <td>0.0</td>\n",
              "      <td>13641</td>\n",
              "      <td>27.0</td>\n",
              "      <td>276.69</td>\n",
              "      <td>INDIVIDUAL</td>\n",
              "      <td>13.0</td>\n",
              "      <td>180519.0</td>\n",
              "      <td>19300.0</td>\n",
              "      <td>0</td>\n",
              "    </tr>\n",
              "    <tr>\n",
              "      <th>3</th>\n",
              "      <td>46974169</td>\n",
              "      <td>25000</td>\n",
              "      <td>3 years</td>\n",
              "      <td>13.99</td>\n",
              "      <td>C</td>\n",
              "      <td>C4</td>\n",
              "      <td>NaN</td>\n",
              "      <td>MORTGAGE</td>\n",
              "      <td>59800.0</td>\n",
              "      <td>Verified</td>\n",
              "      <td>debt_consolidation</td>\n",
              "      <td>MO</td>\n",
              "      <td>37.39</td>\n",
              "      <td>0.0</td>\n",
              "      <td>0.0</td>\n",
              "      <td>35020</td>\n",
              "      <td>35.0</td>\n",
              "      <td>1106.72</td>\n",
              "      <td>INDIVIDUAL</td>\n",
              "      <td>17.0</td>\n",
              "      <td>183208.0</td>\n",
              "      <td>55400.0</td>\n",
              "      <td>0</td>\n",
              "    </tr>\n",
              "    <tr>\n",
              "      <th>4</th>\n",
              "      <td>46725961</td>\n",
              "      <td>17000</td>\n",
              "      <td>3 years</td>\n",
              "      <td>6.39</td>\n",
              "      <td>A</td>\n",
              "      <td>A2</td>\n",
              "      <td>10+ years</td>\n",
              "      <td>MORTGAGE</td>\n",
              "      <td>72000.0</td>\n",
              "      <td>Source Verified</td>\n",
              "      <td>credit_card</td>\n",
              "      <td>TX</td>\n",
              "      <td>8.92</td>\n",
              "      <td>0.0</td>\n",
              "      <td>0.0</td>\n",
              "      <td>23990</td>\n",
              "      <td>26.0</td>\n",
              "      <td>725.29</td>\n",
              "      <td>INDIVIDUAL</td>\n",
              "      <td>39.0</td>\n",
              "      <td>23990.0</td>\n",
              "      <td>81300.0</td>\n",
              "      <td>0</td>\n",
              "    </tr>\n",
              "  </tbody>\n",
              "</table>\n",
              "</div>"
            ],
            "text/plain": [
              "         ID  loan_amnt loan_term  interest_rate loan_grade loan_subgrade  \\\n",
              "0  72199369       9000   3 years           9.17          B            B2   \n",
              "1  14257956      18000   3 years          13.65          C            C1   \n",
              "2  66216451      16000   3 years           7.26          A            A4   \n",
              "3  46974169      25000   3 years          13.99          C            C4   \n",
              "4  46725961      17000   3 years           6.39          A            A2   \n",
              "\n",
              "  job_experience home_ownership  annual_income income_verification_status  \\\n",
              "0       <5 Years            OWN        85000.0               Not Verified   \n",
              "1       <5 Years            OWN        64000.0                   Verified   \n",
              "2       <5 Years       MORTGAGE       150000.0            Source Verified   \n",
              "3            NaN       MORTGAGE        59800.0                   Verified   \n",
              "4      10+ years       MORTGAGE        72000.0            Source Verified   \n",
              "\n",
              "         loan_purpose state_code  debt_to_income  delinq_2yrs  public_records  \\\n",
              "0  debt_consolidation         NC           26.68          0.0             0.0   \n",
              "1  debt_consolidation         SC           31.67          0.0             1.0   \n",
              "2  debt_consolidation         TX           19.70          2.0             0.0   \n",
              "3  debt_consolidation         MO           37.39          0.0             0.0   \n",
              "4         credit_card         TX            8.92          0.0             0.0   \n",
              "\n",
              "   revolving_balance  total_acc  interest_receive application_type  \\\n",
              "0              39519       20.0             59.60       INDIVIDUAL   \n",
              "1               9783       24.0           3348.25       INDIVIDUAL   \n",
              "2              13641       27.0            276.69       INDIVIDUAL   \n",
              "3              35020       35.0           1106.72       INDIVIDUAL   \n",
              "4              23990       26.0            725.29       INDIVIDUAL   \n",
              "\n",
              "   last_week_pay  total_current_balance  total_revolving_limit  default  \n",
              "0            4.0                95493.0                84100.0        0  \n",
              "1           95.0               185433.0                13500.0        0  \n",
              "2           13.0               180519.0                19300.0        0  \n",
              "3           17.0               183208.0                55400.0        0  \n",
              "4           39.0                23990.0                81300.0        0  "
            ]
          },
          "metadata": {},
          "execution_count": 10
        }
      ]
    },
    {
      "cell_type": "markdown",
      "metadata": {
        "id": "KvAFPP2ulKLC"
      },
      "source": [
        "# **EDA and Data Cleaning**"
      ]
    },
    {
      "cell_type": "code",
      "metadata": {
        "colab": {
          "base_uri": "https://localhost:8080/"
        },
        "id": "Ih0m03g8kx-C",
        "outputId": "534639ee-b464-4068-b137-fd7078aef24f"
      },
      "source": [
        "df_test.shape"
      ],
      "execution_count": 11,
      "outputs": [
        {
          "output_type": "execute_result",
          "data": {
            "text/plain": [
              "(39933, 22)"
            ]
          },
          "metadata": {},
          "execution_count": 11
        }
      ]
    },
    {
      "cell_type": "code",
      "metadata": {
        "colab": {
          "base_uri": "https://localhost:8080/"
        },
        "id": "Xwm1fQ4Km0MQ",
        "outputId": "e80c928e-ba62-40f9-a16d-c76f3437c467"
      },
      "source": [
        "df_train.shape"
      ],
      "execution_count": 12,
      "outputs": [
        {
          "output_type": "execute_result",
          "data": {
            "text/plain": [
              "(93174, 23)"
            ]
          },
          "metadata": {},
          "execution_count": 12
        }
      ]
    },
    {
      "cell_type": "code",
      "metadata": {
        "colab": {
          "base_uri": "https://localhost:8080/"
        },
        "id": "D3yFHMnGm3vc",
        "outputId": "1a77707b-ceeb-4467-b6cf-3b6425574dfd"
      },
      "source": [
        "\n",
        "df_train.isnull().sum()"
      ],
      "execution_count": 14,
      "outputs": [
        {
          "output_type": "execute_result",
          "data": {
            "text/plain": [
              "ID                               0\n",
              "loan_amnt                        0\n",
              "loan_term                        0\n",
              "interest_rate                    0\n",
              "loan_grade                       0\n",
              "loan_subgrade                    0\n",
              "job_experience                4702\n",
              "home_ownership                   0\n",
              "annual_income                    1\n",
              "income_verification_status       0\n",
              "loan_purpose                     0\n",
              "state_code                       0\n",
              "debt_to_income                   0\n",
              "delinq_2yrs                      2\n",
              "public_records                   2\n",
              "revolving_balance                0\n",
              "total_acc                        2\n",
              "interest_receive                 0\n",
              "application_type                 0\n",
              "last_week_pay                 1924\n",
              "total_current_balance         7386\n",
              "total_revolving_limit         7386\n",
              "default                          0\n",
              "dtype: int64"
            ]
          },
          "metadata": {},
          "execution_count": 14
        }
      ]
    },
    {
      "cell_type": "markdown",
      "metadata": {
        "id": "p6JxxC9opuUO"
      },
      "source": [
        "Denotes missing values in the dataset in few of the columns including job experience, last_week_pay, total_current_balance, total_revolving_limit.\n"
      ]
    },
    {
      "cell_type": "code",
      "metadata": {
        "colab": {
          "base_uri": "https://localhost:8080/"
        },
        "id": "Ui_tZ4nNpqKo",
        "outputId": "02dd4896-b048-4a7e-da48-28019a06c1d5"
      },
      "source": [
        "df_train.nunique()"
      ],
      "execution_count": 16,
      "outputs": [
        {
          "output_type": "execute_result",
          "data": {
            "text/plain": [
              "ID                            93174\n",
              "loan_amnt                      1310\n",
              "loan_term                         2\n",
              "interest_rate                   481\n",
              "loan_grade                        7\n",
              "loan_subgrade                    35\n",
              "job_experience                    3\n",
              "home_ownership                    5\n",
              "annual_income                  8667\n",
              "income_verification_status        3\n",
              "loan_purpose                      4\n",
              "state_code                       50\n",
              "debt_to_income                 3996\n",
              "delinq_2yrs                      22\n",
              "public_records                   15\n",
              "revolving_balance             35945\n",
              "total_acc                       102\n",
              "interest_receive              69122\n",
              "application_type                  2\n",
              "last_week_pay                    90\n",
              "total_current_balance         72306\n",
              "total_revolving_limit          4469\n",
              "default                           2\n",
              "dtype: int64"
            ]
          },
          "metadata": {},
          "execution_count": 16
        }
      ]
    },
    {
      "cell_type": "code",
      "metadata": {
        "colab": {
          "base_uri": "https://localhost:8080/",
          "height": 51
        },
        "id": "ogS-uEuCqvz_",
        "outputId": "2fced91e-f3d4-475c-8667-ec14a07ee8dc"
      },
      "source": [
        "def perc_on_bar(plot, feature):\n",
        "    \"\"\"\n",
        "    plot\n",
        "    feature: categorical feature\n",
        "    the function won't work if a column is passed in hue parameter\n",
        "    \"\"\"\n",
        "    total = len(feature)  # length of the column\n",
        "    for p in ax.patches:\n",
        "        percentage = \"{:.1f}%\".format(\n",
        "            100 * p.get_height() / total\n",
        "        )  # percentage of each class of the category\n",
        "        x = p.get_x() + p.get_width() / 2 - 0.05  # width of the plot\n",
        "        y = p.get_y() + p.get_height()  # hieght of the plot\n",
        "        ax.annotate(percentage, (x, y), size=12)  # annotate the percantage\n",
        "    plt.show()  # show the plot\n",
        "plt.figure(figsize=(10, 5))\n"
      ],
      "execution_count": 17,
      "outputs": [
        {
          "output_type": "execute_result",
          "data": {
            "text/plain": [
              "<Figure size 720x360 with 0 Axes>"
            ]
          },
          "metadata": {},
          "execution_count": 17
        },
        {
          "output_type": "display_data",
          "data": {
            "text/plain": [
              "<Figure size 720x360 with 0 Axes>"
            ]
          },
          "metadata": {}
        }
      ]
    },
    {
      "cell_type": "code",
      "metadata": {
        "colab": {
          "base_uri": "https://localhost:8080/",
          "height": 279
        },
        "id": "v2vwHw74tCKM",
        "outputId": "458c7668-1fac-4fbd-cc33-df80e893ae66"
      },
      "source": [
        "ax = sns.countplot(df_train[\"default\"], palette=\"winter\")\n",
        "perc_on_bar(ax, df_train[\"default\"])"
      ],
      "execution_count": 18,
      "outputs": [
        {
          "output_type": "display_data",
          "data": {
            "image/png": "[encoded data removed]",
            "text/plain": [
              "<Figure size 432x288 with 1 Axes>"
            ]
          },
          "metadata": {
            "needs_background": "light"
          }
        }
      ]
    },
    {
      "cell_type": "markdown",
      "metadata": {
        "id": "JOI9wm9Ptc6K"
      },
      "source": [
        "23.8% of the customerss defaulted their loan."
      ]
    },
    {
      "cell_type": "code",
      "metadata": {
        "colab": {
          "base_uri": "https://localhost:8080/",
          "height": 317
        },
        "id": "rHRj1GbStKhb",
        "outputId": "7853aa84-d1e6-4475-ccee-930ade19baba"
      },
      "source": [
        "df_train.describe()"
      ],
      "execution_count": 24,
      "outputs": [
        {
          "output_type": "execute_result",
          "data": {
            "text/html": [
              "<div>\n",
              "<style scoped>\n",
              "    .dataframe tbody tr th:only-of-type {\n",
              "        vertical-align: middle;\n",
              "    }\n",
              "\n",
              "    .dataframe tbody tr th {\n",
              "        vertical-align: top;\n",
              "    }\n",
              "\n",
              "    .dataframe thead th {\n",
              "        text-align: right;\n",
              "    }\n",
              "</style>\n",
              "<table border=\"1\" class=\"dataframe\">\n",
              "  <thead>\n",
              "    <tr style=\"text-align: right;\">\n",
              "      <th></th>\n",
              "      <th>ID</th>\n",
              "      <th>loan_amnt</th>\n",
              "      <th>interest_rate</th>\n",
              "      <th>annual_income</th>\n",
              "      <th>debt_to_income</th>\n",
              "      <th>delinq_2yrs</th>\n",
              "      <th>public_records</th>\n",
              "      <th>revolving_balance</th>\n",
              "      <th>total_acc</th>\n",
              "      <th>interest_receive</th>\n",
              "      <th>last_week_pay</th>\n",
              "      <th>total_current_balance</th>\n",
              "      <th>total_revolving_limit</th>\n",
              "      <th>default</th>\n",
              "    </tr>\n",
              "  </thead>\n",
              "  <tbody>\n",
              "    <tr>\n",
              "      <th>count</th>\n",
              "      <td>9.317400e+04</td>\n",
              "      <td>93174.000000</td>\n",
              "      <td>93174.000000</td>\n",
              "      <td>9.317300e+04</td>\n",
              "      <td>93174.000000</td>\n",
              "      <td>93172.000000</td>\n",
              "      <td>93172.000000</td>\n",
              "      <td>9.317400e+04</td>\n",
              "      <td>93172.000000</td>\n",
              "      <td>93174.000000</td>\n",
              "      <td>91250.000000</td>\n",
              "      <td>8.578800e+04</td>\n",
              "      <td>8.578800e+04</td>\n",
              "      <td>93174.000000</td>\n",
              "    </tr>\n",
              "    <tr>\n",
              "      <th>mean</th>\n",
              "      <td>3.505021e+07</td>\n",
              "      <td>14733.861378</td>\n",
              "      <td>13.233433</td>\n",
              "      <td>7.502826e+04</td>\n",
              "      <td>18.127623</td>\n",
              "      <td>0.316994</td>\n",
              "      <td>0.196121</td>\n",
              "      <td>1.685447e+04</td>\n",
              "      <td>25.248905</td>\n",
              "      <td>1747.263530</td>\n",
              "      <td>58.154882</td>\n",
              "      <td>1.392529e+05</td>\n",
              "      <td>3.208590e+04</td>\n",
              "      <td>0.237502</td>\n",
              "    </tr>\n",
              "    <tr>\n",
              "      <th>std</th>\n",
              "      <td>2.414926e+07</td>\n",
              "      <td>8428.184858</td>\n",
              "      <td>4.368728</td>\n",
              "      <td>6.945478e+04</td>\n",
              "      <td>8.563084</td>\n",
              "      <td>0.880859</td>\n",
              "      <td>0.581188</td>\n",
              "      <td>2.368907e+04</td>\n",
              "      <td>11.855061</td>\n",
              "      <td>2088.236141</td>\n",
              "      <td>44.326560</td>\n",
              "      <td>1.576868e+05</td>\n",
              "      <td>4.705251e+04</td>\n",
              "      <td>0.425555</td>\n",
              "    </tr>\n",
              "    <tr>\n",
              "      <th>min</th>\n",
              "      <td>7.073500e+04</td>\n",
              "      <td>500.000000</td>\n",
              "      <td>5.320000</td>\n",
              "      <td>1.200000e+03</td>\n",
              "      <td>0.000000</td>\n",
              "      <td>0.000000</td>\n",
              "      <td>0.000000</td>\n",
              "      <td>0.000000e+00</td>\n",
              "      <td>1.000000</td>\n",
              "      <td>0.000000</td>\n",
              "      <td>0.000000</td>\n",
              "      <td>0.000000e+00</td>\n",
              "      <td>0.000000e+00</td>\n",
              "      <td>0.000000</td>\n",
              "    </tr>\n",
              "    <tr>\n",
              "      <th>25%</th>\n",
              "      <td>1.085983e+07</td>\n",
              "      <td>8000.000000</td>\n",
              "      <td>9.990000</td>\n",
              "      <td>4.500000e+04</td>\n",
              "      <td>11.930000</td>\n",
              "      <td>0.000000</td>\n",
              "      <td>0.000000</td>\n",
              "      <td>6.433000e+03</td>\n",
              "      <td>17.000000</td>\n",
              "      <td>439.880000</td>\n",
              "      <td>22.000000</td>\n",
              "      <td>2.964200e+04</td>\n",
              "      <td>1.400000e+04</td>\n",
              "      <td>0.000000</td>\n",
              "    </tr>\n",
              "    <tr>\n",
              "      <th>50%</th>\n",
              "      <td>3.710751e+07</td>\n",
              "      <td>13000.000000</td>\n",
              "      <td>12.990000</td>\n",
              "      <td>6.400000e+04</td>\n",
              "      <td>17.640000</td>\n",
              "      <td>0.000000</td>\n",
              "      <td>0.000000</td>\n",
              "      <td>1.185600e+04</td>\n",
              "      <td>24.000000</td>\n",
              "      <td>1070.755000</td>\n",
              "      <td>48.000000</td>\n",
              "      <td>7.936350e+04</td>\n",
              "      <td>2.370000e+04</td>\n",
              "      <td>0.000000</td>\n",
              "    </tr>\n",
              "    <tr>\n",
              "      <th>75%</th>\n",
              "      <td>5.859895e+07</td>\n",
              "      <td>20000.000000</td>\n",
              "      <td>16.200000</td>\n",
              "      <td>9.000000e+04</td>\n",
              "      <td>23.890000</td>\n",
              "      <td>0.000000</td>\n",
              "      <td>0.000000</td>\n",
              "      <td>2.074500e+04</td>\n",
              "      <td>32.000000</td>\n",
              "      <td>2219.612500</td>\n",
              "      <td>83.000000</td>\n",
              "      <td>2.071600e+05</td>\n",
              "      <td>3.970000e+04</td>\n",
              "      <td>0.000000</td>\n",
              "    </tr>\n",
              "    <tr>\n",
              "      <th>max</th>\n",
              "      <td>7.351975e+07</td>\n",
              "      <td>35000.000000</td>\n",
              "      <td>28.990000</td>\n",
              "      <td>9.500000e+06</td>\n",
              "      <td>672.520000</td>\n",
              "      <td>22.000000</td>\n",
              "      <td>49.000000</td>\n",
              "      <td>2.560703e+06</td>\n",
              "      <td>119.000000</td>\n",
              "      <td>23172.310000</td>\n",
              "      <td>291.000000</td>\n",
              "      <td>8.000078e+06</td>\n",
              "      <td>9.999999e+06</td>\n",
              "      <td>1.000000</td>\n",
              "    </tr>\n",
              "  </tbody>\n",
              "</table>\n",
              "</div>"
            ],
            "text/plain": [
              "                 ID     loan_amnt  interest_rate  annual_income  \\\n",
              "count  9.317400e+04  93174.000000   93174.000000   9.317300e+04   \n",
              "mean   3.505021e+07  14733.861378      13.233433   7.502826e+04   \n",
              "std    2.414926e+07   8428.184858       4.368728   6.945478e+04   \n",
              "min    7.073500e+04    500.000000       5.320000   1.200000e+03   \n",
              "25%    1.085983e+07   8000.000000       9.990000   4.500000e+04   \n",
              "50%    3.710751e+07  13000.000000      12.990000   6.400000e+04   \n",
              "75%    5.859895e+07  20000.000000      16.200000   9.000000e+04   \n",
              "max    7.351975e+07  35000.000000      28.990000   9.500000e+06   \n",
              "\n",
              "       debt_to_income   delinq_2yrs  public_records  revolving_balance  \\\n",
              "count    93174.000000  93172.000000    93172.000000       9.317400e+04   \n",
              "mean        18.127623      0.316994        0.196121       1.685447e+04   \n",
              "std          8.563084      0.880859        0.581188       2.368907e+04   \n",
              "min          0.000000      0.000000        0.000000       0.000000e+00   \n",
              "25%         11.930000      0.000000        0.000000       6.433000e+03   \n",
              "50%         17.640000      0.000000        0.000000       1.185600e+04   \n",
              "75%         23.890000      0.000000        0.000000       2.074500e+04   \n",
              "max        672.520000     22.000000       49.000000       2.560703e+06   \n",
              "\n",
              "          total_acc  interest_receive  last_week_pay  total_current_balance  \\\n",
              "count  93172.000000      93174.000000   91250.000000           8.578800e+04   \n",
              "mean      25.248905       1747.263530      58.154882           1.392529e+05   \n",
              "std       11.855061       2088.236141      44.326560           1.576868e+05   \n",
              "min        1.000000          0.000000       0.000000           0.000000e+00   \n",
              "25%       17.000000        439.880000      22.000000           2.964200e+04   \n",
              "50%       24.000000       1070.755000      48.000000           7.936350e+04   \n",
              "75%       32.000000       2219.612500      83.000000           2.071600e+05   \n",
              "max      119.000000      23172.310000     291.000000           8.000078e+06   \n",
              "\n",
              "       total_revolving_limit       default  \n",
              "count           8.578800e+04  93174.000000  \n",
              "mean            3.208590e+04      0.237502  \n",
              "std             4.705251e+04      0.425555  \n",
              "min             0.000000e+00      0.000000  \n",
              "25%             1.400000e+04      0.000000  \n",
              "50%             2.370000e+04      0.000000  \n",
              "75%             3.970000e+04      0.000000  \n",
              "max             9.999999e+06      1.000000  "
            ]
          },
          "metadata": {},
          "execution_count": 24
        }
      ]
    },
    {
      "cell_type": "code",
      "metadata": {
        "id": "b5a0FJiI05me"
      },
      "source": [
        "# General statistics\n",
        "def stats(x):\n",
        "    print(f\"Variable: {x}\")\n",
        "    print(f\"Type of variable: {data[x].dtype}\")\n",
        "    print(f\"Total observations: {data[x].shape[0]}\")\n",
        "    detect_null_val = data[x].isnull().values.any()\n",
        "    if detect_null_val:\n",
        "        print(f\"Missing values: {data[x].isnull().sum()} ({(data[x].isnull().sum() / data[x].isnull().shape[0] *100).round(2)}%)\")\n",
        "    else:\n",
        "        print(f\"Missing values? {data[x].isnull().values.any()}\")\n",
        "    print(f\"Unique values: {data[x].nunique()}\")\n",
        "    if data[x].dtype != \"O\":\n",
        "        print(f\"Min: {int(data[x].min())}\")\n",
        "        print(f\"25%: {int(data[x].quantile(q=[.25]).iloc[-1])}\")\n",
        "        print(f\"Median: {int(data[x].median())}\")\n",
        "        print(f\"75%: {int(data[x].quantile(q=[.75]).iloc[-1])}\")\n",
        "        print(f\"Max: {int(data[x].max())}\")\n",
        "        print(f\"Mean: {data[x].mean()}\")\n",
        "        print(f\"Std dev: {data[x].std()}\")\n",
        "        print(f\"Variance: {data[x].var()}\")\n",
        "        print(f\"Skewness: {scipy.stats.skew(data[x])}\")\n",
        "        print(f\"Kurtosis: {scipy.stats.kurtosis(data[x])}\")\n",
        "        print(\"\")\n",
        "        \n",
        "        # Percentiles 1%, 5%, 95% and 99%\n",
        "        print(\"Percentiles 1%, 5%, 95%, 99%\")\n",
        "        display(data[x].quantile(q=[.01, .05, .95, .99]))\n",
        "        print(\"\")\n",
        "    else:\n",
        "        print(f\"List of unique values: {data[x].unique()}\")\n",
        "\n",
        "# Variable vs. target chart\n",
        "def target(x):\n",
        "    short_0 = data[data.bad_loan == 0].loc[:,x]\n",
        "    short_1 = data[data.bad_loan == 1].loc[:,x]\n",
        "    \n",
        "    a = np.array(short_0)\n",
        "    b = np.array(short_1)\n",
        "    \n",
        "    np.warnings.filterwarnings('ignore')\n",
        "    \n",
        "    plt.hist(a, bins=40, density=True, color=\"g\", alpha = 0.6, label='Not-default', align=\"left\")\n",
        "    plt.hist(b, bins=40, density=True, color=\"r\", alpha = 0.6, label='Default', align=\"right\")\n",
        "    plt.legend(loc='upper right')\n",
        "    plt.title(x, fontsize=10, loc=\"right\")\n",
        "    plt.xlabel('Relative frequency')\n",
        "    plt.ylabel('Absolute frequency')\n",
        "    plt.show()"
      ],
      "execution_count": 42,
      "outputs": []
    },
    {
      "cell_type": "code",
      "metadata": {
        "id": "N1jADhs02NHf"
      },
      "source": [
        "# Boxplot + Hist chart\n",
        "\n",
        "def boxhist(x):\n",
        "    variable = data[x]\n",
        "    np.array(variable).mean()\n",
        "    np.median(variable)\n",
        "    f, (ax_box, ax_hist) = plt.subplots(2, sharex=True, gridspec_kw= {\"height_ratios\": (0.5, 2)})\n",
        "    mean=np.array(variable).mean()\n",
        "    median=np.median(variable)\n",
        "    sns.boxplot(variable, ax=ax_box)\n",
        "    ax_box.axvline(mean, color='r', linestyle='--')\n",
        "    ax_box.axvline(median, color='g', linestyle='-')\n",
        "    sns.distplot(variable, ax=ax_hist)\n",
        "    ax_hist.axvline(mean, color='r', linestyle='--')\n",
        "    ax_hist.axvline(median, color='g', linestyle='-')\n",
        "    plt.title(x, fontsize=10, loc=\"right\")\n",
        "    plt.legend({'Mean':mean,'Median':median})\n",
        "    ax_box.set(xlabel='')\n",
        "    plt.show()\n",
        "\n",
        "# Histogram\n",
        "def hist(x):\n",
        "    plt.hist(data[x], bins=25)\n",
        "    plt.title(x, fontsize=10, loc=\"right\")\n",
        "    plt.xlabel('Relative frequency')\n",
        "    plt.ylabel('Absolute frequency')\n",
        "    plt.show()\n",
        "\n",
        "# Pie chart\n",
        "def pie(x):\n",
        "    data[x].value_counts(dropna=False).plot(kind='pie', figsize=(6,5), fontsize=10, autopct='%1.1f%%', startangle=0, legend=True, textprops={'color':\"white\", 'weight':'bold'});\n",
        "# Number of observations by class\n",
        "    obs = data[x].value_counts(dropna=False)\n",
        "    o = pd.DataFrame(obs)\n",
        "    o.rename(columns={x:\"Freq abs\"}, inplace=True)\n",
        "    o_pc = (data[x].value_counts(normalize=True) * 100).round(2)\n",
        "    obs_pc = pd.DataFrame(o_pc)\n",
        "    obs_pc.rename(columns={x:\"percent %\"}, inplace=True)\n",
        "    obs = pd.concat([o,obs_pc], axis=1)\n",
        "    display(obs)"
      ],
      "execution_count": 44,
      "outputs": []
    },
    {
      "cell_type": "code",
      "metadata": {
        "id": "OjzaP4sn2WS9"
      },
      "source": [
        "# Variable vs. target chart\n",
        "def target(x):\n",
        "    short_0 = data[data.bad_loan == 0].loc[:,x]\n",
        "    short_1 = data[data.bad_loan == 1].loc[:,x]\n",
        "    \n",
        "    a = np.array(short_0)\n",
        "    b = np.array(short_1)\n",
        "    \n",
        "    np.warnings.filterwarnings('ignore')\n",
        "    \n",
        "    plt.hist(a, bins=40, density=True, color=\"g\", alpha = 0.6, label='Not-default', align=\"left\")\n",
        "    plt.hist(b, bins=40, density=True, color=\"r\", alpha = 0.6, label='Default', align=\"right\")\n",
        "    plt.legend(loc='upper right')\n",
        "    plt.title(x, fontsize=10, loc=\"right\")\n",
        "    plt.xlabel('Relative frequency')\n",
        "    plt.ylabel('Absolute frequency')\n",
        "    plt.show()\n",
        "\n",
        "# Boxplot + Hist chart\n",
        "\n",
        "def boxhist(x):\n",
        "    variable = data[x]\n",
        "    np.array(variable).mean()\n",
        "    np.median(variable)\n",
        "    f, (ax_box, ax_hist) = plt.subplots(2, sharex=True, gridspec_kw= {\"height_ratios\": (0.5, 2)})\n",
        "    mean=np.array(variable).mean()\n",
        "    median=np.median(variable)\n",
        "    sns.boxplot(variable, ax=ax_box)\n",
        "    ax_box.axvline(mean, color='r', linestyle='--')\n",
        "    ax_box.axvline(median, color='g', linestyle='-')\n",
        "    sns.distplot(variable, ax=ax_hist)\n",
        "    ax_hist.axvline(mean, color='r', linestyle='--')\n",
        "    ax_hist.axvline(median, color='g', linestyle='-')\n",
        "    plt.title(x, fontsize=10, loc=\"right\")\n",
        "    plt.legend({'Mean':mean,'Median':median})\n",
        "    ax_box.set(xlabel='')\n",
        "    plt.show()\n",
        "\n",
        "# Bar chart\n",
        "def bar(x):\n",
        "    ax = data[x].value_counts().plot(kind=\"bar\", figsize=(6,5), fontsize=10, color=sns.color_palette(\"rocket\"), table=False)\n",
        "    for p in ax.patches:\n",
        "        ax.annotate(\"%.2f\" % p.get_height(), (p.get_x() + p.get_width() / 2., p.get_height()), ha='center', va='center', xytext=(0, 5), textcoords='offset points')\n",
        "    plt.xlabel(x, fontsize=10)\n",
        "    plt.xticks(rotation=0, horizontalalignment=\"center\")\n",
        "    plt.ylabel(\"Absolute values\", fontsize=10)\n",
        "    plt.title(x, fontsize=10, loc=\"right\")\n",
        "    \n",
        "\n",
        "    \n",
        "# Barh chart\n",
        "def barh(x):\n",
        "    data[x].value_counts().plot(kind=\"barh\", figsize=(6,5), fontsize=10, color=sns.color_palette(\"rocket\"), table=False)\n",
        "    plt.xlabel(\"Absolute values\", fontsize=10)\n",
        "    plt.xticks(rotation=0, horizontalalignment=\"center\")\n",
        "    plt.ylabel(x, fontsize=10)\n",
        "    plt.title(x, fontsize=10, loc=\"right\")\n",
        "# Pivot_table_mean\n",
        "def pivot_mean(a, b, c):\n",
        "    type_pivot_mean = data.pivot_table(\n",
        "        columns=a,\n",
        "        index=b,\n",
        "        values=c, aggfunc=np.mean)\n",
        "    display(type_pivot_mean)\n",
        "# Display pivot_table\n",
        "    type_pivot_mean.sort_values(by=[b], ascending=True).plot(kind=\"bar\", title=(b), figsize=(6,4),fontsize = 12);\n",
        "# Pivot_table_sum\n",
        "def pivot_sum(a, b, c):\n",
        "    type_pivot_sum = data.pivot_table(\n",
        "        columns=a,\n",
        "        index=b,\n",
        "        values=c, aggfunc=np.sum)\n",
        "    display(type_pivot_sum)\n",
        "# Display pivot_table\n",
        "    type_pivot_sum.sort_values(by=[b], ascending=True).plot(kind=\"bar\", title=(b), figsize=(6,4),fontsize = 12);\n",
        "\n",
        "    \n",
        "# Scatter plot\n",
        "def scatter(x, y):\n",
        "  targets = data[\"bad_loan\"].unique()\n",
        "  for target in targets:\n",
        "    a = data[data[\"bad_loan\"] == target][x]\n",
        "    b = data[data[\"bad_loan\"] == target][y]\n",
        "    plt.scatter(a, b, label=f\"bad loan: {target}\", marker=\"*\")\n",
        "    \n",
        "    plt.xlabel(x, fontsize=10)\n",
        "    plt.ylabel(y, fontsize=10)\n",
        "    plt.title(\"abc\", fontsize=10, loc=\"right\")\n",
        "    plt.legend()\n",
        "    plt.show()"
      ],
      "execution_count": 46,
      "outputs": []
    },
    {
      "cell_type": "code",
      "metadata": {
        "colab": {
          "base_uri": "https://localhost:8080/",
          "height": 657
        },
        "id": "uPkN69Kf2n0D",
        "outputId": "e1b26368-d8b7-4145-fc24-64704782f657"
      },
      "source": [
        "data.hist(figsize=(10,9), bins=12, ec=\"b\", xlabelsize=8, ylabelsize=8, alpha=0.9, grid=False)\n",
        "plt.tight_layout()\n",
        "plt.show()"
      ],
      "execution_count": 47,
      "outputs": [
        {
          "output_type": "display_data",
          "data": {
            "image/png": "[encoded data removed]",
            "text/plain": [
              "<Figure size 720x648 with 16 Axes>"
            ]
          },
          "metadata": {
            "needs_background": "light"
          }
        }
      ]
    },
    {
      "cell_type": "code",
      "metadata": {
        "colab": {
          "base_uri": "https://localhost:8080/",
          "height": 1000
        },
        "id": "5S6RWzB52n_x",
        "outputId": "d8e4aed9-45d2-4f0d-e165-055ecdb923cb"
      },
      "source": [
        "for col in data.select_dtypes(include=[\"object\"]).columns:\n",
        "    data[col].value_counts().plot(kind=\"bar\", color=sns.color_palette(\"rocket\"))\n",
        "    \n",
        "    plt.xlabel(\"Class\", fontsize=10)\n",
        "    plt.xticks(rotation=90, horizontalalignment=\"center\")\n",
        "    plt.ylabel(\"Count\", fontsize=10)\n",
        "    plt.title(col, fontsize=10, loc=\"right\")\n",
        "    plt.show()"
      ],
      "execution_count": 48,
      "outputs": [
        {
          "output_type": "display_data",
          "data": {
            "image/png": "[encoded data removed]",
            "text/plain": [
              "<Figure size 432x288 with 1 Axes>"
            ]
          },
          "metadata": {
            "needs_background": "light"
          }
        },
        {
          "output_type": "display_data",
          "data": {
            "image/png": "[encoded data removed]",
            "text/plain": [
              "<Figure size 432x288 with 1 Axes>"
            ]
          },
          "metadata": {
            "needs_background": "light"
          }
        },
        {
          "output_type": "display_data",
          "data": {
            "image/png": "[encoded data removed]",
            "text/plain": [
              "<Figure size 432x288 with 1 Axes>"
            ]
          },
          "metadata": {
            "needs_background": "light"
          }
        },
        {
          "output_type": "display_data",
          "data": {
            "image/png": "[encoded data removed]",
            "text/plain": [
              "<Figure size 432x288 with 1 Axes>"
            ]
          },
          "metadata": {
            "needs_background": "light"
          }
        },
        {
          "output_type": "display_data",
          "data": {
            "image/png": "[encoded data removed]",
            "text/plain": [
              "<Figure size 432x288 with 1 Axes>"
            ]
          },
          "metadata": {
            "needs_background": "light"
          }
        },
        {
          "output_type": "display_data",
          "data": {
            "image/png": "[encoded data removed]",
            "text/plain": [
              "<Figure size 432x288 with 1 Axes>"
            ]
          },
          "metadata": {
            "needs_background": "light"
          }
        },
        {
          "output_type": "display_data",
          "data": {
            "image/png": "[encoded data removed]",
            "text/plain": [
              "<Figure size 432x288 with 1 Axes>"
            ]
          },
          "metadata": {
            "needs_background": "light"
          }
        },
        {
          "output_type": "display_data",
          "data": {
            "image/png": "[encoded data removed]",
            "text/plain": [
              "<Figure size 432x288 with 1 Axes>"
            ]
          },
          "metadata": {
            "needs_background": "light"
          }
        },
        {
          "output_type": "display_data",
          "data": {
            "image/png": "[encoded data removed]",
            "text/plain": [
              "<Figure size 432x288 with 1 Axes>"
            ]
          },
          "metadata": {
            "needs_background": "light"
          }
        }
      ]
    },
    {
      "cell_type": "code",
      "metadata": {
        "colab": {
          "base_uri": "https://localhost:8080/",
          "height": 711
        },
        "id": "vqcyL2Gu9_F2",
        "outputId": "ae86e51f-e672-4a28-8a58-c54f0f4cf6c3"
      },
      "source": [
        "cm = data.corr()\n",
        "plt.figure(figsize=(20,10))\n",
        "sns.heatmap(cm, annot=True, cmap = 'inferno')"
      ],
      "execution_count": 70,
      "outputs": [
        {
          "output_type": "execute_result",
          "data": {
            "text/plain": [
              "<matplotlib.axes._subplots.AxesSubplot at 0x7f4de292fb90>"
            ]
          },
          "metadata": {},
          "execution_count": 70
        },
        {
          "output_type": "display_data",
          "data": {
            "image/png": "[encoded data removed]",
            "text/plain": [
              "<Figure size 1440x720 with 2 Axes>"
            ]
          },
          "metadata": {
            "needs_background": "light"
          }
        }
      ]
    },
    {
      "cell_type": "code",
      "metadata": {
        "colab": {
          "base_uri": "https://localhost:8080/"
        },
        "id": "wvpw6f8IvtNO",
        "outputId": "877ff6e2-683d-45c2-e560-f3d064cbb691"
      },
      "source": [
        "df_train.columns"
      ],
      "execution_count": 25,
      "outputs": [
        {
          "output_type": "execute_result",
          "data": {
            "text/plain": [
              "Index(['ID', 'loan_amnt', 'loan_term', 'interest_rate', 'loan_grade',\n",
              "       'loan_subgrade', 'job_experience', 'home_ownership', 'annual_income',\n",
              "       'income_verification_status', 'loan_purpose', 'state_code',\n",
              "       'debt_to_income', 'delinq_2yrs', 'public_records', 'revolving_balance',\n",
              "       'total_acc', 'interest_receive', 'application_type', 'last_week_pay',\n",
              "       'total_current_balance', 'total_revolving_limit', 'default'],\n",
              "      dtype='object')"
            ]
          },
          "metadata": {},
          "execution_count": 25
        }
      ]
    },
    {
      "cell_type": "code",
      "metadata": {
        "id": "-CU-n7rxwQxA"
      },
      "source": [
        "##Dealing with missing data\n",
        "data = df_train.copy()\n",
        "data.fillna(data.mean(),inplace = True)"
      ],
      "execution_count": 26,
      "outputs": []
    },
    {
      "cell_type": "code",
      "metadata": {
        "colab": {
          "base_uri": "https://localhost:8080/"
        },
        "id": "5Vo1u_WPw1Hu",
        "outputId": "7167bba5-7150-41bd-8c52-5629cde97310"
      },
      "source": [
        "data.isnull().sum()"
      ],
      "execution_count": 28,
      "outputs": [
        {
          "output_type": "execute_result",
          "data": {
            "text/plain": [
              "ID                               0\n",
              "loan_amnt                        0\n",
              "loan_term                        0\n",
              "interest_rate                    0\n",
              "loan_grade                       0\n",
              "loan_subgrade                    0\n",
              "job_experience                4702\n",
              "home_ownership                   0\n",
              "annual_income                    0\n",
              "income_verification_status       0\n",
              "loan_purpose                     0\n",
              "state_code                       0\n",
              "debt_to_income                   0\n",
              "delinq_2yrs                      0\n",
              "public_records                   0\n",
              "revolving_balance                0\n",
              "total_acc                        0\n",
              "interest_receive                 0\n",
              "application_type                 0\n",
              "last_week_pay                    0\n",
              "total_current_balance            0\n",
              "total_revolving_limit            0\n",
              "default                          0\n",
              "dtype: int64"
            ]
          },
          "metadata": {},
          "execution_count": 28
        }
      ]
    },
    {
      "cell_type": "code",
      "metadata": {
        "colab": {
          "base_uri": "https://localhost:8080/"
        },
        "id": "DOPbolUyw5-U",
        "outputId": "fefabd0a-2dd5-42f8-8e0b-984a5ca9ba80"
      },
      "source": [
        "data.job_experience.value_counts()"
      ],
      "execution_count": 32,
      "outputs": [
        {
          "output_type": "execute_result",
          "data": {
            "text/plain": [
              "<5 Years      40610\n",
              "10+ years     30362\n",
              "6-10 years    17500\n",
              "Name: job_experience, dtype: int64"
            ]
          },
          "metadata": {},
          "execution_count": 32
        }
      ]
    },
    {
      "cell_type": "code",
      "metadata": {
        "colab": {
          "base_uri": "https://localhost:8080/"
        },
        "id": "-eYw_X17xXl4",
        "outputId": "ab5ce5e5-9a0a-420d-bd2f-088a89a8e3f2"
      },
      "source": [
        "data.shape"
      ],
      "execution_count": 33,
      "outputs": [
        {
          "output_type": "execute_result",
          "data": {
            "text/plain": [
              "(93174, 23)"
            ]
          },
          "metadata": {},
          "execution_count": 33
        }
      ]
    },
    {
      "cell_type": "code",
      "metadata": {
        "colab": {
          "base_uri": "https://localhost:8080/"
        },
        "id": "Xq0eb_2gyPn2",
        "outputId": "a437d6bb-260f-4cd3-f9cc-adcb98a74c4c"
      },
      "source": [
        "data['default'].value_counts()"
      ],
      "execution_count": 34,
      "outputs": [
        {
          "output_type": "execute_result",
          "data": {
            "text/plain": [
              "0    71045\n",
              "1    22129\n",
              "Name: default, dtype: int64"
            ]
          },
          "metadata": {},
          "execution_count": 34
        }
      ]
    },
    {
      "cell_type": "code",
      "metadata": {
        "colab": {
          "base_uri": "https://localhost:8080/",
          "height": 317
        },
        "id": "zgtb7kbo0hHw",
        "outputId": "5ba21218-db7d-4f0f-cccb-95070b022695"
      },
      "source": [
        "data.describe()"
      ],
      "execution_count": 49,
      "outputs": [
        {
          "output_type": "execute_result",
          "data": {
            "text/html": [
              "<div>\n",
              "<style scoped>\n",
              "    .dataframe tbody tr th:only-of-type {\n",
              "        vertical-align: middle;\n",
              "    }\n",
              "\n",
              "    .dataframe tbody tr th {\n",
              "        vertical-align: top;\n",
              "    }\n",
              "\n",
              "    .dataframe thead th {\n",
              "        text-align: right;\n",
              "    }\n",
              "</style>\n",
              "<table border=\"1\" class=\"dataframe\">\n",
              "  <thead>\n",
              "    <tr style=\"text-align: right;\">\n",
              "      <th></th>\n",
              "      <th>ID</th>\n",
              "      <th>loan_amnt</th>\n",
              "      <th>interest_rate</th>\n",
              "      <th>annual_income</th>\n",
              "      <th>debt_to_income</th>\n",
              "      <th>delinq_2yrs</th>\n",
              "      <th>public_records</th>\n",
              "      <th>revolving_balance</th>\n",
              "      <th>total_acc</th>\n",
              "      <th>interest_receive</th>\n",
              "      <th>last_week_pay</th>\n",
              "      <th>total_current_balance</th>\n",
              "      <th>total_revolving_limit</th>\n",
              "      <th>default</th>\n",
              "    </tr>\n",
              "  </thead>\n",
              "  <tbody>\n",
              "    <tr>\n",
              "      <th>count</th>\n",
              "      <td>9.317400e+04</td>\n",
              "      <td>93174.000000</td>\n",
              "      <td>93174.000000</td>\n",
              "      <td>9.317400e+04</td>\n",
              "      <td>93174.000000</td>\n",
              "      <td>93174.000000</td>\n",
              "      <td>93174.000000</td>\n",
              "      <td>9.317400e+04</td>\n",
              "      <td>93174.000000</td>\n",
              "      <td>93174.000000</td>\n",
              "      <td>93174.000000</td>\n",
              "      <td>9.317400e+04</td>\n",
              "      <td>9.317400e+04</td>\n",
              "      <td>93174.000000</td>\n",
              "    </tr>\n",
              "    <tr>\n",
              "      <th>mean</th>\n",
              "      <td>3.505021e+07</td>\n",
              "      <td>14733.861378</td>\n",
              "      <td>13.233433</td>\n",
              "      <td>7.502826e+04</td>\n",
              "      <td>18.127623</td>\n",
              "      <td>0.316994</td>\n",
              "      <td>0.196121</td>\n",
              "      <td>1.685447e+04</td>\n",
              "      <td>25.248905</td>\n",
              "      <td>1747.263530</td>\n",
              "      <td>58.154882</td>\n",
              "      <td>1.392529e+05</td>\n",
              "      <td>3.208590e+04</td>\n",
              "      <td>0.237502</td>\n",
              "    </tr>\n",
              "    <tr>\n",
              "      <th>std</th>\n",
              "      <td>2.414926e+07</td>\n",
              "      <td>8428.184858</td>\n",
              "      <td>4.368728</td>\n",
              "      <td>6.945441e+04</td>\n",
              "      <td>8.563084</td>\n",
              "      <td>0.880850</td>\n",
              "      <td>0.581182</td>\n",
              "      <td>2.368907e+04</td>\n",
              "      <td>11.854934</td>\n",
              "      <td>2088.236141</td>\n",
              "      <td>43.866507</td>\n",
              "      <td>1.513077e+05</td>\n",
              "      <td>4.514904e+04</td>\n",
              "      <td>0.425555</td>\n",
              "    </tr>\n",
              "    <tr>\n",
              "      <th>min</th>\n",
              "      <td>7.073500e+04</td>\n",
              "      <td>500.000000</td>\n",
              "      <td>5.320000</td>\n",
              "      <td>1.200000e+03</td>\n",
              "      <td>0.000000</td>\n",
              "      <td>0.000000</td>\n",
              "      <td>0.000000</td>\n",
              "      <td>0.000000e+00</td>\n",
              "      <td>1.000000</td>\n",
              "      <td>0.000000</td>\n",
              "      <td>0.000000</td>\n",
              "      <td>0.000000e+00</td>\n",
              "      <td>0.000000e+00</td>\n",
              "      <td>0.000000</td>\n",
              "    </tr>\n",
              "    <tr>\n",
              "      <th>25%</th>\n",
              "      <td>1.085983e+07</td>\n",
              "      <td>8000.000000</td>\n",
              "      <td>9.990000</td>\n",
              "      <td>4.500000e+04</td>\n",
              "      <td>11.930000</td>\n",
              "      <td>0.000000</td>\n",
              "      <td>0.000000</td>\n",
              "      <td>6.433000e+03</td>\n",
              "      <td>17.000000</td>\n",
              "      <td>439.880000</td>\n",
              "      <td>22.000000</td>\n",
              "      <td>3.195300e+04</td>\n",
              "      <td>1.470000e+04</td>\n",
              "      <td>0.000000</td>\n",
              "    </tr>\n",
              "    <tr>\n",
              "      <th>50%</th>\n",
              "      <td>3.710751e+07</td>\n",
              "      <td>13000.000000</td>\n",
              "      <td>12.990000</td>\n",
              "      <td>6.400000e+04</td>\n",
              "      <td>17.640000</td>\n",
              "      <td>0.000000</td>\n",
              "      <td>0.000000</td>\n",
              "      <td>1.185600e+04</td>\n",
              "      <td>24.000000</td>\n",
              "      <td>1070.755000</td>\n",
              "      <td>48.000000</td>\n",
              "      <td>9.843500e+04</td>\n",
              "      <td>2.570000e+04</td>\n",
              "      <td>0.000000</td>\n",
              "    </tr>\n",
              "    <tr>\n",
              "      <th>75%</th>\n",
              "      <td>5.859895e+07</td>\n",
              "      <td>20000.000000</td>\n",
              "      <td>16.200000</td>\n",
              "      <td>9.000000e+04</td>\n",
              "      <td>23.890000</td>\n",
              "      <td>0.000000</td>\n",
              "      <td>0.000000</td>\n",
              "      <td>2.074500e+04</td>\n",
              "      <td>32.000000</td>\n",
              "      <td>2219.612500</td>\n",
              "      <td>83.000000</td>\n",
              "      <td>1.949948e+05</td>\n",
              "      <td>3.787500e+04</td>\n",
              "      <td>0.000000</td>\n",
              "    </tr>\n",
              "    <tr>\n",
              "      <th>max</th>\n",
              "      <td>7.351975e+07</td>\n",
              "      <td>35000.000000</td>\n",
              "      <td>28.990000</td>\n",
              "      <td>9.500000e+06</td>\n",
              "      <td>672.520000</td>\n",
              "      <td>22.000000</td>\n",
              "      <td>49.000000</td>\n",
              "      <td>2.560703e+06</td>\n",
              "      <td>119.000000</td>\n",
              "      <td>23172.310000</td>\n",
              "      <td>291.000000</td>\n",
              "      <td>8.000078e+06</td>\n",
              "      <td>9.999999e+06</td>\n",
              "      <td>1.000000</td>\n",
              "    </tr>\n",
              "  </tbody>\n",
              "</table>\n",
              "</div>"
            ],
            "text/plain": [
              "                 ID     loan_amnt  interest_rate  annual_income  \\\n",
              "count  9.317400e+04  93174.000000   93174.000000   9.317400e+04   \n",
              "mean   3.505021e+07  14733.861378      13.233433   7.502826e+04   \n",
              "std    2.414926e+07   8428.184858       4.368728   6.945441e+04   \n",
              "min    7.073500e+04    500.000000       5.320000   1.200000e+03   \n",
              "25%    1.085983e+07   8000.000000       9.990000   4.500000e+04   \n",
              "50%    3.710751e+07  13000.000000      12.990000   6.400000e+04   \n",
              "75%    5.859895e+07  20000.000000      16.200000   9.000000e+04   \n",
              "max    7.351975e+07  35000.000000      28.990000   9.500000e+06   \n",
              "\n",
              "       debt_to_income   delinq_2yrs  public_records  revolving_balance  \\\n",
              "count    93174.000000  93174.000000    93174.000000       9.317400e+04   \n",
              "mean        18.127623      0.316994        0.196121       1.685447e+04   \n",
              "std          8.563084      0.880850        0.581182       2.368907e+04   \n",
              "min          0.000000      0.000000        0.000000       0.000000e+00   \n",
              "25%         11.930000      0.000000        0.000000       6.433000e+03   \n",
              "50%         17.640000      0.000000        0.000000       1.185600e+04   \n",
              "75%         23.890000      0.000000        0.000000       2.074500e+04   \n",
              "max        672.520000     22.000000       49.000000       2.560703e+06   \n",
              "\n",
              "          total_acc  interest_receive  last_week_pay  total_current_balance  \\\n",
              "count  93174.000000      93174.000000   93174.000000           9.317400e+04   \n",
              "mean      25.248905       1747.263530      58.154882           1.392529e+05   \n",
              "std       11.854934       2088.236141      43.866507           1.513077e+05   \n",
              "min        1.000000          0.000000       0.000000           0.000000e+00   \n",
              "25%       17.000000        439.880000      22.000000           3.195300e+04   \n",
              "50%       24.000000       1070.755000      48.000000           9.843500e+04   \n",
              "75%       32.000000       2219.612500      83.000000           1.949948e+05   \n",
              "max      119.000000      23172.310000     291.000000           8.000078e+06   \n",
              "\n",
              "       total_revolving_limit       default  \n",
              "count           9.317400e+04  93174.000000  \n",
              "mean            3.208590e+04      0.237502  \n",
              "std             4.514904e+04      0.425555  \n",
              "min             0.000000e+00      0.000000  \n",
              "25%             1.470000e+04      0.000000  \n",
              "50%             2.570000e+04      0.000000  \n",
              "75%             3.787500e+04      0.000000  \n",
              "max             9.999999e+06      1.000000  "
            ]
          },
          "metadata": {},
          "execution_count": 49
        }
      ]
    },
    {
      "cell_type": "code",
      "metadata": {
        "id": "9ISrqeGG3Jg_"
      },
      "source": [
        "##Dealing with outliers\n",
        "\n",
        "# through IQR score method\n",
        "Q1 = data['annual_income'].quantile(0.25)\n",
        "Q3 = data['annual_income'].quantile(0.75)\n",
        "IQR = Q3 - Q1\n",
        "data['annual_income'] = data.annual_income[~((data.annual_income < (Q1 - 1.5 * IQR)) |(data.annual_income > (Q3 + 1.5 * IQR)))]"
      ],
      "execution_count": 51,
      "outputs": []
    },
    {
      "cell_type": "code",
      "metadata": {
        "id": "KVdH3cCe38gP"
      },
      "source": [
        "##Dealing with outliers\n",
        "\n",
        "# through IQR score method\n",
        "Q1 = data['revolving_balance'].quantile(0.25)\n",
        "Q3 = data['revolving_balance'].quantile(0.75)\n",
        "IQR = Q3 - Q1\n",
        "data['revolving_balance'] = data.revolving_balance[~((data.revolving_balance < (Q1 - 1.5 * IQR)) |(data.revolving_balance > (Q3 + 1.5 * IQR)))]"
      ],
      "execution_count": 53,
      "outputs": []
    },
    {
      "cell_type": "code",
      "metadata": {
        "id": "1Dw5pmvi4qrQ"
      },
      "source": [
        "##Dealing with outliers\n",
        "\n",
        "# through IQR score method\n",
        "Q1 = data['total_revolving_limit'].quantile(0.25)\n",
        "Q3 = data['total_revolving_limit'].quantile(0.75)\n",
        "IQR = Q3 - Q1\n",
        "data['total_revolving_limit'] = data.total_revolving_limit[~((data.total_revolving_limit < (Q1 - 1.5 * IQR)) |(data.total_revolving_limit > (Q3 + 1.5 * IQR)))]"
      ],
      "execution_count": 54,
      "outputs": []
    },
    {
      "cell_type": "code",
      "metadata": {
        "colab": {
          "base_uri": "https://localhost:8080/",
          "height": 317
        },
        "id": "E4zkdVjr5IxA",
        "outputId": "02854e09-5cc7-4c3e-986f-dc9202b5ef9b"
      },
      "source": [
        "data.describe()"
      ],
      "execution_count": 55,
      "outputs": [
        {
          "output_type": "execute_result",
          "data": {
            "text/html": [
              "<div>\n",
              "<style scoped>\n",
              "    .dataframe tbody tr th:only-of-type {\n",
              "        vertical-align: middle;\n",
              "    }\n",
              "\n",
              "    .dataframe tbody tr th {\n",
              "        vertical-align: top;\n",
              "    }\n",
              "\n",
              "    .dataframe thead th {\n",
              "        text-align: right;\n",
              "    }\n",
              "</style>\n",
              "<table border=\"1\" class=\"dataframe\">\n",
              "  <thead>\n",
              "    <tr style=\"text-align: right;\">\n",
              "      <th></th>\n",
              "      <th>ID</th>\n",
              "      <th>loan_amnt</th>\n",
              "      <th>interest_rate</th>\n",
              "      <th>annual_income</th>\n",
              "      <th>debt_to_income</th>\n",
              "      <th>delinq_2yrs</th>\n",
              "      <th>public_records</th>\n",
              "      <th>revolving_balance</th>\n",
              "      <th>total_acc</th>\n",
              "      <th>interest_receive</th>\n",
              "      <th>last_week_pay</th>\n",
              "      <th>total_current_balance</th>\n",
              "      <th>total_revolving_limit</th>\n",
              "      <th>default</th>\n",
              "    </tr>\n",
              "  </thead>\n",
              "  <tbody>\n",
              "    <tr>\n",
              "      <th>count</th>\n",
              "      <td>9.317400e+04</td>\n",
              "      <td>93174.000000</td>\n",
              "      <td>93174.000000</td>\n",
              "      <td>88973.000000</td>\n",
              "      <td>93174.000000</td>\n",
              "      <td>93174.000000</td>\n",
              "      <td>93174.000000</td>\n",
              "      <td>88130.000000</td>\n",
              "      <td>93174.000000</td>\n",
              "      <td>93174.000000</td>\n",
              "      <td>93174.000000</td>\n",
              "      <td>9.317400e+04</td>\n",
              "      <td>87180.000000</td>\n",
              "      <td>93174.000000</td>\n",
              "    </tr>\n",
              "    <tr>\n",
              "      <th>mean</th>\n",
              "      <td>3.505021e+07</td>\n",
              "      <td>14733.861378</td>\n",
              "      <td>13.233433</td>\n",
              "      <td>67372.254695</td>\n",
              "      <td>18.127623</td>\n",
              "      <td>0.316994</td>\n",
              "      <td>0.196121</td>\n",
              "      <td>13469.358788</td>\n",
              "      <td>25.248905</td>\n",
              "      <td>1747.263530</td>\n",
              "      <td>58.154882</td>\n",
              "      <td>1.392529e+05</td>\n",
              "      <td>26305.736622</td>\n",
              "      <td>0.237502</td>\n",
              "    </tr>\n",
              "    <tr>\n",
              "      <th>std</th>\n",
              "      <td>2.414926e+07</td>\n",
              "      <td>8428.184858</td>\n",
              "      <td>4.368728</td>\n",
              "      <td>29800.720757</td>\n",
              "      <td>8.563084</td>\n",
              "      <td>0.880850</td>\n",
              "      <td>0.581182</td>\n",
              "      <td>9456.509405</td>\n",
              "      <td>11.854934</td>\n",
              "      <td>2088.236141</td>\n",
              "      <td>43.866507</td>\n",
              "      <td>1.513077e+05</td>\n",
              "      <td>15401.104426</td>\n",
              "      <td>0.425555</td>\n",
              "    </tr>\n",
              "    <tr>\n",
              "      <th>min</th>\n",
              "      <td>7.073500e+04</td>\n",
              "      <td>500.000000</td>\n",
              "      <td>5.320000</td>\n",
              "      <td>1200.000000</td>\n",
              "      <td>0.000000</td>\n",
              "      <td>0.000000</td>\n",
              "      <td>0.000000</td>\n",
              "      <td>0.000000</td>\n",
              "      <td>1.000000</td>\n",
              "      <td>0.000000</td>\n",
              "      <td>0.000000</td>\n",
              "      <td>0.000000e+00</td>\n",
              "      <td>0.000000</td>\n",
              "      <td>0.000000</td>\n",
              "    </tr>\n",
              "    <tr>\n",
              "      <th>25%</th>\n",
              "      <td>1.085983e+07</td>\n",
              "      <td>8000.000000</td>\n",
              "      <td>9.990000</td>\n",
              "      <td>45000.000000</td>\n",
              "      <td>11.930000</td>\n",
              "      <td>0.000000</td>\n",
              "      <td>0.000000</td>\n",
              "      <td>6174.000000</td>\n",
              "      <td>17.000000</td>\n",
              "      <td>439.880000</td>\n",
              "      <td>22.000000</td>\n",
              "      <td>3.195300e+04</td>\n",
              "      <td>14100.000000</td>\n",
              "      <td>0.000000</td>\n",
              "    </tr>\n",
              "    <tr>\n",
              "      <th>50%</th>\n",
              "      <td>3.710751e+07</td>\n",
              "      <td>13000.000000</td>\n",
              "      <td>12.990000</td>\n",
              "      <td>62000.000000</td>\n",
              "      <td>17.640000</td>\n",
              "      <td>0.000000</td>\n",
              "      <td>0.000000</td>\n",
              "      <td>11189.000000</td>\n",
              "      <td>24.000000</td>\n",
              "      <td>1070.755000</td>\n",
              "      <td>48.000000</td>\n",
              "      <td>9.843500e+04</td>\n",
              "      <td>24000.000000</td>\n",
              "      <td>0.000000</td>\n",
              "    </tr>\n",
              "    <tr>\n",
              "      <th>75%</th>\n",
              "      <td>5.859895e+07</td>\n",
              "      <td>20000.000000</td>\n",
              "      <td>16.200000</td>\n",
              "      <td>85000.000000</td>\n",
              "      <td>23.890000</td>\n",
              "      <td>0.000000</td>\n",
              "      <td>0.000000</td>\n",
              "      <td>18775.000000</td>\n",
              "      <td>32.000000</td>\n",
              "      <td>2219.612500</td>\n",
              "      <td>83.000000</td>\n",
              "      <td>1.949948e+05</td>\n",
              "      <td>33700.000000</td>\n",
              "      <td>0.000000</td>\n",
              "    </tr>\n",
              "    <tr>\n",
              "      <th>max</th>\n",
              "      <td>7.351975e+07</td>\n",
              "      <td>35000.000000</td>\n",
              "      <td>28.990000</td>\n",
              "      <td>157500.000000</td>\n",
              "      <td>672.520000</td>\n",
              "      <td>22.000000</td>\n",
              "      <td>49.000000</td>\n",
              "      <td>42211.000000</td>\n",
              "      <td>119.000000</td>\n",
              "      <td>23172.310000</td>\n",
              "      <td>291.000000</td>\n",
              "      <td>8.000078e+06</td>\n",
              "      <td>72600.000000</td>\n",
              "      <td>1.000000</td>\n",
              "    </tr>\n",
              "  </tbody>\n",
              "</table>\n",
              "</div>"
            ],
            "text/plain": [
              "                 ID     loan_amnt  interest_rate  annual_income  \\\n",
              "count  9.317400e+04  93174.000000   93174.000000   88973.000000   \n",
              "mean   3.505021e+07  14733.861378      13.233433   67372.254695   \n",
              "std    2.414926e+07   8428.184858       4.368728   29800.720757   \n",
              "min    7.073500e+04    500.000000       5.320000    1200.000000   \n",
              "25%    1.085983e+07   8000.000000       9.990000   45000.000000   \n",
              "50%    3.710751e+07  13000.000000      12.990000   62000.000000   \n",
              "75%    5.859895e+07  20000.000000      16.200000   85000.000000   \n",
              "max    7.351975e+07  35000.000000      28.990000  157500.000000   \n",
              "\n",
              "       debt_to_income   delinq_2yrs  public_records  revolving_balance  \\\n",
              "count    93174.000000  93174.000000    93174.000000       88130.000000   \n",
              "mean        18.127623      0.316994        0.196121       13469.358788   \n",
              "std          8.563084      0.880850        0.581182        9456.509405   \n",
              "min          0.000000      0.000000        0.000000           0.000000   \n",
              "25%         11.930000      0.000000        0.000000        6174.000000   \n",
              "50%         17.640000      0.000000        0.000000       11189.000000   \n",
              "75%         23.890000      0.000000        0.000000       18775.000000   \n",
              "max        672.520000     22.000000       49.000000       42211.000000   \n",
              "\n",
              "          total_acc  interest_receive  last_week_pay  total_current_balance  \\\n",
              "count  93174.000000      93174.000000   93174.000000           9.317400e+04   \n",
              "mean      25.248905       1747.263530      58.154882           1.392529e+05   \n",
              "std       11.854934       2088.236141      43.866507           1.513077e+05   \n",
              "min        1.000000          0.000000       0.000000           0.000000e+00   \n",
              "25%       17.000000        439.880000      22.000000           3.195300e+04   \n",
              "50%       24.000000       1070.755000      48.000000           9.843500e+04   \n",
              "75%       32.000000       2219.612500      83.000000           1.949948e+05   \n",
              "max      119.000000      23172.310000     291.000000           8.000078e+06   \n",
              "\n",
              "       total_revolving_limit       default  \n",
              "count           87180.000000  93174.000000  \n",
              "mean            26305.736622      0.237502  \n",
              "std             15401.104426      0.425555  \n",
              "min                 0.000000      0.000000  \n",
              "25%             14100.000000      0.000000  \n",
              "50%             24000.000000      0.000000  \n",
              "75%             33700.000000      0.000000  \n",
              "max             72600.000000      1.000000  "
            ]
          },
          "metadata": {},
          "execution_count": 55
        }
      ]
    },
    {
      "cell_type": "code",
      "metadata": {
        "colab": {
          "base_uri": "https://localhost:8080/"
        },
        "id": "0rhIlLuD5OVs",
        "outputId": "04014cbb-e461-4f26-c755-582defc01d6c"
      },
      "source": [
        "##filling null in job_experience\n",
        "\n",
        "data[\"job_experience\"] = data.job_experience.fillna(data.job_experience.value_counts().index[0])\n",
        "print(f\"Imputation done. Missing values: {data.job_experience.isnull().sum()}\")"
      ],
      "execution_count": 59,
      "outputs": [
        {
          "output_type": "stream",
          "name": "stdout",
          "text": [
            "Imputation done. Missing values: 0\n"
          ]
        }
      ]
    },
    {
      "cell_type": "code",
      "metadata": {
        "colab": {
          "base_uri": "https://localhost:8080/"
        },
        "id": "ybskKrEN5f9_",
        "outputId": "c8dcde07-34c5-40c4-c521-ae3a31a7e65d"
      },
      "source": [
        "data.isnull().sum()"
      ],
      "execution_count": 63,
      "outputs": [
        {
          "output_type": "execute_result",
          "data": {
            "text/plain": [
              "ID                               0\n",
              "loan_amnt                        0\n",
              "loan_term                        0\n",
              "interest_rate                    0\n",
              "loan_grade                       0\n",
              "loan_subgrade                    0\n",
              "job_experience                   0\n",
              "home_ownership                   0\n",
              "annual_income                 4201\n",
              "income_verification_status       0\n",
              "loan_purpose                     0\n",
              "state_code                       0\n",
              "debt_to_income                   0\n",
              "delinq_2yrs                      0\n",
              "public_records                   0\n",
              "revolving_balance             5044\n",
              "total_acc                        0\n",
              "interest_receive                 0\n",
              "application_type                 0\n",
              "last_week_pay                    0\n",
              "total_current_balance            0\n",
              "total_revolving_limit         5994\n",
              "default                          0\n",
              "dtype: int64"
            ]
          },
          "metadata": {},
          "execution_count": 63
        }
      ]
    },
    {
      "cell_type": "code",
      "metadata": {
        "id": "yDXUK_n96i8P"
      },
      "source": [
        "\n",
        "data.fillna(data.mean(),inplace = True)"
      ],
      "execution_count": 64,
      "outputs": []
    },
    {
      "cell_type": "code",
      "metadata": {
        "colab": {
          "base_uri": "https://localhost:8080/"
        },
        "id": "LjIq9mfP7P7a",
        "outputId": "dfe9dae2-d272-42b8-e60d-2af2cba3163c"
      },
      "source": [
        "data.isnull().sum()"
      ],
      "execution_count": 65,
      "outputs": [
        {
          "output_type": "execute_result",
          "data": {
            "text/plain": [
              "ID                            0\n",
              "loan_amnt                     0\n",
              "loan_term                     0\n",
              "interest_rate                 0\n",
              "loan_grade                    0\n",
              "loan_subgrade                 0\n",
              "job_experience                0\n",
              "home_ownership                0\n",
              "annual_income                 0\n",
              "income_verification_status    0\n",
              "loan_purpose                  0\n",
              "state_code                    0\n",
              "debt_to_income                0\n",
              "delinq_2yrs                   0\n",
              "public_records                0\n",
              "revolving_balance             0\n",
              "total_acc                     0\n",
              "interest_receive              0\n",
              "application_type              0\n",
              "last_week_pay                 0\n",
              "total_current_balance         0\n",
              "total_revolving_limit         0\n",
              "default                       0\n",
              "dtype: int64"
            ]
          },
          "metadata": {},
          "execution_count": 65
        }
      ]
    },
    {
      "cell_type": "code",
      "metadata": {
        "id": "nW8sCl177R39"
      },
      "source": [
        "data.drop(\"ID\", axis=1, inplace=True)"
      ],
      "execution_count": 67,
      "outputs": []
    },
    {
      "cell_type": "code",
      "metadata": {
        "colab": {
          "base_uri": "https://localhost:8080/",
          "height": 100
        },
        "id": "2eTobZUO7ipT",
        "outputId": "8bd1f2fe-483e-4e04-e556-5396fa63d7d3"
      },
      "source": [
        "data.head(1)"
      ],
      "execution_count": 68,
      "outputs": [
        {
          "output_type": "execute_result",
          "data": {
            "text/html": [
              "<div>\n",
              "<style scoped>\n",
              "    .dataframe tbody tr th:only-of-type {\n",
              "        vertical-align: middle;\n",
              "    }\n",
              "\n",
              "    .dataframe tbody tr th {\n",
              "        vertical-align: top;\n",
              "    }\n",
              "\n",
              "    .dataframe thead th {\n",
              "        text-align: right;\n",
              "    }\n",
              "</style>\n",
              "<table border=\"1\" class=\"dataframe\">\n",
              "  <thead>\n",
              "    <tr style=\"text-align: right;\">\n",
              "      <th></th>\n",
              "      <th>loan_amnt</th>\n",
              "      <th>loan_term</th>\n",
              "      <th>interest_rate</th>\n",
              "      <th>loan_grade</th>\n",
              "      <th>loan_subgrade</th>\n",
              "      <th>job_experience</th>\n",
              "      <th>home_ownership</th>\n",
              "      <th>annual_income</th>\n",
              "      <th>income_verification_status</th>\n",
              "      <th>loan_purpose</th>\n",
              "      <th>state_code</th>\n",
              "      <th>debt_to_income</th>\n",
              "      <th>delinq_2yrs</th>\n",
              "      <th>public_records</th>\n",
              "      <th>revolving_balance</th>\n",
              "      <th>total_acc</th>\n",
              "      <th>interest_receive</th>\n",
              "      <th>application_type</th>\n",
              "      <th>last_week_pay</th>\n",
              "      <th>total_current_balance</th>\n",
              "      <th>total_revolving_limit</th>\n",
              "      <th>default</th>\n",
              "    </tr>\n",
              "  </thead>\n",
              "  <tbody>\n",
              "    <tr>\n",
              "      <th>0</th>\n",
              "      <td>9000</td>\n",
              "      <td>3 years</td>\n",
              "      <td>9.17</td>\n",
              "      <td>B</td>\n",
              "      <td>B2</td>\n",
              "      <td>&lt;5 Years</td>\n",
              "      <td>OWN</td>\n",
              "      <td>85000.0</td>\n",
              "      <td>Not Verified</td>\n",
              "      <td>debt_consolidation</td>\n",
              "      <td>NC</td>\n",
              "      <td>26.68</td>\n",
              "      <td>0.0</td>\n",
              "      <td>0.0</td>\n",
              "      <td>39519.0</td>\n",
              "      <td>20.0</td>\n",
              "      <td>59.6</td>\n",
              "      <td>INDIVIDUAL</td>\n",
              "      <td>4.0</td>\n",
              "      <td>95493.0</td>\n",
              "      <td>26305.736622</td>\n",
              "      <td>0</td>\n",
              "    </tr>\n",
              "  </tbody>\n",
              "</table>\n",
              "</div>"
            ],
            "text/plain": [
              "   loan_amnt loan_term  interest_rate loan_grade loan_subgrade job_experience  \\\n",
              "0       9000   3 years           9.17          B            B2       <5 Years   \n",
              "\n",
              "  home_ownership  annual_income income_verification_status  \\\n",
              "0            OWN        85000.0               Not Verified   \n",
              "\n",
              "         loan_purpose state_code  debt_to_income  delinq_2yrs  public_records  \\\n",
              "0  debt_consolidation         NC           26.68          0.0             0.0   \n",
              "\n",
              "   revolving_balance  total_acc  interest_receive application_type  \\\n",
              "0            39519.0       20.0              59.6       INDIVIDUAL   \n",
              "\n",
              "   last_week_pay  total_current_balance  total_revolving_limit  default  \n",
              "0            4.0                95493.0           26305.736622        0  "
            ]
          },
          "metadata": {},
          "execution_count": 68
        }
      ]
    },
    {
      "cell_type": "code",
      "metadata": {
        "colab": {
          "base_uri": "https://localhost:8080/"
        },
        "id": "yr1OkFt97sw_",
        "outputId": "17bf3c7d-2e8f-415b-9bc5-240f3fc99dd2"
      },
      "source": [
        "data.dtypes"
      ],
      "execution_count": 72,
      "outputs": [
        {
          "output_type": "execute_result",
          "data": {
            "text/plain": [
              "loan_amnt                       int64\n",
              "loan_term                      object\n",
              "interest_rate                 float64\n",
              "loan_grade                     object\n",
              "loan_subgrade                  object\n",
              "job_experience                 object\n",
              "home_ownership                 object\n",
              "annual_income                 float64\n",
              "income_verification_status     object\n",
              "loan_purpose                   object\n",
              "state_code                     object\n",
              "debt_to_income                float64\n",
              "delinq_2yrs                   float64\n",
              "public_records                float64\n",
              "revolving_balance             float64\n",
              "total_acc                     float64\n",
              "interest_receive              float64\n",
              "application_type               object\n",
              "last_week_pay                 float64\n",
              "total_current_balance         float64\n",
              "total_revolving_limit         float64\n",
              "default                         int64\n",
              "dtype: object"
            ]
          },
          "metadata": {},
          "execution_count": 72
        }
      ]
    },
    {
      "cell_type": "code",
      "metadata": {
        "colab": {
          "base_uri": "https://localhost:8080/"
        },
        "id": "vBFyzKI_AAmv",
        "outputId": "dd1034fb-086f-48a5-a5cf-b4a5e8604bed"
      },
      "source": [
        "data.state_code.unique()"
      ],
      "execution_count": 74,
      "outputs": [
        {
          "output_type": "execute_result",
          "data": {
            "text/plain": [
              "array(['NC', 'SC', 'TX', 'MO', 'IL', 'NY', 'CT', 'CA', 'VA', 'GA', 'OR',\n",
              "       'NV', 'LA', 'RI', 'IN', 'AZ', 'OK', 'MN', 'WY', 'HI', 'MI', 'CO',\n",
              "       'MS', 'NJ', 'WA', 'UT', 'NM', 'KY', 'MA', 'FL', 'PA', 'WI', 'OH',\n",
              "       'DE', 'DC', 'WV', 'MD', 'TN', 'NE', 'AL', 'KS', 'SD', 'VT', 'MT',\n",
              "       'AK', 'AR', 'NH', 'ME', 'ND', 'ID'], dtype=object)"
            ]
          },
          "metadata": {},
          "execution_count": 74
        }
      ]
    },
    {
      "cell_type": "code",
      "metadata": {
        "id": "OY9FezIq_B8p"
      },
      "source": [
        "##ENCODING USING ONE HOT ENCODING\n",
        "\n",
        "data = pd.get_dummies(data, columns=[\"loan_term\",\"loan_grade\",\"loan_subgrade\",\"job_experience\",\"home_ownership\",\"income_verification_status\",\"loan_purpose\",\"state_code\",\"application_type\"])"
      ],
      "execution_count": 75,
      "outputs": []
    },
    {
      "cell_type": "code",
      "metadata": {
        "colab": {
          "base_uri": "https://localhost:8080/"
        },
        "id": "Rl-ZMbhqAJQf",
        "outputId": "ca2b3dea-8659-468c-bc4d-c4e95c78b086"
      },
      "source": [
        "data.shape"
      ],
      "execution_count": 78,
      "outputs": [
        {
          "output_type": "execute_result",
          "data": {
            "text/plain": [
              "(93174, 124)"
            ]
          },
          "metadata": {},
          "execution_count": 78
        }
      ]
    },
    {
      "cell_type": "markdown",
      "metadata": {
        "id": "uOewQ7HtAS6r"
      },
      "source": [
        "# MODEL BUILDING"
      ]
    },
    {
      "cell_type": "code",
      "metadata": {
        "id": "VmZrvIemALQT"
      },
      "source": [
        "##Ssplitting to train and test\n",
        "\n",
        "X = data.drop(columns=\"default\")\n",
        "Y = data[\"default\"]"
      ],
      "execution_count": 79,
      "outputs": []
    },
    {
      "cell_type": "code",
      "metadata": {
        "colab": {
          "base_uri": "https://localhost:8080/"
        },
        "id": "4yYp-CvNAhJx",
        "outputId": "88958d08-d11a-4b5f-e100-fc5892296b83"
      },
      "source": [
        "X_train, X_test, y_train, y_test = train_test_split(X, Y, test_size=0.30, random_state=1, stratify=Y)\n",
        "\n",
        "print(X_train.shape, X_test.shape)"
      ],
      "execution_count": 80,
      "outputs": [
        {
          "output_type": "stream",
          "name": "stdout",
          "text": [
            "(65221, 123) (27953, 123)\n"
          ]
        }
      ]
    },
    {
      "cell_type": "code",
      "metadata": {
        "id": "GAqbBdgQApXH"
      },
      "source": [
        "# Normalizing the train and test data\n",
        "from sklearn.preprocessing import MinMaxScaler\n",
        "scaler = MinMaxScaler()\n",
        "features_names = X_train.columns\n",
        "X_train = scaler.fit_transform(X_train)\n",
        "X_train = pd.DataFrame(X_train, columns = features_names)\n"
      ],
      "execution_count": 84,
      "outputs": []
    },
    {
      "cell_type": "code",
      "metadata": {
        "id": "z_TGGMjcBfCe"
      },
      "source": [
        "X_test= scaler.transform(X_test)\n",
        "X_test = pd.DataFrame(X_test, columns = features_names)"
      ],
      "execution_count": 86,
      "outputs": []
    },
    {
      "cell_type": "markdown",
      "metadata": {
        "id": "2eIoRyvjBlrU"
      },
      "source": [
        "MODEL 1: Random Forest Classifier"
      ]
    },
    {
      "cell_type": "code",
      "metadata": {
        "id": "N_nC6g6sBkvO"
      },
      "source": [
        "rf = RandomForestClassifier(random_state = 42, class_weight = None).fit(X_train, y_train)\n",
        "parameters = {'n_estimators':[10, 100, 300, 1000]}\n",
        "clf_rf = GridSearchCV(rf, parameters, cv = 5).fit(X_train, y_train)"
      ],
      "execution_count": 89,
      "outputs": []
    },
    {
      "cell_type": "code",
      "metadata": {
        "colab": {
          "base_uri": "https://localhost:8080/",
          "height": 296
        },
        "id": "RCVJDvJSBGgE",
        "outputId": "37da584e-e289-4ffe-eec1-61a88797bad6"
      },
      "source": [
        "from sklearn.metrics import plot_roc_curve\n",
        "plot_roc_curve(rf,X_test,y_test)"
      ],
      "execution_count": 90,
      "outputs": [
        {
          "output_type": "execute_result",
          "data": {
            "text/plain": [
              "<sklearn.metrics._plot.roc_curve.RocCurveDisplay at 0x7f4de1c30a50>"
            ]
          },
          "metadata": {},
          "execution_count": 90
        },
        {
          "output_type": "display_data",
          "data": {
            "image/png": "[encoded data removed]",
            "text/plain": [
              "<Figure size 432x288 with 1 Axes>"
            ]
          },
          "metadata": {
            "needs_background": "light"
          }
        }
      ]
    },
    {
      "cell_type": "code",
      "metadata": {
        "colab": {
          "base_uri": "https://localhost:8080/",
          "height": 131
        },
        "id": "Ja2KmJShIhVd",
        "outputId": "7aad8cf3-7044-45bb-86e1-17bd781c2cc0"
      },
      "source": [
        "##Encoding Test data\n",
        "test_data = df_test.copy()\n",
        "test_data.head(2)"
      ],
      "execution_count": 107,
      "outputs": [
        {
          "output_type": "execute_result",
          "data": {
            "text/html": [
              "<div>\n",
              "<style scoped>\n",
              "    .dataframe tbody tr th:only-of-type {\n",
              "        vertical-align: middle;\n",
              "    }\n",
              "\n",
              "    .dataframe tbody tr th {\n",
              "        vertical-align: top;\n",
              "    }\n",
              "\n",
              "    .dataframe thead th {\n",
              "        text-align: right;\n",
              "    }\n",
              "</style>\n",
              "<table border=\"1\" class=\"dataframe\">\n",
              "  <thead>\n",
              "    <tr style=\"text-align: right;\">\n",
              "      <th></th>\n",
              "      <th>ID</th>\n",
              "      <th>loan_amnt</th>\n",
              "      <th>loan_term</th>\n",
              "      <th>interest_rate</th>\n",
              "      <th>loan_grade</th>\n",
              "      <th>loan_subgrade</th>\n",
              "      <th>job_experience</th>\n",
              "      <th>home_ownership</th>\n",
              "      <th>annual_income</th>\n",
              "      <th>income_verification_status</th>\n",
              "      <th>loan_purpose</th>\n",
              "      <th>state_code</th>\n",
              "      <th>debt_to_income</th>\n",
              "      <th>delinq_2yrs</th>\n",
              "      <th>public_records</th>\n",
              "      <th>revolving_balance</th>\n",
              "      <th>total_acc</th>\n",
              "      <th>interest_receive</th>\n",
              "      <th>application_type</th>\n",
              "      <th>last_week_pay</th>\n",
              "      <th>total_current_balance</th>\n",
              "      <th>total_revolving_limit</th>\n",
              "    </tr>\n",
              "  </thead>\n",
              "  <tbody>\n",
              "    <tr>\n",
              "      <th>0</th>\n",
              "      <td>4855329</td>\n",
              "      <td>12000</td>\n",
              "      <td>3 years</td>\n",
              "      <td>15.31</td>\n",
              "      <td>C</td>\n",
              "      <td>C2</td>\n",
              "      <td>&lt;5 Years</td>\n",
              "      <td>MORTGAGE</td>\n",
              "      <td>73400.0</td>\n",
              "      <td>Not Verified</td>\n",
              "      <td>debt_consolidation</td>\n",
              "      <td>CA</td>\n",
              "      <td>14.62</td>\n",
              "      <td>0.0</td>\n",
              "      <td>0.0</td>\n",
              "      <td>22156</td>\n",
              "      <td>30.0</td>\n",
              "      <td>2290.24</td>\n",
              "      <td>INDIVIDUAL</td>\n",
              "      <td>87.0</td>\n",
              "      <td>128098.0</td>\n",
              "      <td>25800.0</td>\n",
              "    </tr>\n",
              "    <tr>\n",
              "      <th>1</th>\n",
              "      <td>66862420</td>\n",
              "      <td>12000</td>\n",
              "      <td>3 years</td>\n",
              "      <td>7.26</td>\n",
              "      <td>A</td>\n",
              "      <td>A4</td>\n",
              "      <td>10+ years</td>\n",
              "      <td>MORTGAGE</td>\n",
              "      <td>105000.0</td>\n",
              "      <td>Not Verified</td>\n",
              "      <td>credit_card</td>\n",
              "      <td>VA</td>\n",
              "      <td>11.38</td>\n",
              "      <td>0.0</td>\n",
              "      <td>0.0</td>\n",
              "      <td>7592</td>\n",
              "      <td>14.0</td>\n",
              "      <td>202.68</td>\n",
              "      <td>INDIVIDUAL</td>\n",
              "      <td>13.0</td>\n",
              "      <td>269396.0</td>\n",
              "      <td>23600.0</td>\n",
              "    </tr>\n",
              "  </tbody>\n",
              "</table>\n",
              "</div>"
            ],
            "text/plain": [
              "         ID  loan_amnt loan_term  interest_rate loan_grade loan_subgrade  \\\n",
              "0   4855329      12000   3 years          15.31          C            C2   \n",
              "1  66862420      12000   3 years           7.26          A            A4   \n",
              "\n",
              "  job_experience home_ownership  annual_income income_verification_status  \\\n",
              "0       <5 Years       MORTGAGE        73400.0               Not Verified   \n",
              "1      10+ years       MORTGAGE       105000.0               Not Verified   \n",
              "\n",
              "         loan_purpose state_code  debt_to_income  delinq_2yrs  public_records  \\\n",
              "0  debt_consolidation         CA           14.62          0.0             0.0   \n",
              "1         credit_card         VA           11.38          0.0             0.0   \n",
              "\n",
              "   revolving_balance  total_acc  interest_receive application_type  \\\n",
              "0              22156       30.0           2290.24       INDIVIDUAL   \n",
              "1               7592       14.0            202.68       INDIVIDUAL   \n",
              "\n",
              "   last_week_pay  total_current_balance  total_revolving_limit  \n",
              "0           87.0               128098.0                25800.0  \n",
              "1           13.0               269396.0                23600.0  "
            ]
          },
          "metadata": {},
          "execution_count": 107
        }
      ]
    },
    {
      "cell_type": "code",
      "metadata": {
        "colab": {
          "base_uri": "https://localhost:8080/"
        },
        "id": "sfdVM72NI1ux",
        "outputId": "bb6127e8-c79f-465f-d785-4f32c0d90c8f"
      },
      "source": [
        "test_data.dtypes"
      ],
      "execution_count": 108,
      "outputs": [
        {
          "output_type": "execute_result",
          "data": {
            "text/plain": [
              "ID                              int64\n",
              "loan_amnt                       int64\n",
              "loan_term                      object\n",
              "interest_rate                 float64\n",
              "loan_grade                     object\n",
              "loan_subgrade                  object\n",
              "job_experience                 object\n",
              "home_ownership                 object\n",
              "annual_income                 float64\n",
              "income_verification_status     object\n",
              "loan_purpose                   object\n",
              "state_code                     object\n",
              "debt_to_income                float64\n",
              "delinq_2yrs                   float64\n",
              "public_records                float64\n",
              "revolving_balance               int64\n",
              "total_acc                     float64\n",
              "interest_receive              float64\n",
              "application_type               object\n",
              "last_week_pay                 float64\n",
              "total_current_balance         float64\n",
              "total_revolving_limit         float64\n",
              "dtype: object"
            ]
          },
          "metadata": {},
          "execution_count": 108
        }
      ]
    },
    {
      "cell_type": "code",
      "metadata": {
        "colab": {
          "base_uri": "https://localhost:8080/"
        },
        "id": "fhKAar6hJuhG",
        "outputId": "3eb5df43-1ba1-4b5e-c581-464682750448"
      },
      "source": [
        "test_data.isnull().sum()"
      ],
      "execution_count": 110,
      "outputs": [
        {
          "output_type": "execute_result",
          "data": {
            "text/plain": [
              "ID                               0\n",
              "loan_amnt                        0\n",
              "loan_term                        0\n",
              "interest_rate                    0\n",
              "loan_grade                       0\n",
              "loan_subgrade                    0\n",
              "job_experience                2089\n",
              "home_ownership                   0\n",
              "annual_income                    0\n",
              "income_verification_status       0\n",
              "loan_purpose                     0\n",
              "state_code                       0\n",
              "debt_to_income                   0\n",
              "delinq_2yrs                      1\n",
              "public_records                   1\n",
              "revolving_balance                0\n",
              "total_acc                        1\n",
              "interest_receive                 0\n",
              "application_type                 0\n",
              "last_week_pay                  806\n",
              "total_current_balance         3230\n",
              "total_revolving_limit         3230\n",
              "dtype: int64"
            ]
          },
          "metadata": {},
          "execution_count": 110
        }
      ]
    },
    {
      "cell_type": "code",
      "metadata": {
        "colab": {
          "base_uri": "https://localhost:8080/"
        },
        "id": "-fkn55VHKCla",
        "outputId": "e449d8e1-6968-4401-a357-87d8cff9dc44"
      },
      "source": [
        "test_data[\"job_experience\"] = test_data.job_experience.fillna(test_data.job_experience.value_counts().index[0])\n",
        "print(f\"Imputation done. Missing values: {test_data.job_experience.isnull().sum()}\")\n",
        "test_data.fillna(test_data.mean(),inplace = True)"
      ],
      "execution_count": 111,
      "outputs": [
        {
          "output_type": "stream",
          "name": "stdout",
          "text": [
            "Imputation done. Missing values: 0\n"
          ]
        }
      ]
    },
    {
      "cell_type": "code",
      "metadata": {
        "colab": {
          "base_uri": "https://localhost:8080/"
        },
        "id": "xIUrbqNDKXHo",
        "outputId": "c0d0fea4-75a5-4d5a-d3fe-92f0823220f4"
      },
      "source": [
        "test_data.isnull().sum()"
      ],
      "execution_count": 112,
      "outputs": [
        {
          "output_type": "execute_result",
          "data": {
            "text/plain": [
              "ID                            0\n",
              "loan_amnt                     0\n",
              "loan_term                     0\n",
              "interest_rate                 0\n",
              "loan_grade                    0\n",
              "loan_subgrade                 0\n",
              "job_experience                0\n",
              "home_ownership                0\n",
              "annual_income                 0\n",
              "income_verification_status    0\n",
              "loan_purpose                  0\n",
              "state_code                    0\n",
              "debt_to_income                0\n",
              "delinq_2yrs                   0\n",
              "public_records                0\n",
              "revolving_balance             0\n",
              "total_acc                     0\n",
              "interest_receive              0\n",
              "application_type              0\n",
              "last_week_pay                 0\n",
              "total_current_balance         0\n",
              "total_revolving_limit         0\n",
              "dtype: int64"
            ]
          },
          "metadata": {},
          "execution_count": 112
        }
      ]
    },
    {
      "cell_type": "markdown",
      "metadata": {
        "id": "GDclUpjVKQza"
      },
      "source": [
        "Missing values in test data handled"
      ]
    },
    {
      "cell_type": "code",
      "metadata": {
        "id": "6K61BsN2JdlV"
      },
      "source": [
        "test_data = pd.get_dummies(test_data, columns=[\"loan_term\",\"loan_grade\",\"loan_subgrade\",\"job_experience\",\"home_ownership\",\"income_verification_status\",\"loan_purpose\",\"state_code\",\"application_type\"])"
      ],
      "execution_count": 113,
      "outputs": []
    },
    {
      "cell_type": "code",
      "metadata": {
        "colab": {
          "base_uri": "https://localhost:8080/"
        },
        "id": "SFBG-X7QKb3A",
        "outputId": "a5c20515-8673-4fb1-dafc-018d3bc8f085"
      },
      "source": [
        "test_data.dtypes"
      ],
      "execution_count": 114,
      "outputs": [
        {
          "output_type": "execute_result",
          "data": {
            "text/plain": [
              "ID                               int64\n",
              "loan_amnt                        int64\n",
              "interest_rate                  float64\n",
              "annual_income                  float64\n",
              "debt_to_income                 float64\n",
              "                                ...   \n",
              "state_code_WI                    uint8\n",
              "state_code_WV                    uint8\n",
              "state_code_WY                    uint8\n",
              "application_type_INDIVIDUAL      uint8\n",
              "application_type_JOINT           uint8\n",
              "Length: 124, dtype: object"
            ]
          },
          "metadata": {},
          "execution_count": 114
        }
      ]
    },
    {
      "cell_type": "code",
      "metadata": {
        "id": "xWtQJfeDK1gw"
      },
      "source": [
        "test_data.drop(\"ID\", axis=1, inplace=True)"
      ],
      "execution_count": 116,
      "outputs": []
    },
    {
      "cell_type": "code",
      "metadata": {
        "id": "59l3gHV1EEV0"
      },
      "source": [
        "submission1 = df_test[[\"ID\"]]\n",
        "submission1[\"default\"] = rf.predict(test_data)\n",
        "submission1.to_csv(\"/home/rf.csv\",index=False)"
      ],
      "execution_count": 121,
      "outputs": []
    },
    {
      "cell_type": "code",
      "metadata": {
        "colab": {
          "base_uri": "https://localhost:8080/",
          "height": 204
        },
        "id": "8t2H3Og_LFkn",
        "outputId": "4258096f-fc2a-4ca0-c20c-28de9fec0ab8"
      },
      "source": [
        "submission1.head()"
      ],
      "execution_count": 122,
      "outputs": [
        {
          "output_type": "execute_result",
          "data": {
            "text/html": [
              "<div>\n",
              "<style scoped>\n",
              "    .dataframe tbody tr th:only-of-type {\n",
              "        vertical-align: middle;\n",
              "    }\n",
              "\n",
              "    .dataframe tbody tr th {\n",
              "        vertical-align: top;\n",
              "    }\n",
              "\n",
              "    .dataframe thead th {\n",
              "        text-align: right;\n",
              "    }\n",
              "</style>\n",
              "<table border=\"1\" class=\"dataframe\">\n",
              "  <thead>\n",
              "    <tr style=\"text-align: right;\">\n",
              "      <th></th>\n",
              "      <th>ID</th>\n",
              "      <th>default</th>\n",
              "    </tr>\n",
              "  </thead>\n",
              "  <tbody>\n",
              "    <tr>\n",
              "      <th>0</th>\n",
              "      <td>4855329</td>\n",
              "      <td>1</td>\n",
              "    </tr>\n",
              "    <tr>\n",
              "      <th>1</th>\n",
              "      <td>66862420</td>\n",
              "      <td>1</td>\n",
              "    </tr>\n",
              "    <tr>\n",
              "      <th>2</th>\n",
              "      <td>3637416</td>\n",
              "      <td>1</td>\n",
              "    </tr>\n",
              "    <tr>\n",
              "      <th>3</th>\n",
              "      <td>53682249</td>\n",
              "      <td>1</td>\n",
              "    </tr>\n",
              "    <tr>\n",
              "      <th>4</th>\n",
              "      <td>53937165</td>\n",
              "      <td>1</td>\n",
              "    </tr>\n",
              "  </tbody>\n",
              "</table>\n",
              "</div>"
            ],
            "text/plain": [
              "         ID  default\n",
              "0   4855329        1\n",
              "1  66862420        1\n",
              "2   3637416        1\n",
              "3  53682249        1\n",
              "4  53937165        1"
            ]
          },
          "metadata": {},
          "execution_count": 122
        }
      ]
    },
    {
      "cell_type": "markdown",
      "metadata": {
        "id": "oHIY2e-tEMzK"
      },
      "source": [
        "MODEL 2: CatBoost Classifier"
      ]
    },
    {
      "cell_type": "code",
      "metadata": {
        "colab": {
          "base_uri": "https://localhost:8080/"
        },
        "id": "QKAzbuY5MpEp",
        "outputId": "7cae530e-a58d-4d3b-ec20-8bde92a7e62c"
      },
      "source": [
        "CBC = CatBoostClassifier()\n",
        "CBC.fit(X_train, y_train, eval_set = (X_test,y_test),cat_features = np.where(data.dtypes == \"object\")[0])"
      ],
      "execution_count": 124,
      "outputs": [
        {
          "output_type": "stream",
          "name": "stdout",
          "text": [
            "Learning rate set to 0.088933\n",
            "0:\tlearn: 0.6478049\ttest: 0.7202733\tbest: 0.7202733 (0)\ttotal: 92.1ms\tremaining: 1m 32s\n",
            "1:\tlearn: 0.6137411\ttest: 0.7975475\tbest: 0.7202733 (0)\ttotal: 123ms\tremaining: 1m 1s\n",
            "2:\tlearn: 0.5843665\ttest: 0.8007299\tbest: 0.7202733 (0)\ttotal: 158ms\tremaining: 52.5s\n",
            "3:\tlearn: 0.5618137\ttest: 0.8013677\tbest: 0.7202733 (0)\ttotal: 192ms\tremaining: 47.8s\n",
            "4:\tlearn: 0.5441085\ttest: 0.8943013\tbest: 0.7202733 (0)\ttotal: 223ms\tremaining: 44.3s\n",
            "5:\tlearn: 0.5290035\ttest: 0.8551418\tbest: 0.7202733 (0)\ttotal: 251ms\tremaining: 41.6s\n",
            "6:\tlearn: 0.5148570\ttest: 0.9154408\tbest: 0.7202733 (0)\ttotal: 302ms\tremaining: 42.9s\n",
            "7:\tlearn: 0.5034973\ttest: 0.9116684\tbest: 0.7202733 (0)\ttotal: 335ms\tremaining: 41.5s\n",
            "8:\tlearn: 0.4938966\ttest: 0.8902905\tbest: 0.7202733 (0)\ttotal: 368ms\tremaining: 40.6s\n",
            "9:\tlearn: 0.4861765\ttest: 0.8747584\tbest: 0.7202733 (0)\ttotal: 399ms\tremaining: 39.5s\n",
            "10:\tlearn: 0.4796208\ttest: 0.9340405\tbest: 0.7202733 (0)\ttotal: 430ms\tremaining: 38.7s\n",
            "11:\tlearn: 0.4733851\ttest: 0.9189581\tbest: 0.7202733 (0)\ttotal: 463ms\tremaining: 38.1s\n",
            "12:\tlearn: 0.4672627\ttest: 0.9091001\tbest: 0.7202733 (0)\ttotal: 495ms\tremaining: 37.6s\n",
            "13:\tlearn: 0.4637045\ttest: 0.8985671\tbest: 0.7202733 (0)\ttotal: 527ms\tremaining: 37.1s\n",
            "14:\tlearn: 0.4600938\ttest: 0.9691600\tbest: 0.7202733 (0)\ttotal: 562ms\tremaining: 36.9s\n",
            "15:\tlearn: 0.4548632\ttest: 0.9589660\tbest: 0.7202733 (0)\ttotal: 608ms\tremaining: 37.4s\n",
            "16:\tlearn: 0.4524171\ttest: 0.9328138\tbest: 0.7202733 (0)\ttotal: 645ms\tremaining: 37.3s\n",
            "17:\tlearn: 0.4501826\ttest: 0.9275292\tbest: 0.7202733 (0)\ttotal: 679ms\tremaining: 37s\n",
            "18:\tlearn: 0.4477263\ttest: 0.9246304\tbest: 0.7202733 (0)\ttotal: 711ms\tremaining: 36.7s\n",
            "19:\tlearn: 0.4442865\ttest: 0.9231721\tbest: 0.7202733 (0)\ttotal: 745ms\tremaining: 36.5s\n",
            "20:\tlearn: 0.4416293\ttest: 0.9140117\tbest: 0.7202733 (0)\ttotal: 777ms\tremaining: 36.2s\n",
            "21:\tlearn: 0.4395119\ttest: 0.9122820\tbest: 0.7202733 (0)\ttotal: 808ms\tremaining: 35.9s\n",
            "22:\tlearn: 0.4381034\ttest: 0.9084501\tbest: 0.7202733 (0)\ttotal: 853ms\tremaining: 36.2s\n",
            "23:\tlearn: 0.4370228\ttest: 0.8869646\tbest: 0.7202733 (0)\ttotal: 886ms\tremaining: 36s\n",
            "24:\tlearn: 0.4355924\ttest: 0.8730661\tbest: 0.7202733 (0)\ttotal: 917ms\tremaining: 35.8s\n",
            "25:\tlearn: 0.4345919\ttest: 0.8712121\tbest: 0.7202733 (0)\ttotal: 948ms\tremaining: 35.5s\n",
            "26:\tlearn: 0.4331642\ttest: 0.8711425\tbest: 0.7202733 (0)\ttotal: 980ms\tremaining: 35.3s\n",
            "27:\tlearn: 0.4319217\ttest: 0.8806855\tbest: 0.7202733 (0)\ttotal: 1.01s\tremaining: 35.1s\n",
            "28:\tlearn: 0.4312611\ttest: 0.8807072\tbest: 0.7202733 (0)\ttotal: 1.05s\tremaining: 35.2s\n",
            "29:\tlearn: 0.4296037\ttest: 0.9401801\tbest: 0.7202733 (0)\ttotal: 1.08s\tremaining: 35.1s\n",
            "30:\tlearn: 0.4283138\ttest: 0.9353699\tbest: 0.7202733 (0)\ttotal: 1.12s\tremaining: 34.9s\n",
            "31:\tlearn: 0.4277073\ttest: 0.9340460\tbest: 0.7202733 (0)\ttotal: 1.15s\tremaining: 34.8s\n",
            "32:\tlearn: 0.4270246\ttest: 0.9425887\tbest: 0.7202733 (0)\ttotal: 1.18s\tremaining: 34.7s\n",
            "33:\tlearn: 0.4255062\ttest: 0.9247978\tbest: 0.7202733 (0)\ttotal: 1.21s\tremaining: 34.5s\n",
            "34:\tlearn: 0.4242845\ttest: 0.9207485\tbest: 0.7202733 (0)\ttotal: 1.24s\tremaining: 34.3s\n",
            "35:\tlearn: 0.4229793\ttest: 0.9209263\tbest: 0.7202733 (0)\ttotal: 1.28s\tremaining: 34.3s\n",
            "36:\tlearn: 0.4214932\ttest: 0.9214629\tbest: 0.7202733 (0)\ttotal: 1.32s\tremaining: 34.3s\n",
            "37:\tlearn: 0.4207879\ttest: 0.9194639\tbest: 0.7202733 (0)\ttotal: 1.35s\tremaining: 34.2s\n",
            "38:\tlearn: 0.4185701\ttest: 0.9174200\tbest: 0.7202733 (0)\ttotal: 1.38s\tremaining: 34.1s\n",
            "39:\tlearn: 0.4179684\ttest: 0.9475151\tbest: 0.7202733 (0)\ttotal: 1.42s\tremaining: 34s\n",
            "40:\tlearn: 0.4161421\ttest: 0.9450016\tbest: 0.7202733 (0)\ttotal: 1.45s\tremaining: 33.8s\n",
            "41:\tlearn: 0.4157247\ttest: 0.9433386\tbest: 0.7202733 (0)\ttotal: 1.48s\tremaining: 33.7s\n",
            "42:\tlearn: 0.4142078\ttest: 0.9464341\tbest: 0.7202733 (0)\ttotal: 1.51s\tremaining: 33.7s\n",
            "43:\tlearn: 0.4130904\ttest: 0.9461646\tbest: 0.7202733 (0)\ttotal: 1.54s\tremaining: 33.6s\n",
            "44:\tlearn: 0.4108332\ttest: 0.9449780\tbest: 0.7202733 (0)\ttotal: 1.59s\tremaining: 33.7s\n",
            "45:\tlearn: 0.4100840\ttest: 0.9437931\tbest: 0.7202733 (0)\ttotal: 1.62s\tremaining: 33.5s\n",
            "46:\tlearn: 0.4087874\ttest: 0.9598823\tbest: 0.7202733 (0)\ttotal: 1.67s\tremaining: 33.8s\n",
            "47:\tlearn: 0.4084830\ttest: 0.9672006\tbest: 0.7202733 (0)\ttotal: 1.7s\tremaining: 33.7s\n",
            "48:\tlearn: 0.4075577\ttest: 0.9662740\tbest: 0.7202733 (0)\ttotal: 1.73s\tremaining: 33.6s\n",
            "49:\tlearn: 0.4065830\ttest: 0.9419160\tbest: 0.7202733 (0)\ttotal: 1.76s\tremaining: 33.5s\n",
            "50:\tlearn: 0.4055287\ttest: 0.9405797\tbest: 0.7202733 (0)\ttotal: 1.8s\tremaining: 33.5s\n",
            "51:\tlearn: 0.4051242\ttest: 0.9330147\tbest: 0.7202733 (0)\ttotal: 1.83s\tremaining: 33.4s\n",
            "52:\tlearn: 0.4045135\ttest: 0.9318693\tbest: 0.7202733 (0)\ttotal: 1.86s\tremaining: 33.2s\n",
            "53:\tlearn: 0.4041295\ttest: 0.9210888\tbest: 0.7202733 (0)\ttotal: 1.89s\tremaining: 33.2s\n",
            "54:\tlearn: 0.4038129\ttest: 0.9210874\tbest: 0.7202733 (0)\ttotal: 1.92s\tremaining: 33s\n",
            "55:\tlearn: 0.4034165\ttest: 0.9673610\tbest: 0.7202733 (0)\ttotal: 1.96s\tremaining: 33s\n",
            "56:\tlearn: 0.4022944\ttest: 0.9660677\tbest: 0.7202733 (0)\ttotal: 1.99s\tremaining: 32.9s\n",
            "57:\tlearn: 0.4018314\ttest: 0.9645970\tbest: 0.7202733 (0)\ttotal: 2.02s\tremaining: 32.8s\n",
            "58:\tlearn: 0.4010089\ttest: 0.9646198\tbest: 0.7202733 (0)\ttotal: 2.06s\tremaining: 32.8s\n",
            "59:\tlearn: 0.4003499\ttest: 0.9722824\tbest: 0.7202733 (0)\ttotal: 2.09s\tremaining: 32.7s\n",
            "60:\tlearn: 0.3995300\ttest: 0.9706244\tbest: 0.7202733 (0)\ttotal: 2.12s\tremaining: 32.6s\n",
            "61:\tlearn: 0.3988856\ttest: 0.9737966\tbest: 0.7202733 (0)\ttotal: 2.15s\tremaining: 32.6s\n",
            "62:\tlearn: 0.3975220\ttest: 0.9739574\tbest: 0.7202733 (0)\ttotal: 2.19s\tremaining: 32.5s\n",
            "63:\tlearn: 0.3972218\ttest: 0.9411088\tbest: 0.7202733 (0)\ttotal: 2.22s\tremaining: 32.4s\n",
            "64:\tlearn: 0.3967463\ttest: 0.9386709\tbest: 0.7202733 (0)\ttotal: 2.25s\tremaining: 32.3s\n",
            "65:\tlearn: 0.3953077\ttest: 0.9385971\tbest: 0.7202733 (0)\ttotal: 2.28s\tremaining: 32.3s\n",
            "66:\tlearn: 0.3936086\ttest: 0.9387432\tbest: 0.7202733 (0)\ttotal: 2.31s\tremaining: 32.2s\n",
            "67:\tlearn: 0.3923312\ttest: 0.9358425\tbest: 0.7202733 (0)\ttotal: 2.34s\tremaining: 32.1s\n",
            "68:\tlearn: 0.3919347\ttest: 0.9506166\tbest: 0.7202733 (0)\ttotal: 2.37s\tremaining: 32s\n",
            "69:\tlearn: 0.3915029\ttest: 0.9334402\tbest: 0.7202733 (0)\ttotal: 2.41s\tremaining: 32s\n",
            "70:\tlearn: 0.3902821\ttest: 0.9330358\tbest: 0.7202733 (0)\ttotal: 2.44s\tremaining: 31.9s\n",
            "71:\tlearn: 0.3900060\ttest: 0.9349667\tbest: 0.7202733 (0)\ttotal: 2.47s\tremaining: 31.9s\n",
            "72:\tlearn: 0.3885759\ttest: 0.9339145\tbest: 0.7202733 (0)\ttotal: 2.51s\tremaining: 31.8s\n",
            "73:\tlearn: 0.3883312\ttest: 0.9385213\tbest: 0.7202733 (0)\ttotal: 2.54s\tremaining: 31.8s\n",
            "74:\tlearn: 0.3876912\ttest: 0.9341556\tbest: 0.7202733 (0)\ttotal: 2.58s\tremaining: 31.8s\n",
            "75:\tlearn: 0.3868912\ttest: 0.9323360\tbest: 0.7202733 (0)\ttotal: 2.62s\tremaining: 31.8s\n",
            "76:\tlearn: 0.3867519\ttest: 0.9363058\tbest: 0.7202733 (0)\ttotal: 2.65s\tremaining: 31.8s\n",
            "77:\tlearn: 0.3865190\ttest: 0.9387882\tbest: 0.7202733 (0)\ttotal: 2.7s\tremaining: 31.9s\n",
            "78:\tlearn: 0.3862769\ttest: 0.9392863\tbest: 0.7202733 (0)\ttotal: 2.75s\tremaining: 32s\n",
            "79:\tlearn: 0.3855872\ttest: 0.9389124\tbest: 0.7202733 (0)\ttotal: 2.78s\tremaining: 32s\n",
            "80:\tlearn: 0.3853625\ttest: 1.0032870\tbest: 0.7202733 (0)\ttotal: 2.81s\tremaining: 31.9s\n",
            "81:\tlearn: 0.3847760\ttest: 1.0049161\tbest: 0.7202733 (0)\ttotal: 2.85s\tremaining: 31.9s\n",
            "82:\tlearn: 0.3834187\ttest: 1.0044468\tbest: 0.7202733 (0)\ttotal: 2.88s\tremaining: 31.9s\n",
            "83:\tlearn: 0.3827774\ttest: 1.0072552\tbest: 0.7202733 (0)\ttotal: 2.92s\tremaining: 31.8s\n",
            "84:\tlearn: 0.3820365\ttest: 1.0065626\tbest: 0.7202733 (0)\ttotal: 2.95s\tremaining: 31.7s\n",
            "85:\tlearn: 0.3812153\ttest: 1.0075244\tbest: 0.7202733 (0)\ttotal: 2.98s\tremaining: 31.7s\n",
            "86:\tlearn: 0.3808629\ttest: 1.0086510\tbest: 0.7202733 (0)\ttotal: 3.01s\tremaining: 31.6s\n",
            "87:\tlearn: 0.3801975\ttest: 1.0077379\tbest: 0.7202733 (0)\ttotal: 3.04s\tremaining: 31.6s\n",
            "88:\tlearn: 0.3796008\ttest: 1.0063813\tbest: 0.7202733 (0)\ttotal: 3.09s\tremaining: 31.6s\n",
            "89:\tlearn: 0.3792016\ttest: 1.0049632\tbest: 0.7202733 (0)\ttotal: 3.12s\tremaining: 31.5s\n",
            "90:\tlearn: 0.3785497\ttest: 0.9930974\tbest: 0.7202733 (0)\ttotal: 3.15s\tremaining: 31.4s\n",
            "91:\tlearn: 0.3774689\ttest: 1.0001432\tbest: 0.7202733 (0)\ttotal: 3.18s\tremaining: 31.4s\n",
            "92:\tlearn: 0.3766125\ttest: 0.9996958\tbest: 0.7202733 (0)\ttotal: 3.21s\tremaining: 31.3s\n",
            "93:\tlearn: 0.3760258\ttest: 0.9977617\tbest: 0.7202733 (0)\ttotal: 3.25s\tremaining: 31.3s\n",
            "94:\tlearn: 0.3758726\ttest: 1.0008159\tbest: 0.7202733 (0)\ttotal: 3.28s\tremaining: 31.2s\n",
            "95:\tlearn: 0.3757061\ttest: 0.9960242\tbest: 0.7202733 (0)\ttotal: 3.31s\tremaining: 31.2s\n",
            "96:\tlearn: 0.3744241\ttest: 0.9967632\tbest: 0.7202733 (0)\ttotal: 3.34s\tremaining: 31.1s\n",
            "97:\tlearn: 0.3740387\ttest: 0.9934527\tbest: 0.7202733 (0)\ttotal: 3.37s\tremaining: 31.1s\n",
            "98:\tlearn: 0.3734207\ttest: 0.9800300\tbest: 0.7202733 (0)\ttotal: 3.41s\tremaining: 31s\n",
            "99:\tlearn: 0.3732589\ttest: 1.0508384\tbest: 0.7202733 (0)\ttotal: 3.44s\tremaining: 30.9s\n",
            "100:\tlearn: 0.3725305\ttest: 1.0497052\tbest: 0.7202733 (0)\ttotal: 3.47s\tremaining: 30.9s\n",
            "101:\tlearn: 0.3721046\ttest: 1.0365080\tbest: 0.7202733 (0)\ttotal: 3.5s\tremaining: 30.8s\n",
            "102:\tlearn: 0.3719559\ttest: 1.0361838\tbest: 0.7202733 (0)\ttotal: 3.53s\tremaining: 30.8s\n",
            "103:\tlearn: 0.3715609\ttest: 1.0378064\tbest: 0.7202733 (0)\ttotal: 3.56s\tremaining: 30.7s\n",
            "104:\tlearn: 0.3704660\ttest: 1.0375873\tbest: 0.7202733 (0)\ttotal: 3.61s\tremaining: 30.7s\n",
            "105:\tlearn: 0.3701657\ttest: 1.0332751\tbest: 0.7202733 (0)\ttotal: 3.64s\tremaining: 30.7s\n",
            "106:\tlearn: 0.3697215\ttest: 1.0320691\tbest: 0.7202733 (0)\ttotal: 3.67s\tremaining: 30.6s\n",
            "107:\tlearn: 0.3695512\ttest: 1.1092659\tbest: 0.7202733 (0)\ttotal: 3.7s\tremaining: 30.6s\n",
            "108:\tlearn: 0.3686038\ttest: 1.1086847\tbest: 0.7202733 (0)\ttotal: 3.73s\tremaining: 30.5s\n",
            "109:\tlearn: 0.3679278\ttest: 1.1137775\tbest: 0.7202733 (0)\ttotal: 3.77s\tremaining: 30.5s\n",
            "110:\tlearn: 0.3676894\ttest: 1.1185102\tbest: 0.7202733 (0)\ttotal: 3.8s\tremaining: 30.5s\n",
            "111:\tlearn: 0.3674796\ttest: 1.1189670\tbest: 0.7202733 (0)\ttotal: 3.84s\tremaining: 30.4s\n",
            "112:\tlearn: 0.3666306\ttest: 1.1178630\tbest: 0.7202733 (0)\ttotal: 3.87s\tremaining: 30.4s\n",
            "113:\tlearn: 0.3664349\ttest: 1.0302382\tbest: 0.7202733 (0)\ttotal: 3.9s\tremaining: 30.4s\n",
            "114:\tlearn: 0.3657826\ttest: 1.0282252\tbest: 0.7202733 (0)\ttotal: 3.94s\tremaining: 30.3s\n",
            "115:\tlearn: 0.3650450\ttest: 1.0282902\tbest: 0.7202733 (0)\ttotal: 3.98s\tremaining: 30.3s\n",
            "116:\tlearn: 0.3642629\ttest: 1.0282735\tbest: 0.7202733 (0)\ttotal: 4.01s\tremaining: 30.3s\n",
            "117:\tlearn: 0.3638305\ttest: 1.0273649\tbest: 0.7202733 (0)\ttotal: 4.04s\tremaining: 30.2s\n",
            "118:\tlearn: 0.3635656\ttest: 1.0308231\tbest: 0.7202733 (0)\ttotal: 4.08s\tremaining: 30.2s\n",
            "119:\tlearn: 0.3628284\ttest: 0.9890604\tbest: 0.7202733 (0)\ttotal: 4.11s\tremaining: 30.1s\n",
            "120:\tlearn: 0.3626698\ttest: 0.9901314\tbest: 0.7202733 (0)\ttotal: 4.14s\tremaining: 30.1s\n",
            "121:\tlearn: 0.3617637\ttest: 0.9907161\tbest: 0.7202733 (0)\ttotal: 4.17s\tremaining: 30s\n",
            "122:\tlearn: 0.3613055\ttest: 0.9913167\tbest: 0.7202733 (0)\ttotal: 4.2s\tremaining: 30s\n",
            "123:\tlearn: 0.3609488\ttest: 0.9898773\tbest: 0.7202733 (0)\ttotal: 4.24s\tremaining: 29.9s\n",
            "124:\tlearn: 0.3603350\ttest: 0.9916262\tbest: 0.7202733 (0)\ttotal: 4.27s\tremaining: 29.9s\n",
            "125:\tlearn: 0.3600720\ttest: 0.9928213\tbest: 0.7202733 (0)\ttotal: 4.3s\tremaining: 29.8s\n",
            "126:\tlearn: 0.3597459\ttest: 0.9969325\tbest: 0.7202733 (0)\ttotal: 4.33s\tremaining: 29.8s\n",
            "127:\tlearn: 0.3593311\ttest: 0.9992588\tbest: 0.7202733 (0)\ttotal: 4.36s\tremaining: 29.7s\n",
            "128:\tlearn: 0.3590078\ttest: 0.9952475\tbest: 0.7202733 (0)\ttotal: 4.39s\tremaining: 29.7s\n",
            "129:\tlearn: 0.3586006\ttest: 0.9968425\tbest: 0.7202733 (0)\ttotal: 4.43s\tremaining: 29.7s\n",
            "130:\tlearn: 0.3579631\ttest: 0.9962847\tbest: 0.7202733 (0)\ttotal: 4.47s\tremaining: 29.6s\n",
            "131:\tlearn: 0.3570834\ttest: 0.9957801\tbest: 0.7202733 (0)\ttotal: 4.5s\tremaining: 29.6s\n",
            "132:\tlearn: 0.3566586\ttest: 0.9931391\tbest: 0.7202733 (0)\ttotal: 4.53s\tremaining: 29.5s\n",
            "133:\tlearn: 0.3562436\ttest: 1.0054644\tbest: 0.7202733 (0)\ttotal: 4.56s\tremaining: 29.5s\n",
            "134:\tlearn: 0.3559448\ttest: 0.9753917\tbest: 0.7202733 (0)\ttotal: 4.6s\tremaining: 29.5s\n",
            "135:\tlearn: 0.3557175\ttest: 0.9754207\tbest: 0.7202733 (0)\ttotal: 4.63s\tremaining: 29.4s\n",
            "136:\tlearn: 0.3549481\ttest: 0.9771289\tbest: 0.7202733 (0)\ttotal: 4.66s\tremaining: 29.4s\n",
            "137:\tlearn: 0.3543117\ttest: 0.9753071\tbest: 0.7202733 (0)\ttotal: 4.7s\tremaining: 29.3s\n",
            "138:\tlearn: 0.3539545\ttest: 0.9735610\tbest: 0.7202733 (0)\ttotal: 4.72s\tremaining: 29.3s\n",
            "139:\tlearn: 0.3535962\ttest: 0.9819931\tbest: 0.7202733 (0)\ttotal: 4.76s\tremaining: 29.2s\n",
            "140:\tlearn: 0.3532599\ttest: 0.9716639\tbest: 0.7202733 (0)\ttotal: 4.79s\tremaining: 29.2s\n",
            "141:\tlearn: 0.3530241\ttest: 0.9702604\tbest: 0.7202733 (0)\ttotal: 4.82s\tremaining: 29.1s\n",
            "142:\tlearn: 0.3527666\ttest: 0.9800341\tbest: 0.7202733 (0)\ttotal: 4.85s\tremaining: 29.1s\n",
            "143:\tlearn: 0.3523995\ttest: 0.9800717\tbest: 0.7202733 (0)\ttotal: 4.89s\tremaining: 29.1s\n",
            "144:\tlearn: 0.3515908\ttest: 0.9818270\tbest: 0.7202733 (0)\ttotal: 4.92s\tremaining: 29s\n",
            "145:\tlearn: 0.3513502\ttest: 0.9594847\tbest: 0.7202733 (0)\ttotal: 4.95s\tremaining: 29s\n",
            "146:\tlearn: 0.3507547\ttest: 0.9597898\tbest: 0.7202733 (0)\ttotal: 4.98s\tremaining: 28.9s\n",
            "147:\tlearn: 0.3499707\ttest: 0.9575843\tbest: 0.7202733 (0)\ttotal: 5.02s\tremaining: 28.9s\n",
            "148:\tlearn: 0.3496508\ttest: 0.9572489\tbest: 0.7202733 (0)\ttotal: 5.05s\tremaining: 28.8s\n",
            "149:\tlearn: 0.3492261\ttest: 0.9561459\tbest: 0.7202733 (0)\ttotal: 5.08s\tremaining: 28.8s\n",
            "150:\tlearn: 0.3487186\ttest: 0.9583047\tbest: 0.7202733 (0)\ttotal: 5.11s\tremaining: 28.8s\n",
            "151:\tlearn: 0.3485362\ttest: 1.0115646\tbest: 0.7202733 (0)\ttotal: 5.14s\tremaining: 28.7s\n",
            "152:\tlearn: 0.3482762\ttest: 1.0107895\tbest: 0.7202733 (0)\ttotal: 5.18s\tremaining: 28.7s\n",
            "153:\tlearn: 0.3479443\ttest: 1.0077321\tbest: 0.7202733 (0)\ttotal: 5.21s\tremaining: 28.6s\n",
            "154:\tlearn: 0.3475787\ttest: 1.0067868\tbest: 0.7202733 (0)\ttotal: 5.24s\tremaining: 28.6s\n",
            "155:\tlearn: 0.3469668\ttest: 1.0070306\tbest: 0.7202733 (0)\ttotal: 5.27s\tremaining: 28.5s\n",
            "156:\tlearn: 0.3468111\ttest: 0.9928172\tbest: 0.7202733 (0)\ttotal: 5.31s\tremaining: 28.5s\n",
            "157:\tlearn: 0.3465977\ttest: 0.9882742\tbest: 0.7202733 (0)\ttotal: 5.35s\tremaining: 28.5s\n",
            "158:\tlearn: 0.3464068\ttest: 0.9899501\tbest: 0.7202733 (0)\ttotal: 5.38s\tremaining: 28.5s\n",
            "159:\tlearn: 0.3460732\ttest: 0.9904014\tbest: 0.7202733 (0)\ttotal: 5.41s\tremaining: 28.4s\n",
            "160:\tlearn: 0.3457190\ttest: 0.9959907\tbest: 0.7202733 (0)\ttotal: 5.44s\tremaining: 28.4s\n",
            "161:\tlearn: 0.3450619\ttest: 0.9968677\tbest: 0.7202733 (0)\ttotal: 5.48s\tremaining: 28.3s\n",
            "162:\tlearn: 0.3449229\ttest: 0.9962749\tbest: 0.7202733 (0)\ttotal: 5.51s\tremaining: 28.3s\n",
            "163:\tlearn: 0.3446346\ttest: 0.9956051\tbest: 0.7202733 (0)\ttotal: 5.54s\tremaining: 28.3s\n",
            "164:\tlearn: 0.3441315\ttest: 0.9967622\tbest: 0.7202733 (0)\ttotal: 5.59s\tremaining: 28.3s\n",
            "165:\tlearn: 0.3439453\ttest: 0.9982855\tbest: 0.7202733 (0)\ttotal: 5.62s\tremaining: 28.3s\n",
            "166:\tlearn: 0.3437315\ttest: 0.9905561\tbest: 0.7202733 (0)\ttotal: 5.66s\tremaining: 28.2s\n",
            "167:\tlearn: 0.3433469\ttest: 0.9882869\tbest: 0.7202733 (0)\ttotal: 5.69s\tremaining: 28.2s\n",
            "168:\tlearn: 0.3431526\ttest: 0.9865661\tbest: 0.7202733 (0)\ttotal: 5.72s\tremaining: 28.1s\n",
            "169:\tlearn: 0.3426293\ttest: 0.9873866\tbest: 0.7202733 (0)\ttotal: 5.76s\tremaining: 28.1s\n",
            "170:\tlearn: 0.3424954\ttest: 1.0301436\tbest: 0.7202733 (0)\ttotal: 5.79s\tremaining: 28.1s\n",
            "171:\tlearn: 0.3419935\ttest: 1.0303216\tbest: 0.7202733 (0)\ttotal: 5.82s\tremaining: 28s\n",
            "172:\tlearn: 0.3417692\ttest: 1.0346047\tbest: 0.7202733 (0)\ttotal: 5.86s\tremaining: 28s\n",
            "173:\tlearn: 0.3415311\ttest: 1.0187065\tbest: 0.7202733 (0)\ttotal: 5.89s\tremaining: 28s\n",
            "174:\tlearn: 0.3411159\ttest: 1.0184360\tbest: 0.7202733 (0)\ttotal: 5.92s\tremaining: 27.9s\n",
            "175:\tlearn: 0.3406499\ttest: 1.0182616\tbest: 0.7202733 (0)\ttotal: 5.95s\tremaining: 27.9s\n",
            "176:\tlearn: 0.3397224\ttest: 1.0188261\tbest: 0.7202733 (0)\ttotal: 5.99s\tremaining: 27.9s\n",
            "177:\tlearn: 0.3395445\ttest: 1.0219843\tbest: 0.7202733 (0)\ttotal: 6.03s\tremaining: 27.8s\n",
            "178:\tlearn: 0.3393831\ttest: 1.0217437\tbest: 0.7202733 (0)\ttotal: 6.06s\tremaining: 27.8s\n",
            "179:\tlearn: 0.3391409\ttest: 1.0195002\tbest: 0.7202733 (0)\ttotal: 6.09s\tremaining: 27.8s\n",
            "180:\tlearn: 0.3387789\ttest: 1.0038977\tbest: 0.7202733 (0)\ttotal: 6.12s\tremaining: 27.7s\n",
            "181:\tlearn: 0.3385173\ttest: 1.0047963\tbest: 0.7202733 (0)\ttotal: 6.15s\tremaining: 27.7s\n",
            "182:\tlearn: 0.3382370\ttest: 1.0100701\tbest: 0.7202733 (0)\ttotal: 6.19s\tremaining: 27.6s\n",
            "183:\tlearn: 0.3380720\ttest: 1.0086813\tbest: 0.7202733 (0)\ttotal: 6.22s\tremaining: 27.6s\n",
            "184:\tlearn: 0.3378821\ttest: 1.0000009\tbest: 0.7202733 (0)\ttotal: 6.25s\tremaining: 27.5s\n",
            "185:\tlearn: 0.3375250\ttest: 1.0012352\tbest: 0.7202733 (0)\ttotal: 6.28s\tremaining: 27.5s\n",
            "186:\tlearn: 0.3373631\ttest: 1.0012579\tbest: 0.7202733 (0)\ttotal: 6.32s\tremaining: 27.5s\n",
            "187:\tlearn: 0.3371638\ttest: 0.9967615\tbest: 0.7202733 (0)\ttotal: 6.35s\tremaining: 27.4s\n",
            "188:\tlearn: 0.3366440\ttest: 0.9935472\tbest: 0.7202733 (0)\ttotal: 6.38s\tremaining: 27.4s\n",
            "189:\tlearn: 0.3364621\ttest: 0.9965356\tbest: 0.7202733 (0)\ttotal: 6.41s\tremaining: 27.3s\n",
            "190:\tlearn: 0.3363361\ttest: 0.9989940\tbest: 0.7202733 (0)\ttotal: 6.44s\tremaining: 27.3s\n",
            "191:\tlearn: 0.3356094\ttest: 0.9993065\tbest: 0.7202733 (0)\ttotal: 6.48s\tremaining: 27.3s\n",
            "192:\tlearn: 0.3352570\ttest: 0.9996812\tbest: 0.7202733 (0)\ttotal: 6.51s\tremaining: 27.2s\n",
            "193:\tlearn: 0.3347520\ttest: 1.0017856\tbest: 0.7202733 (0)\ttotal: 6.55s\tremaining: 27.2s\n",
            "194:\tlearn: 0.3346507\ttest: 1.0019418\tbest: 0.7202733 (0)\ttotal: 6.58s\tremaining: 27.2s\n",
            "195:\tlearn: 0.3341518\ttest: 1.0014952\tbest: 0.7202733 (0)\ttotal: 6.62s\tremaining: 27.2s\n",
            "196:\tlearn: 0.3338971\ttest: 1.0066228\tbest: 0.7202733 (0)\ttotal: 6.65s\tremaining: 27.1s\n",
            "197:\tlearn: 0.3337257\ttest: 1.0075226\tbest: 0.7202733 (0)\ttotal: 6.69s\tremaining: 27.1s\n",
            "198:\tlearn: 0.3335758\ttest: 1.0665873\tbest: 0.7202733 (0)\ttotal: 6.73s\tremaining: 27.1s\n",
            "199:\tlearn: 0.3331259\ttest: 1.0671665\tbest: 0.7202733 (0)\ttotal: 6.76s\tremaining: 27s\n",
            "200:\tlearn: 0.3329765\ttest: 1.0649300\tbest: 0.7202733 (0)\ttotal: 6.8s\tremaining: 27s\n",
            "201:\tlearn: 0.3325332\ttest: 1.0658196\tbest: 0.7202733 (0)\ttotal: 6.83s\tremaining: 27s\n",
            "202:\tlearn: 0.3324140\ttest: 1.0619970\tbest: 0.7202733 (0)\ttotal: 6.86s\tremaining: 26.9s\n",
            "203:\tlearn: 0.3322537\ttest: 1.0691532\tbest: 0.7202733 (0)\ttotal: 6.89s\tremaining: 26.9s\n",
            "204:\tlearn: 0.3316633\ttest: 1.0695387\tbest: 0.7202733 (0)\ttotal: 6.93s\tremaining: 26.9s\n",
            "205:\tlearn: 0.3314513\ttest: 1.0685144\tbest: 0.7202733 (0)\ttotal: 6.96s\tremaining: 26.8s\n",
            "206:\tlearn: 0.3312998\ttest: 1.0686771\tbest: 0.7202733 (0)\ttotal: 6.99s\tremaining: 26.8s\n",
            "207:\tlearn: 0.3311820\ttest: 1.0502809\tbest: 0.7202733 (0)\ttotal: 7.02s\tremaining: 26.7s\n",
            "208:\tlearn: 0.3309458\ttest: 1.0511578\tbest: 0.7202733 (0)\ttotal: 7.05s\tremaining: 26.7s\n",
            "209:\tlearn: 0.3307891\ttest: 1.0566577\tbest: 0.7202733 (0)\ttotal: 7.08s\tremaining: 26.6s\n",
            "210:\tlearn: 0.3302212\ttest: 1.0550250\tbest: 0.7202733 (0)\ttotal: 7.12s\tremaining: 26.6s\n",
            "211:\tlearn: 0.3300535\ttest: 1.0570544\tbest: 0.7202733 (0)\ttotal: 7.15s\tremaining: 26.6s\n",
            "212:\tlearn: 0.3298146\ttest: 1.0541786\tbest: 0.7202733 (0)\ttotal: 7.18s\tremaining: 26.5s\n",
            "213:\tlearn: 0.3297142\ttest: 1.0547164\tbest: 0.7202733 (0)\ttotal: 7.22s\tremaining: 26.5s\n",
            "214:\tlearn: 0.3296203\ttest: 1.0547189\tbest: 0.7202733 (0)\ttotal: 7.25s\tremaining: 26.5s\n",
            "215:\tlearn: 0.3292477\ttest: 1.0558555\tbest: 0.7202733 (0)\ttotal: 7.28s\tremaining: 26.4s\n",
            "216:\tlearn: 0.3289827\ttest: 1.0574575\tbest: 0.7202733 (0)\ttotal: 7.31s\tremaining: 26.4s\n",
            "217:\tlearn: 0.3285742\ttest: 1.0578430\tbest: 0.7202733 (0)\ttotal: 7.34s\tremaining: 26.4s\n",
            "218:\tlearn: 0.3281163\ttest: 1.0553780\tbest: 0.7202733 (0)\ttotal: 7.39s\tremaining: 26.4s\n",
            "219:\tlearn: 0.3279799\ttest: 0.9747259\tbest: 0.7202733 (0)\ttotal: 7.42s\tremaining: 26.3s\n",
            "220:\tlearn: 0.3277940\ttest: 0.9744299\tbest: 0.7202733 (0)\ttotal: 7.45s\tremaining: 26.3s\n",
            "221:\tlearn: 0.3275529\ttest: 0.9836685\tbest: 0.7202733 (0)\ttotal: 7.49s\tremaining: 26.2s\n",
            "222:\tlearn: 0.3270951\ttest: 0.9839504\tbest: 0.7202733 (0)\ttotal: 7.52s\tremaining: 26.2s\n",
            "223:\tlearn: 0.3269566\ttest: 0.9840007\tbest: 0.7202733 (0)\ttotal: 7.55s\tremaining: 26.1s\n",
            "224:\tlearn: 0.3267921\ttest: 0.9838989\tbest: 0.7202733 (0)\ttotal: 7.58s\tremaining: 26.1s\n",
            "225:\tlearn: 0.3264504\ttest: 0.9848361\tbest: 0.7202733 (0)\ttotal: 7.62s\tremaining: 26.1s\n",
            "226:\tlearn: 0.3263016\ttest: 0.9848367\tbest: 0.7202733 (0)\ttotal: 7.66s\tremaining: 26.1s\n",
            "227:\tlearn: 0.3261186\ttest: 0.9851784\tbest: 0.7202733 (0)\ttotal: 7.69s\tremaining: 26.1s\n",
            "228:\tlearn: 0.3257385\ttest: 0.9829076\tbest: 0.7202733 (0)\ttotal: 7.73s\tremaining: 26s\n",
            "229:\tlearn: 0.3255411\ttest: 0.9834412\tbest: 0.7202733 (0)\ttotal: 7.76s\tremaining: 26s\n",
            "230:\tlearn: 0.3253999\ttest: 0.9717913\tbest: 0.7202733 (0)\ttotal: 7.79s\tremaining: 25.9s\n",
            "231:\tlearn: 0.3252088\ttest: 0.9698118\tbest: 0.7202733 (0)\ttotal: 7.82s\tremaining: 25.9s\n",
            "232:\tlearn: 0.3246193\ttest: 0.9700301\tbest: 0.7202733 (0)\ttotal: 7.85s\tremaining: 25.8s\n",
            "233:\tlearn: 0.3244967\ttest: 0.9715131\tbest: 0.7202733 (0)\ttotal: 7.88s\tremaining: 25.8s\n",
            "234:\tlearn: 0.3243790\ttest: 0.9714620\tbest: 0.7202733 (0)\ttotal: 7.91s\tremaining: 25.8s\n",
            "235:\tlearn: 0.3238145\ttest: 0.9713492\tbest: 0.7202733 (0)\ttotal: 7.94s\tremaining: 25.7s\n",
            "236:\tlearn: 0.3236726\ttest: 0.9770708\tbest: 0.7202733 (0)\ttotal: 7.98s\tremaining: 25.7s\n",
            "237:\tlearn: 0.3233340\ttest: 0.9807393\tbest: 0.7202733 (0)\ttotal: 8.01s\tremaining: 25.6s\n",
            "238:\tlearn: 0.3232234\ttest: 0.9834701\tbest: 0.7202733 (0)\ttotal: 8.04s\tremaining: 25.6s\n",
            "239:\tlearn: 0.3230667\ttest: 0.9853623\tbest: 0.7202733 (0)\ttotal: 8.08s\tremaining: 25.6s\n",
            "240:\tlearn: 0.3228799\ttest: 0.9852182\tbest: 0.7202733 (0)\ttotal: 8.11s\tremaining: 25.5s\n",
            "241:\tlearn: 0.3227620\ttest: 0.9838888\tbest: 0.7202733 (0)\ttotal: 8.14s\tremaining: 25.5s\n",
            "242:\tlearn: 0.3225524\ttest: 1.0164020\tbest: 0.7202733 (0)\ttotal: 8.17s\tremaining: 25.5s\n",
            "243:\tlearn: 0.3222702\ttest: 1.0179446\tbest: 0.7202733 (0)\ttotal: 8.2s\tremaining: 25.4s\n",
            "244:\tlearn: 0.3221537\ttest: 1.0139921\tbest: 0.7202733 (0)\ttotal: 8.23s\tremaining: 25.4s\n",
            "245:\tlearn: 0.3220500\ttest: 1.0075692\tbest: 0.7202733 (0)\ttotal: 8.27s\tremaining: 25.3s\n",
            "246:\tlearn: 0.3219349\ttest: 1.0062386\tbest: 0.7202733 (0)\ttotal: 8.3s\tremaining: 25.3s\n",
            "247:\tlearn: 0.3218013\ttest: 1.0104979\tbest: 0.7202733 (0)\ttotal: 8.33s\tremaining: 25.3s\n",
            "248:\tlearn: 0.3216513\ttest: 1.0100310\tbest: 0.7202733 (0)\ttotal: 8.36s\tremaining: 25.2s\n",
            "249:\tlearn: 0.3215501\ttest: 0.9968254\tbest: 0.7202733 (0)\ttotal: 8.39s\tremaining: 25.2s\n",
            "250:\tlearn: 0.3211600\ttest: 0.9965339\tbest: 0.7202733 (0)\ttotal: 8.42s\tremaining: 25.1s\n",
            "251:\tlearn: 0.3210511\ttest: 0.9964044\tbest: 0.7202733 (0)\ttotal: 8.45s\tremaining: 25.1s\n",
            "252:\tlearn: 0.3207444\ttest: 0.9943587\tbest: 0.7202733 (0)\ttotal: 8.48s\tremaining: 25s\n",
            "253:\tlearn: 0.3203989\ttest: 0.9946053\tbest: 0.7202733 (0)\ttotal: 8.52s\tremaining: 25s\n",
            "254:\tlearn: 0.3202709\ttest: 0.9938451\tbest: 0.7202733 (0)\ttotal: 8.55s\tremaining: 25s\n",
            "255:\tlearn: 0.3201160\ttest: 0.9947183\tbest: 0.7202733 (0)\ttotal: 8.59s\tremaining: 25s\n",
            "256:\tlearn: 0.3196459\ttest: 0.9944963\tbest: 0.7202733 (0)\ttotal: 8.63s\tremaining: 24.9s\n",
            "257:\tlearn: 0.3195101\ttest: 0.9946869\tbest: 0.7202733 (0)\ttotal: 8.66s\tremaining: 24.9s\n",
            "258:\tlearn: 0.3193919\ttest: 0.9662819\tbest: 0.7202733 (0)\ttotal: 8.69s\tremaining: 24.9s\n",
            "259:\tlearn: 0.3191107\ttest: 0.9673232\tbest: 0.7202733 (0)\ttotal: 8.72s\tremaining: 24.8s\n",
            "260:\tlearn: 0.3189518\ttest: 0.9719062\tbest: 0.7202733 (0)\ttotal: 8.76s\tremaining: 24.8s\n",
            "261:\tlearn: 0.3188481\ttest: 0.9764327\tbest: 0.7202733 (0)\ttotal: 8.79s\tremaining: 24.7s\n",
            "262:\tlearn: 0.3183217\ttest: 0.9760819\tbest: 0.7202733 (0)\ttotal: 8.82s\tremaining: 24.7s\n",
            "263:\tlearn: 0.3180318\ttest: 0.9763273\tbest: 0.7202733 (0)\ttotal: 8.85s\tremaining: 24.7s\n",
            "264:\tlearn: 0.3176980\ttest: 0.9776757\tbest: 0.7202733 (0)\ttotal: 8.88s\tremaining: 24.6s\n",
            "265:\tlearn: 0.3175383\ttest: 0.9837014\tbest: 0.7202733 (0)\ttotal: 8.91s\tremaining: 24.6s\n",
            "266:\tlearn: 0.3173952\ttest: 0.9837155\tbest: 0.7202733 (0)\ttotal: 8.95s\tremaining: 24.6s\n",
            "267:\tlearn: 0.3172247\ttest: 0.9760070\tbest: 0.7202733 (0)\ttotal: 8.99s\tremaining: 24.5s\n",
            "268:\tlearn: 0.3170897\ttest: 0.9776717\tbest: 0.7202733 (0)\ttotal: 9.02s\tremaining: 24.5s\n",
            "269:\tlearn: 0.3169769\ttest: 0.9772383\tbest: 0.7202733 (0)\ttotal: 9.05s\tremaining: 24.5s\n",
            "270:\tlearn: 0.3168443\ttest: 0.9775565\tbest: 0.7202733 (0)\ttotal: 9.08s\tremaining: 24.4s\n",
            "271:\tlearn: 0.3166883\ttest: 0.9634746\tbest: 0.7202733 (0)\ttotal: 9.11s\tremaining: 24.4s\n",
            "272:\tlearn: 0.3165103\ttest: 0.9406262\tbest: 0.7202733 (0)\ttotal: 9.14s\tremaining: 24.4s\n",
            "273:\tlearn: 0.3162444\ttest: 0.9410290\tbest: 0.7202733 (0)\ttotal: 9.18s\tremaining: 24.3s\n",
            "274:\tlearn: 0.3159466\ttest: 0.9401861\tbest: 0.7202733 (0)\ttotal: 9.21s\tremaining: 24.3s\n",
            "275:\tlearn: 0.3158426\ttest: 0.9402208\tbest: 0.7202733 (0)\ttotal: 9.24s\tremaining: 24.2s\n",
            "276:\tlearn: 0.3156655\ttest: 0.9396480\tbest: 0.7202733 (0)\ttotal: 9.27s\tremaining: 24.2s\n",
            "277:\tlearn: 0.3154421\ttest: 0.9391800\tbest: 0.7202733 (0)\ttotal: 9.3s\tremaining: 24.2s\n",
            "278:\tlearn: 0.3153061\ttest: 0.9142518\tbest: 0.7202733 (0)\ttotal: 9.34s\tremaining: 24.1s\n",
            "279:\tlearn: 0.3151989\ttest: 0.9099761\tbest: 0.7202733 (0)\ttotal: 9.37s\tremaining: 24.1s\n",
            "280:\tlearn: 0.3150759\ttest: 0.9046193\tbest: 0.7202733 (0)\ttotal: 9.41s\tremaining: 24.1s\n",
            "281:\tlearn: 0.3149471\ttest: 0.9095530\tbest: 0.7202733 (0)\ttotal: 9.44s\tremaining: 24s\n",
            "282:\tlearn: 0.3148624\ttest: 0.9095675\tbest: 0.7202733 (0)\ttotal: 9.47s\tremaining: 24s\n",
            "283:\tlearn: 0.3147662\ttest: 0.9169616\tbest: 0.7202733 (0)\ttotal: 9.5s\tremaining: 24s\n",
            "284:\tlearn: 0.3145151\ttest: 0.9182982\tbest: 0.7202733 (0)\ttotal: 9.54s\tremaining: 23.9s\n",
            "285:\tlearn: 0.3143666\ttest: 0.9193219\tbest: 0.7202733 (0)\ttotal: 9.57s\tremaining: 23.9s\n",
            "286:\tlearn: 0.3142580\ttest: 0.9156798\tbest: 0.7202733 (0)\ttotal: 9.6s\tremaining: 23.8s\n",
            "287:\tlearn: 0.3141342\ttest: 0.9157180\tbest: 0.7202733 (0)\ttotal: 9.64s\tremaining: 23.8s\n",
            "288:\tlearn: 0.3138851\ttest: 0.9134029\tbest: 0.7202733 (0)\ttotal: 9.68s\tremaining: 23.8s\n",
            "289:\tlearn: 0.3137595\ttest: 0.9018351\tbest: 0.7202733 (0)\ttotal: 9.71s\tremaining: 23.8s\n",
            "290:\tlearn: 0.3134456\ttest: 0.8666187\tbest: 0.7202733 (0)\ttotal: 9.74s\tremaining: 23.7s\n",
            "291:\tlearn: 0.3132071\ttest: 0.8656935\tbest: 0.7202733 (0)\ttotal: 9.77s\tremaining: 23.7s\n",
            "292:\tlearn: 0.3131137\ttest: 0.8617214\tbest: 0.7202733 (0)\ttotal: 9.8s\tremaining: 23.6s\n",
            "293:\tlearn: 0.3130150\ttest: 0.8936748\tbest: 0.7202733 (0)\ttotal: 9.83s\tremaining: 23.6s\n",
            "294:\tlearn: 0.3129260\ttest: 0.9005612\tbest: 0.7202733 (0)\ttotal: 9.87s\tremaining: 23.6s\n",
            "295:\tlearn: 0.3127989\ttest: 0.9020738\tbest: 0.7202733 (0)\ttotal: 9.9s\tremaining: 23.5s\n",
            "296:\tlearn: 0.3126610\ttest: 0.9024087\tbest: 0.7202733 (0)\ttotal: 9.93s\tremaining: 23.5s\n",
            "297:\tlearn: 0.3124119\ttest: 0.9030656\tbest: 0.7202733 (0)\ttotal: 9.96s\tremaining: 23.5s\n",
            "298:\tlearn: 0.3123284\ttest: 0.9030664\tbest: 0.7202733 (0)\ttotal: 9.99s\tremaining: 23.4s\n",
            "299:\tlearn: 0.3120099\ttest: 0.9033637\tbest: 0.7202733 (0)\ttotal: 10s\tremaining: 23.4s\n",
            "300:\tlearn: 0.3119103\ttest: 0.9078062\tbest: 0.7202733 (0)\ttotal: 10.1s\tremaining: 23.3s\n",
            "301:\tlearn: 0.3116974\ttest: 0.9064732\tbest: 0.7202733 (0)\ttotal: 10.1s\tremaining: 23.3s\n",
            "302:\tlearn: 0.3115603\ttest: 0.8940206\tbest: 0.7202733 (0)\ttotal: 10.1s\tremaining: 23.3s\n",
            "303:\tlearn: 0.3112106\ttest: 0.8946475\tbest: 0.7202733 (0)\ttotal: 10.1s\tremaining: 23.2s\n",
            "304:\tlearn: 0.3111125\ttest: 0.8949953\tbest: 0.7202733 (0)\ttotal: 10.2s\tremaining: 23.2s\n",
            "305:\tlearn: 0.3110319\ttest: 0.9056873\tbest: 0.7202733 (0)\ttotal: 10.2s\tremaining: 23.2s\n",
            "306:\tlearn: 0.3109199\ttest: 0.9055869\tbest: 0.7202733 (0)\ttotal: 10.2s\tremaining: 23.1s\n",
            "307:\tlearn: 0.3108364\ttest: 0.9071903\tbest: 0.7202733 (0)\ttotal: 10.3s\tremaining: 23.1s\n",
            "308:\tlearn: 0.3106475\ttest: 0.9058524\tbest: 0.7202733 (0)\ttotal: 10.3s\tremaining: 23.1s\n",
            "309:\tlearn: 0.3105320\ttest: 0.9058324\tbest: 0.7202733 (0)\ttotal: 10.3s\tremaining: 23s\n",
            "310:\tlearn: 0.3100852\ttest: 0.9036024\tbest: 0.7202733 (0)\ttotal: 10.4s\tremaining: 23s\n",
            "311:\tlearn: 0.3099115\ttest: 0.9031468\tbest: 0.7202733 (0)\ttotal: 10.4s\tremaining: 22.9s\n",
            "312:\tlearn: 0.3097607\ttest: 0.9041195\tbest: 0.7202733 (0)\ttotal: 10.4s\tremaining: 22.9s\n",
            "313:\tlearn: 0.3096760\ttest: 0.8906943\tbest: 0.7202733 (0)\ttotal: 10.5s\tremaining: 22.9s\n",
            "314:\tlearn: 0.3095582\ttest: 0.8915092\tbest: 0.7202733 (0)\ttotal: 10.5s\tremaining: 22.8s\n",
            "315:\tlearn: 0.3094057\ttest: 0.8867502\tbest: 0.7202733 (0)\ttotal: 10.5s\tremaining: 22.8s\n",
            "316:\tlearn: 0.3092387\ttest: 0.8869737\tbest: 0.7202733 (0)\ttotal: 10.6s\tremaining: 22.8s\n",
            "317:\tlearn: 0.3091076\ttest: 0.8901306\tbest: 0.7202733 (0)\ttotal: 10.6s\tremaining: 22.7s\n",
            "318:\tlearn: 0.3089841\ttest: 0.8894452\tbest: 0.7202733 (0)\ttotal: 10.6s\tremaining: 22.7s\n",
            "319:\tlearn: 0.3088467\ttest: 0.8914292\tbest: 0.7202733 (0)\ttotal: 10.7s\tremaining: 22.7s\n",
            "320:\tlearn: 0.3084089\ttest: 0.8910815\tbest: 0.7202733 (0)\ttotal: 10.7s\tremaining: 22.6s\n",
            "321:\tlearn: 0.3082014\ttest: 0.8858853\tbest: 0.7202733 (0)\ttotal: 10.7s\tremaining: 22.6s\n",
            "322:\tlearn: 0.3080811\ttest: 0.8859499\tbest: 0.7202733 (0)\ttotal: 10.8s\tremaining: 22.6s\n",
            "323:\tlearn: 0.3076741\ttest: 0.8866186\tbest: 0.7202733 (0)\ttotal: 10.8s\tremaining: 22.5s\n",
            "324:\tlearn: 0.3075849\ttest: 0.8917465\tbest: 0.7202733 (0)\ttotal: 10.8s\tremaining: 22.5s\n",
            "325:\tlearn: 0.3074354\ttest: 0.8920961\tbest: 0.7202733 (0)\ttotal: 10.9s\tremaining: 22.5s\n",
            "326:\tlearn: 0.3071438\ttest: 0.8914094\tbest: 0.7202733 (0)\ttotal: 10.9s\tremaining: 22.4s\n",
            "327:\tlearn: 0.3070764\ttest: 0.8823082\tbest: 0.7202733 (0)\ttotal: 10.9s\tremaining: 22.4s\n",
            "328:\tlearn: 0.3069455\ttest: 0.8821486\tbest: 0.7202733 (0)\ttotal: 11s\tremaining: 22.4s\n",
            "329:\tlearn: 0.3068774\ttest: 0.8776208\tbest: 0.7202733 (0)\ttotal: 11s\tremaining: 22.3s\n",
            "330:\tlearn: 0.3067527\ttest: 0.8549146\tbest: 0.7202733 (0)\ttotal: 11s\tremaining: 22.3s\n",
            "331:\tlearn: 0.3066516\ttest: 0.8560917\tbest: 0.7202733 (0)\ttotal: 11.1s\tremaining: 22.2s\n",
            "332:\tlearn: 0.3065455\ttest: 0.8550603\tbest: 0.7202733 (0)\ttotal: 11.1s\tremaining: 22.2s\n",
            "333:\tlearn: 0.3064498\ttest: 0.8582976\tbest: 0.7202733 (0)\ttotal: 11.1s\tremaining: 22.2s\n",
            "334:\tlearn: 0.3062335\ttest: 0.8504310\tbest: 0.7202733 (0)\ttotal: 11.1s\tremaining: 22.1s\n",
            "335:\tlearn: 0.3060595\ttest: 0.8484505\tbest: 0.7202733 (0)\ttotal: 11.2s\tremaining: 22.1s\n",
            "336:\tlearn: 0.3058342\ttest: 0.8485467\tbest: 0.7202733 (0)\ttotal: 11.2s\tremaining: 22.1s\n",
            "337:\tlearn: 0.3056851\ttest: 0.8492890\tbest: 0.7202733 (0)\ttotal: 11.2s\tremaining: 22s\n",
            "338:\tlearn: 0.3052413\ttest: 0.8496062\tbest: 0.7202733 (0)\ttotal: 11.3s\tremaining: 22s\n",
            "339:\tlearn: 0.3049064\ttest: 0.8498232\tbest: 0.7202733 (0)\ttotal: 11.3s\tremaining: 21.9s\n",
            "340:\tlearn: 0.3045177\ttest: 0.8505666\tbest: 0.7202733 (0)\ttotal: 11.3s\tremaining: 21.9s\n",
            "341:\tlearn: 0.3044272\ttest: 0.8474706\tbest: 0.7202733 (0)\ttotal: 11.4s\tremaining: 21.9s\n",
            "342:\tlearn: 0.3042858\ttest: 0.8452199\tbest: 0.7202733 (0)\ttotal: 11.4s\tremaining: 21.8s\n",
            "343:\tlearn: 0.3040788\ttest: 0.8437870\tbest: 0.7202733 (0)\ttotal: 11.4s\tremaining: 21.8s\n",
            "344:\tlearn: 0.3039731\ttest: 0.8217811\tbest: 0.7202733 (0)\ttotal: 11.5s\tremaining: 21.8s\n",
            "345:\tlearn: 0.3037348\ttest: 0.8180077\tbest: 0.7202733 (0)\ttotal: 11.5s\tremaining: 21.7s\n",
            "346:\tlearn: 0.3036522\ttest: 0.8180491\tbest: 0.7202733 (0)\ttotal: 11.5s\tremaining: 21.7s\n",
            "347:\tlearn: 0.3035675\ttest: 0.8394252\tbest: 0.7202733 (0)\ttotal: 11.6s\tremaining: 21.7s\n",
            "348:\tlearn: 0.3034011\ttest: 0.8891274\tbest: 0.7202733 (0)\ttotal: 11.6s\tremaining: 21.6s\n",
            "349:\tlearn: 0.3032901\ttest: 0.8915573\tbest: 0.7202733 (0)\ttotal: 11.6s\tremaining: 21.6s\n",
            "350:\tlearn: 0.3031740\ttest: 0.8913977\tbest: 0.7202733 (0)\ttotal: 11.7s\tremaining: 21.6s\n",
            "351:\tlearn: 0.3031091\ttest: 0.8893417\tbest: 0.7202733 (0)\ttotal: 11.7s\tremaining: 21.5s\n",
            "352:\tlearn: 0.3030156\ttest: 0.8910505\tbest: 0.7202733 (0)\ttotal: 11.7s\tremaining: 21.5s\n",
            "353:\tlearn: 0.3028591\ttest: 0.8911970\tbest: 0.7202733 (0)\ttotal: 11.8s\tremaining: 21.5s\n",
            "354:\tlearn: 0.3027355\ttest: 0.8912241\tbest: 0.7202733 (0)\ttotal: 11.8s\tremaining: 21.4s\n",
            "355:\tlearn: 0.3026851\ttest: 0.8891885\tbest: 0.7202733 (0)\ttotal: 11.8s\tremaining: 21.4s\n",
            "356:\tlearn: 0.3025886\ttest: 0.9023202\tbest: 0.7202733 (0)\ttotal: 11.9s\tremaining: 21.4s\n",
            "357:\tlearn: 0.3022647\ttest: 0.9021719\tbest: 0.7202733 (0)\ttotal: 11.9s\tremaining: 21.3s\n",
            "358:\tlearn: 0.3021622\ttest: 0.8997663\tbest: 0.7202733 (0)\ttotal: 11.9s\tremaining: 21.3s\n",
            "359:\tlearn: 0.3020846\ttest: 0.9021547\tbest: 0.7202733 (0)\ttotal: 12s\tremaining: 21.3s\n",
            "360:\tlearn: 0.3019699\ttest: 0.8915535\tbest: 0.7202733 (0)\ttotal: 12s\tremaining: 21.2s\n",
            "361:\tlearn: 0.3016958\ttest: 0.8940785\tbest: 0.7202733 (0)\ttotal: 12s\tremaining: 21.2s\n",
            "362:\tlearn: 0.3016022\ttest: 0.8935421\tbest: 0.7202733 (0)\ttotal: 12.1s\tremaining: 21.2s\n",
            "363:\tlearn: 0.3013603\ttest: 0.8932056\tbest: 0.7202733 (0)\ttotal: 12.1s\tremaining: 21.1s\n",
            "364:\tlearn: 0.3011820\ttest: 0.8934256\tbest: 0.7202733 (0)\ttotal: 12.1s\tremaining: 21.1s\n",
            "365:\tlearn: 0.3010239\ttest: 0.8921795\tbest: 0.7202733 (0)\ttotal: 12.2s\tremaining: 21.1s\n",
            "366:\tlearn: 0.3009511\ttest: 0.8931752\tbest: 0.7202733 (0)\ttotal: 12.2s\tremaining: 21s\n",
            "367:\tlearn: 0.3006695\ttest: 0.8959095\tbest: 0.7202733 (0)\ttotal: 12.2s\tremaining: 21s\n",
            "368:\tlearn: 0.3005077\ttest: 0.8981178\tbest: 0.7202733 (0)\ttotal: 12.2s\tremaining: 20.9s\n",
            "369:\tlearn: 0.3004459\ttest: 0.8810292\tbest: 0.7202733 (0)\ttotal: 12.3s\tremaining: 20.9s\n",
            "370:\tlearn: 0.3003651\ttest: 0.8823763\tbest: 0.7202733 (0)\ttotal: 12.3s\tremaining: 20.9s\n",
            "371:\tlearn: 0.3001959\ttest: 0.8921337\tbest: 0.7202733 (0)\ttotal: 12.3s\tremaining: 20.8s\n",
            "372:\tlearn: 0.3001026\ttest: 0.8939411\tbest: 0.7202733 (0)\ttotal: 12.4s\tremaining: 20.8s\n",
            "373:\tlearn: 0.2998374\ttest: 0.8940470\tbest: 0.7202733 (0)\ttotal: 12.4s\tremaining: 20.7s\n",
            "374:\tlearn: 0.2997714\ttest: 0.9011652\tbest: 0.7202733 (0)\ttotal: 12.4s\tremaining: 20.7s\n",
            "375:\tlearn: 0.2996759\ttest: 0.9009073\tbest: 0.7202733 (0)\ttotal: 12.5s\tremaining: 20.7s\n",
            "376:\tlearn: 0.2995623\ttest: 0.8976490\tbest: 0.7202733 (0)\ttotal: 12.5s\tremaining: 20.6s\n",
            "377:\tlearn: 0.2994878\ttest: 0.9003554\tbest: 0.7202733 (0)\ttotal: 12.5s\tremaining: 20.6s\n",
            "378:\tlearn: 0.2993809\ttest: 0.9004495\tbest: 0.7202733 (0)\ttotal: 12.6s\tremaining: 20.6s\n",
            "379:\tlearn: 0.2993038\ttest: 0.9036100\tbest: 0.7202733 (0)\ttotal: 12.6s\tremaining: 20.5s\n",
            "380:\tlearn: 0.2991889\ttest: 0.9020471\tbest: 0.7202733 (0)\ttotal: 12.6s\tremaining: 20.5s\n",
            "381:\tlearn: 0.2990804\ttest: 0.9076781\tbest: 0.7202733 (0)\ttotal: 12.7s\tremaining: 20.5s\n",
            "382:\tlearn: 0.2990192\ttest: 0.8942965\tbest: 0.7202733 (0)\ttotal: 12.7s\tremaining: 20.5s\n",
            "383:\tlearn: 0.2989022\ttest: 0.8931216\tbest: 0.7202733 (0)\ttotal: 12.7s\tremaining: 20.4s\n",
            "384:\tlearn: 0.2986412\ttest: 0.8928981\tbest: 0.7202733 (0)\ttotal: 12.8s\tremaining: 20.4s\n",
            "385:\tlearn: 0.2985062\ttest: 0.8844839\tbest: 0.7202733 (0)\ttotal: 12.8s\tremaining: 20.4s\n",
            "386:\tlearn: 0.2983809\ttest: 0.8781266\tbest: 0.7202733 (0)\ttotal: 12.8s\tremaining: 20.3s\n",
            "387:\tlearn: 0.2983015\ttest: 0.8797506\tbest: 0.7202733 (0)\ttotal: 12.9s\tremaining: 20.3s\n",
            "388:\tlearn: 0.2981943\ttest: 0.8793381\tbest: 0.7202733 (0)\ttotal: 12.9s\tremaining: 20.2s\n",
            "389:\tlearn: 0.2980679\ttest: 0.8800839\tbest: 0.7202733 (0)\ttotal: 12.9s\tremaining: 20.2s\n",
            "390:\tlearn: 0.2978330\ttest: 0.8795550\tbest: 0.7202733 (0)\ttotal: 13s\tremaining: 20.2s\n",
            "391:\tlearn: 0.2977008\ttest: 0.8777710\tbest: 0.7202733 (0)\ttotal: 13s\tremaining: 20.2s\n",
            "392:\tlearn: 0.2974958\ttest: 0.8780532\tbest: 0.7202733 (0)\ttotal: 13s\tremaining: 20.1s\n",
            "393:\tlearn: 0.2972762\ttest: 0.8776655\tbest: 0.7202733 (0)\ttotal: 13.1s\tremaining: 20.1s\n",
            "394:\tlearn: 0.2972179\ttest: 0.8716636\tbest: 0.7202733 (0)\ttotal: 13.1s\tremaining: 20s\n",
            "395:\tlearn: 0.2971182\ttest: 0.8859291\tbest: 0.7202733 (0)\ttotal: 13.1s\tremaining: 20s\n",
            "396:\tlearn: 0.2968808\ttest: 0.8873539\tbest: 0.7202733 (0)\ttotal: 13.2s\tremaining: 20s\n",
            "397:\tlearn: 0.2967299\ttest: 0.8886189\tbest: 0.7202733 (0)\ttotal: 13.2s\tremaining: 20s\n",
            "398:\tlearn: 0.2965894\ttest: 0.8888558\tbest: 0.7202733 (0)\ttotal: 13.2s\tremaining: 19.9s\n",
            "399:\tlearn: 0.2964073\ttest: 0.8891275\tbest: 0.7202733 (0)\ttotal: 13.3s\tremaining: 19.9s\n",
            "400:\tlearn: 0.2962785\ttest: 0.8890616\tbest: 0.7202733 (0)\ttotal: 13.3s\tremaining: 19.9s\n",
            "401:\tlearn: 0.2960667\ttest: 0.8889534\tbest: 0.7202733 (0)\ttotal: 13.3s\tremaining: 19.8s\n",
            "402:\tlearn: 0.2959098\ttest: 0.8846564\tbest: 0.7202733 (0)\ttotal: 13.4s\tremaining: 19.8s\n",
            "403:\tlearn: 0.2958347\ttest: 0.9150728\tbest: 0.7202733 (0)\ttotal: 13.4s\tremaining: 19.8s\n",
            "404:\tlearn: 0.2957177\ttest: 0.9135002\tbest: 0.7202733 (0)\ttotal: 13.4s\tremaining: 19.7s\n",
            "405:\tlearn: 0.2955587\ttest: 0.9136420\tbest: 0.7202733 (0)\ttotal: 13.5s\tremaining: 19.7s\n",
            "406:\tlearn: 0.2954242\ttest: 0.9149857\tbest: 0.7202733 (0)\ttotal: 13.5s\tremaining: 19.7s\n",
            "407:\tlearn: 0.2952800\ttest: 0.9143600\tbest: 0.7202733 (0)\ttotal: 13.5s\tremaining: 19.6s\n",
            "408:\tlearn: 0.2951510\ttest: 0.9143882\tbest: 0.7202733 (0)\ttotal: 13.6s\tremaining: 19.6s\n",
            "409:\tlearn: 0.2949932\ttest: 0.9136860\tbest: 0.7202733 (0)\ttotal: 13.6s\tremaining: 19.6s\n",
            "410:\tlearn: 0.2948114\ttest: 0.9112821\tbest: 0.7202733 (0)\ttotal: 13.6s\tremaining: 19.5s\n",
            "411:\tlearn: 0.2946803\ttest: 0.9134539\tbest: 0.7202733 (0)\ttotal: 13.7s\tremaining: 19.5s\n",
            "412:\tlearn: 0.2945838\ttest: 0.9167504\tbest: 0.7202733 (0)\ttotal: 13.7s\tremaining: 19.5s\n",
            "413:\tlearn: 0.2945002\ttest: 0.9161263\tbest: 0.7202733 (0)\ttotal: 13.7s\tremaining: 19.4s\n",
            "414:\tlearn: 0.2944147\ttest: 0.9163570\tbest: 0.7202733 (0)\ttotal: 13.8s\tremaining: 19.4s\n",
            "415:\tlearn: 0.2941482\ttest: 0.9166311\tbest: 0.7202733 (0)\ttotal: 13.8s\tremaining: 19.4s\n",
            "416:\tlearn: 0.2940298\ttest: 0.9206959\tbest: 0.7202733 (0)\ttotal: 13.8s\tremaining: 19.3s\n",
            "417:\tlearn: 0.2939332\ttest: 0.9211733\tbest: 0.7202733 (0)\ttotal: 13.9s\tremaining: 19.3s\n",
            "418:\tlearn: 0.2938030\ttest: 0.9202262\tbest: 0.7202733 (0)\ttotal: 13.9s\tremaining: 19.3s\n",
            "419:\tlearn: 0.2936892\ttest: 0.9195498\tbest: 0.7202733 (0)\ttotal: 13.9s\tremaining: 19.2s\n",
            "420:\tlearn: 0.2935045\ttest: 0.9195097\tbest: 0.7202733 (0)\ttotal: 14s\tremaining: 19.2s\n",
            "421:\tlearn: 0.2934013\ttest: 0.9199935\tbest: 0.7202733 (0)\ttotal: 14s\tremaining: 19.2s\n",
            "422:\tlearn: 0.2933167\ttest: 0.9047260\tbest: 0.7202733 (0)\ttotal: 14s\tremaining: 19.1s\n",
            "423:\tlearn: 0.2931162\ttest: 0.9055125\tbest: 0.7202733 (0)\ttotal: 14.1s\tremaining: 19.1s\n",
            "424:\tlearn: 0.2929205\ttest: 0.9068410\tbest: 0.7202733 (0)\ttotal: 14.1s\tremaining: 19.1s\n",
            "425:\tlearn: 0.2928175\ttest: 0.9068452\tbest: 0.7202733 (0)\ttotal: 14.1s\tremaining: 19s\n",
            "426:\tlearn: 0.2927332\ttest: 0.8959724\tbest: 0.7202733 (0)\ttotal: 14.2s\tremaining: 19s\n",
            "427:\tlearn: 0.2925502\ttest: 0.8953710\tbest: 0.7202733 (0)\ttotal: 14.2s\tremaining: 19s\n",
            "428:\tlearn: 0.2925005\ttest: 0.8963371\tbest: 0.7202733 (0)\ttotal: 14.2s\tremaining: 18.9s\n",
            "429:\tlearn: 0.2924570\ttest: 0.8930841\tbest: 0.7202733 (0)\ttotal: 14.3s\tremaining: 18.9s\n",
            "430:\tlearn: 0.2923135\ttest: 0.8924566\tbest: 0.7202733 (0)\ttotal: 14.3s\tremaining: 18.9s\n",
            "431:\tlearn: 0.2921698\ttest: 0.8954529\tbest: 0.7202733 (0)\ttotal: 14.3s\tremaining: 18.8s\n",
            "432:\tlearn: 0.2919374\ttest: 0.8952527\tbest: 0.7202733 (0)\ttotal: 14.4s\tremaining: 18.8s\n",
            "433:\tlearn: 0.2918485\ttest: 0.8952603\tbest: 0.7202733 (0)\ttotal: 14.4s\tremaining: 18.8s\n",
            "434:\tlearn: 0.2917753\ttest: 0.8976165\tbest: 0.7202733 (0)\ttotal: 14.4s\tremaining: 18.7s\n",
            "435:\tlearn: 0.2916518\ttest: 0.8967728\tbest: 0.7202733 (0)\ttotal: 14.5s\tremaining: 18.7s\n",
            "436:\tlearn: 0.2913170\ttest: 0.8970789\tbest: 0.7202733 (0)\ttotal: 14.5s\tremaining: 18.7s\n",
            "437:\tlearn: 0.2911093\ttest: 0.8970266\tbest: 0.7202733 (0)\ttotal: 14.5s\tremaining: 18.7s\n",
            "438:\tlearn: 0.2910415\ttest: 0.8389031\tbest: 0.7202733 (0)\ttotal: 14.6s\tremaining: 18.6s\n",
            "439:\tlearn: 0.2909354\ttest: 0.8381909\tbest: 0.7202733 (0)\ttotal: 14.6s\tremaining: 18.6s\n",
            "440:\tlearn: 0.2908522\ttest: 0.8384479\tbest: 0.7202733 (0)\ttotal: 14.6s\tremaining: 18.6s\n",
            "441:\tlearn: 0.2907431\ttest: 0.8389566\tbest: 0.7202733 (0)\ttotal: 14.7s\tremaining: 18.5s\n",
            "442:\tlearn: 0.2906618\ttest: 0.8393314\tbest: 0.7202733 (0)\ttotal: 14.7s\tremaining: 18.5s\n",
            "443:\tlearn: 0.2906185\ttest: 0.8864645\tbest: 0.7202733 (0)\ttotal: 14.7s\tremaining: 18.5s\n",
            "444:\tlearn: 0.2905443\ttest: 0.8864167\tbest: 0.7202733 (0)\ttotal: 14.8s\tremaining: 18.4s\n",
            "445:\tlearn: 0.2904840\ttest: 0.8660419\tbest: 0.7202733 (0)\ttotal: 14.8s\tremaining: 18.4s\n",
            "446:\tlearn: 0.2903013\ttest: 0.8692038\tbest: 0.7202733 (0)\ttotal: 14.8s\tremaining: 18.4s\n",
            "447:\tlearn: 0.2902183\ttest: 0.8739143\tbest: 0.7202733 (0)\ttotal: 14.9s\tremaining: 18.3s\n",
            "448:\tlearn: 0.2901019\ttest: 0.8758062\tbest: 0.7202733 (0)\ttotal: 14.9s\tremaining: 18.3s\n",
            "449:\tlearn: 0.2900417\ttest: 0.8795121\tbest: 0.7202733 (0)\ttotal: 14.9s\tremaining: 18.2s\n",
            "450:\tlearn: 0.2899253\ttest: 0.8786103\tbest: 0.7202733 (0)\ttotal: 15s\tremaining: 18.2s\n",
            "451:\tlearn: 0.2898650\ttest: 0.8777692\tbest: 0.7202733 (0)\ttotal: 15s\tremaining: 18.2s\n",
            "452:\tlearn: 0.2897605\ttest: 0.8776507\tbest: 0.7202733 (0)\ttotal: 15s\tremaining: 18.1s\n",
            "453:\tlearn: 0.2896625\ttest: 0.8779023\tbest: 0.7202733 (0)\ttotal: 15.1s\tremaining: 18.1s\n",
            "454:\tlearn: 0.2895810\ttest: 0.8780573\tbest: 0.7202733 (0)\ttotal: 15.1s\tremaining: 18.1s\n",
            "455:\tlearn: 0.2894789\ttest: 0.8773470\tbest: 0.7202733 (0)\ttotal: 15.1s\tremaining: 18s\n",
            "456:\tlearn: 0.2894089\ttest: 0.8839425\tbest: 0.7202733 (0)\ttotal: 15.1s\tremaining: 18s\n",
            "457:\tlearn: 0.2893013\ttest: 0.8702848\tbest: 0.7202733 (0)\ttotal: 15.2s\tremaining: 18s\n",
            "458:\tlearn: 0.2892280\ttest: 0.8702426\tbest: 0.7202733 (0)\ttotal: 15.2s\tremaining: 17.9s\n",
            "459:\tlearn: 0.2891665\ttest: 0.8623972\tbest: 0.7202733 (0)\ttotal: 15.2s\tremaining: 17.9s\n",
            "460:\tlearn: 0.2890462\ttest: 0.8629285\tbest: 0.7202733 (0)\ttotal: 15.3s\tremaining: 17.9s\n",
            "461:\tlearn: 0.2889693\ttest: 0.8610724\tbest: 0.7202733 (0)\ttotal: 15.3s\tremaining: 17.8s\n",
            "462:\tlearn: 0.2887396\ttest: 0.8610429\tbest: 0.7202733 (0)\ttotal: 15.3s\tremaining: 17.8s\n",
            "463:\tlearn: 0.2886395\ttest: 0.8623239\tbest: 0.7202733 (0)\ttotal: 15.4s\tremaining: 17.7s\n",
            "464:\tlearn: 0.2885709\ttest: 0.8619331\tbest: 0.7202733 (0)\ttotal: 15.4s\tremaining: 17.7s\n",
            "465:\tlearn: 0.2884436\ttest: 0.8765508\tbest: 0.7202733 (0)\ttotal: 15.4s\tremaining: 17.7s\n",
            "466:\tlearn: 0.2883908\ttest: 0.8696582\tbest: 0.7202733 (0)\ttotal: 15.5s\tremaining: 17.6s\n",
            "467:\tlearn: 0.2883041\ttest: 0.8765752\tbest: 0.7202733 (0)\ttotal: 15.5s\tremaining: 17.6s\n",
            "468:\tlearn: 0.2882262\ttest: 0.8767247\tbest: 0.7202733 (0)\ttotal: 15.5s\tremaining: 17.6s\n",
            "469:\tlearn: 0.2881411\ttest: 0.8840338\tbest: 0.7202733 (0)\ttotal: 15.6s\tremaining: 17.5s\n",
            "470:\tlearn: 0.2880502\ttest: 0.8664428\tbest: 0.7202733 (0)\ttotal: 15.6s\tremaining: 17.5s\n",
            "471:\tlearn: 0.2879627\ttest: 0.8700929\tbest: 0.7202733 (0)\ttotal: 15.6s\tremaining: 17.5s\n",
            "472:\tlearn: 0.2878564\ttest: 0.8698553\tbest: 0.7202733 (0)\ttotal: 15.7s\tremaining: 17.5s\n",
            "473:\tlearn: 0.2877561\ttest: 0.8669754\tbest: 0.7202733 (0)\ttotal: 15.7s\tremaining: 17.4s\n",
            "474:\tlearn: 0.2876186\ttest: 0.8662539\tbest: 0.7202733 (0)\ttotal: 15.7s\tremaining: 17.4s\n",
            "475:\tlearn: 0.2874980\ttest: 0.8630456\tbest: 0.7202733 (0)\ttotal: 15.8s\tremaining: 17.4s\n",
            "476:\tlearn: 0.2872203\ttest: 0.8633543\tbest: 0.7202733 (0)\ttotal: 15.8s\tremaining: 17.3s\n",
            "477:\tlearn: 0.2871045\ttest: 0.8637616\tbest: 0.7202733 (0)\ttotal: 15.8s\tremaining: 17.3s\n",
            "478:\tlearn: 0.2870127\ttest: 0.8631674\tbest: 0.7202733 (0)\ttotal: 15.9s\tremaining: 17.2s\n",
            "479:\tlearn: 0.2869133\ttest: 0.8637100\tbest: 0.7202733 (0)\ttotal: 15.9s\tremaining: 17.2s\n",
            "480:\tlearn: 0.2868334\ttest: 0.8563777\tbest: 0.7202733 (0)\ttotal: 15.9s\tremaining: 17.2s\n",
            "481:\tlearn: 0.2867322\ttest: 0.8566329\tbest: 0.7202733 (0)\ttotal: 16s\tremaining: 17.1s\n",
            "482:\tlearn: 0.2866339\ttest: 0.8585646\tbest: 0.7202733 (0)\ttotal: 16s\tremaining: 17.1s\n",
            "483:\tlearn: 0.2864802\ttest: 0.8584673\tbest: 0.7202733 (0)\ttotal: 16s\tremaining: 17.1s\n",
            "484:\tlearn: 0.2863489\ttest: 0.8594352\tbest: 0.7202733 (0)\ttotal: 16.1s\tremaining: 17s\n",
            "485:\tlearn: 0.2862702\ttest: 0.8489308\tbest: 0.7202733 (0)\ttotal: 16.1s\tremaining: 17s\n",
            "486:\tlearn: 0.2861674\ttest: 0.8460307\tbest: 0.7202733 (0)\ttotal: 16.1s\tremaining: 17s\n",
            "487:\tlearn: 0.2860850\ttest: 0.8446373\tbest: 0.7202733 (0)\ttotal: 16.2s\tremaining: 17s\n",
            "488:\tlearn: 0.2859877\ttest: 0.8554878\tbest: 0.7202733 (0)\ttotal: 16.2s\tremaining: 16.9s\n",
            "489:\tlearn: 0.2859349\ttest: 0.8502643\tbest: 0.7202733 (0)\ttotal: 16.2s\tremaining: 16.9s\n",
            "490:\tlearn: 0.2858561\ttest: 0.8510084\tbest: 0.7202733 (0)\ttotal: 16.2s\tremaining: 16.8s\n",
            "491:\tlearn: 0.2857121\ttest: 0.8521823\tbest: 0.7202733 (0)\ttotal: 16.3s\tremaining: 16.8s\n",
            "492:\tlearn: 0.2855680\ttest: 0.8534792\tbest: 0.7202733 (0)\ttotal: 16.3s\tremaining: 16.8s\n",
            "493:\tlearn: 0.2854822\ttest: 0.8532612\tbest: 0.7202733 (0)\ttotal: 16.4s\tremaining: 16.7s\n",
            "494:\tlearn: 0.2853372\ttest: 0.8525846\tbest: 0.7202733 (0)\ttotal: 16.4s\tremaining: 16.7s\n",
            "495:\tlearn: 0.2850931\ttest: 0.8523834\tbest: 0.7202733 (0)\ttotal: 16.4s\tremaining: 16.7s\n",
            "496:\tlearn: 0.2850196\ttest: 0.8524972\tbest: 0.7202733 (0)\ttotal: 16.4s\tremaining: 16.6s\n",
            "497:\tlearn: 0.2849115\ttest: 0.8516470\tbest: 0.7202733 (0)\ttotal: 16.5s\tremaining: 16.6s\n",
            "498:\tlearn: 0.2848262\ttest: 0.8517588\tbest: 0.7202733 (0)\ttotal: 16.5s\tremaining: 16.6s\n",
            "499:\tlearn: 0.2845763\ttest: 0.8509995\tbest: 0.7202733 (0)\ttotal: 16.5s\tremaining: 16.5s\n",
            "500:\tlearn: 0.2845302\ttest: 0.8509423\tbest: 0.7202733 (0)\ttotal: 16.6s\tremaining: 16.5s\n",
            "501:\tlearn: 0.2844191\ttest: 0.8497449\tbest: 0.7202733 (0)\ttotal: 16.6s\tremaining: 16.5s\n",
            "502:\tlearn: 0.2842612\ttest: 0.8500484\tbest: 0.7202733 (0)\ttotal: 16.7s\tremaining: 16.5s\n",
            "503:\tlearn: 0.2842026\ttest: 0.8451397\tbest: 0.7202733 (0)\ttotal: 16.7s\tremaining: 16.4s\n",
            "504:\tlearn: 0.2841264\ttest: 0.8465034\tbest: 0.7202733 (0)\ttotal: 16.7s\tremaining: 16.4s\n",
            "505:\tlearn: 0.2839377\ttest: 0.8467160\tbest: 0.7202733 (0)\ttotal: 16.7s\tremaining: 16.3s\n",
            "506:\tlearn: 0.2838635\ttest: 0.8581882\tbest: 0.7202733 (0)\ttotal: 16.8s\tremaining: 16.3s\n",
            "507:\tlearn: 0.2837965\ttest: 0.8419998\tbest: 0.7202733 (0)\ttotal: 16.8s\tremaining: 16.3s\n",
            "508:\tlearn: 0.2836960\ttest: 0.8181530\tbest: 0.7202733 (0)\ttotal: 16.8s\tremaining: 16.2s\n",
            "509:\tlearn: 0.2835971\ttest: 0.8200297\tbest: 0.7202733 (0)\ttotal: 16.9s\tremaining: 16.2s\n",
            "510:\tlearn: 0.2835130\ttest: 0.8186966\tbest: 0.7202733 (0)\ttotal: 16.9s\tremaining: 16.2s\n",
            "511:\tlearn: 0.2834399\ttest: 0.8183043\tbest: 0.7202733 (0)\ttotal: 16.9s\tremaining: 16.1s\n",
            "512:\tlearn: 0.2833659\ttest: 0.8182965\tbest: 0.7202733 (0)\ttotal: 17s\tremaining: 16.1s\n",
            "513:\tlearn: 0.2832863\ttest: 0.8186863\tbest: 0.7202733 (0)\ttotal: 17s\tremaining: 16.1s\n",
            "514:\tlearn: 0.2832039\ttest: 0.8211489\tbest: 0.7202733 (0)\ttotal: 17s\tremaining: 16s\n",
            "515:\tlearn: 0.2830774\ttest: 0.8210143\tbest: 0.7202733 (0)\ttotal: 17.1s\tremaining: 16s\n",
            "516:\tlearn: 0.2829765\ttest: 0.8185992\tbest: 0.7202733 (0)\ttotal: 17.1s\tremaining: 16s\n",
            "517:\tlearn: 0.2829213\ttest: 0.8317219\tbest: 0.7202733 (0)\ttotal: 17.1s\tremaining: 15.9s\n",
            "518:\tlearn: 0.2828520\ttest: 0.8163694\tbest: 0.7202733 (0)\ttotal: 17.2s\tremaining: 15.9s\n",
            "519:\tlearn: 0.2827255\ttest: 0.8158984\tbest: 0.7202733 (0)\ttotal: 17.2s\tremaining: 15.9s\n",
            "520:\tlearn: 0.2826628\ttest: 0.8156743\tbest: 0.7202733 (0)\ttotal: 17.2s\tremaining: 15.8s\n",
            "521:\tlearn: 0.2824256\ttest: 0.8155043\tbest: 0.7202733 (0)\ttotal: 17.3s\tremaining: 15.8s\n",
            "522:\tlearn: 0.2823290\ttest: 0.8162655\tbest: 0.7202733 (0)\ttotal: 17.3s\tremaining: 15.8s\n",
            "523:\tlearn: 0.2822432\ttest: 0.8160159\tbest: 0.7202733 (0)\ttotal: 17.3s\tremaining: 15.7s\n",
            "524:\tlearn: 0.2821145\ttest: 0.8155026\tbest: 0.7202733 (0)\ttotal: 17.4s\tremaining: 15.7s\n",
            "525:\tlearn: 0.2819465\ttest: 0.8161711\tbest: 0.7202733 (0)\ttotal: 17.4s\tremaining: 15.7s\n",
            "526:\tlearn: 0.2818911\ttest: 0.8204086\tbest: 0.7202733 (0)\ttotal: 17.4s\tremaining: 15.6s\n",
            "527:\tlearn: 0.2818078\ttest: 0.8211648\tbest: 0.7202733 (0)\ttotal: 17.4s\tremaining: 15.6s\n",
            "528:\tlearn: 0.2816720\ttest: 0.8213389\tbest: 0.7202733 (0)\ttotal: 17.5s\tremaining: 15.6s\n",
            "529:\tlearn: 0.2815969\ttest: 0.8209599\tbest: 0.7202733 (0)\ttotal: 17.5s\tremaining: 15.5s\n",
            "530:\tlearn: 0.2815018\ttest: 0.8192837\tbest: 0.7202733 (0)\ttotal: 17.5s\tremaining: 15.5s\n",
            "531:\tlearn: 0.2814214\ttest: 0.8182732\tbest: 0.7202733 (0)\ttotal: 17.6s\tremaining: 15.5s\n",
            "532:\tlearn: 0.2813531\ttest: 0.8182635\tbest: 0.7202733 (0)\ttotal: 17.6s\tremaining: 15.4s\n",
            "533:\tlearn: 0.2812745\ttest: 0.8066038\tbest: 0.7202733 (0)\ttotal: 17.6s\tremaining: 15.4s\n",
            "534:\tlearn: 0.2812116\ttest: 0.8064340\tbest: 0.7202733 (0)\ttotal: 17.7s\tremaining: 15.4s\n",
            "535:\tlearn: 0.2810597\ttest: 0.8061636\tbest: 0.7202733 (0)\ttotal: 17.7s\tremaining: 15.3s\n",
            "536:\tlearn: 0.2809661\ttest: 0.8054433\tbest: 0.7202733 (0)\ttotal: 17.7s\tremaining: 15.3s\n",
            "537:\tlearn: 0.2808336\ttest: 0.8062348\tbest: 0.7202733 (0)\ttotal: 17.8s\tremaining: 15.3s\n",
            "538:\tlearn: 0.2807034\ttest: 0.8062809\tbest: 0.7202733 (0)\ttotal: 17.8s\tremaining: 15.2s\n",
            "539:\tlearn: 0.2806334\ttest: 0.7961097\tbest: 0.7202733 (0)\ttotal: 17.8s\tremaining: 15.2s\n",
            "540:\tlearn: 0.2805210\ttest: 0.7962957\tbest: 0.7202733 (0)\ttotal: 17.9s\tremaining: 15.2s\n",
            "541:\tlearn: 0.2804148\ttest: 0.7964314\tbest: 0.7202733 (0)\ttotal: 17.9s\tremaining: 15.1s\n",
            "542:\tlearn: 0.2803490\ttest: 0.7936554\tbest: 0.7202733 (0)\ttotal: 17.9s\tremaining: 15.1s\n",
            "543:\tlearn: 0.2802479\ttest: 0.7934304\tbest: 0.7202733 (0)\ttotal: 18s\tremaining: 15.1s\n",
            "544:\tlearn: 0.2802180\ttest: 0.7930653\tbest: 0.7202733 (0)\ttotal: 18s\tremaining: 15s\n",
            "545:\tlearn: 0.2801247\ttest: 0.7978351\tbest: 0.7202733 (0)\ttotal: 18s\tremaining: 15s\n",
            "546:\tlearn: 0.2800385\ttest: 0.7983670\tbest: 0.7202733 (0)\ttotal: 18.1s\tremaining: 15s\n",
            "547:\tlearn: 0.2798925\ttest: 0.7979595\tbest: 0.7202733 (0)\ttotal: 18.1s\tremaining: 14.9s\n",
            "548:\tlearn: 0.2798193\ttest: 0.7983439\tbest: 0.7202733 (0)\ttotal: 18.1s\tremaining: 14.9s\n",
            "549:\tlearn: 0.2797886\ttest: 0.7973520\tbest: 0.7202733 (0)\ttotal: 18.2s\tremaining: 14.9s\n",
            "550:\tlearn: 0.2796875\ttest: 0.7968594\tbest: 0.7202733 (0)\ttotal: 18.2s\tremaining: 14.8s\n",
            "551:\tlearn: 0.2795966\ttest: 0.7964316\tbest: 0.7202733 (0)\ttotal: 18.2s\tremaining: 14.8s\n",
            "552:\tlearn: 0.2795083\ttest: 0.7965230\tbest: 0.7202733 (0)\ttotal: 18.3s\tremaining: 14.8s\n",
            "553:\tlearn: 0.2794570\ttest: 0.7980082\tbest: 0.7202733 (0)\ttotal: 18.3s\tremaining: 14.7s\n",
            "554:\tlearn: 0.2794103\ttest: 0.7808592\tbest: 0.7202733 (0)\ttotal: 18.3s\tremaining: 14.7s\n",
            "555:\tlearn: 0.2793206\ttest: 0.7811728\tbest: 0.7202733 (0)\ttotal: 18.4s\tremaining: 14.7s\n",
            "556:\tlearn: 0.2792314\ttest: 0.7814212\tbest: 0.7202733 (0)\ttotal: 18.4s\tremaining: 14.6s\n",
            "557:\tlearn: 0.2791522\ttest: 0.7867974\tbest: 0.7202733 (0)\ttotal: 18.4s\tremaining: 14.6s\n",
            "558:\tlearn: 0.2790518\ttest: 0.7883280\tbest: 0.7202733 (0)\ttotal: 18.5s\tremaining: 14.6s\n",
            "559:\tlearn: 0.2789012\ttest: 0.7884258\tbest: 0.7202733 (0)\ttotal: 18.5s\tremaining: 14.5s\n",
            "560:\tlearn: 0.2788051\ttest: 0.7884969\tbest: 0.7202733 (0)\ttotal: 18.5s\tremaining: 14.5s\n",
            "561:\tlearn: 0.2786387\ttest: 0.7940815\tbest: 0.7202733 (0)\ttotal: 18.6s\tremaining: 14.5s\n",
            "562:\tlearn: 0.2785064\ttest: 0.7932296\tbest: 0.7202733 (0)\ttotal: 18.6s\tremaining: 14.4s\n",
            "563:\tlearn: 0.2783889\ttest: 0.7918368\tbest: 0.7202733 (0)\ttotal: 18.6s\tremaining: 14.4s\n",
            "564:\tlearn: 0.2783049\ttest: 0.7941689\tbest: 0.7202733 (0)\ttotal: 18.7s\tremaining: 14.4s\n",
            "565:\tlearn: 0.2781731\ttest: 0.7938179\tbest: 0.7202733 (0)\ttotal: 18.7s\tremaining: 14.3s\n",
            "566:\tlearn: 0.2780699\ttest: 0.7938114\tbest: 0.7202733 (0)\ttotal: 18.7s\tremaining: 14.3s\n",
            "567:\tlearn: 0.2779433\ttest: 0.7943370\tbest: 0.7202733 (0)\ttotal: 18.8s\tremaining: 14.3s\n",
            "568:\tlearn: 0.2779172\ttest: 0.8130070\tbest: 0.7202733 (0)\ttotal: 18.8s\tremaining: 14.2s\n",
            "569:\tlearn: 0.2777201\ttest: 0.8135000\tbest: 0.7202733 (0)\ttotal: 18.8s\tremaining: 14.2s\n",
            "570:\tlearn: 0.2776070\ttest: 0.8140148\tbest: 0.7202733 (0)\ttotal: 18.9s\tremaining: 14.2s\n",
            "571:\tlearn: 0.2774878\ttest: 0.8230070\tbest: 0.7202733 (0)\ttotal: 18.9s\tremaining: 14.1s\n",
            "572:\tlearn: 0.2774019\ttest: 0.8228020\tbest: 0.7202733 (0)\ttotal: 18.9s\tremaining: 14.1s\n",
            "573:\tlearn: 0.2773381\ttest: 0.8230649\tbest: 0.7202733 (0)\ttotal: 18.9s\tremaining: 14.1s\n",
            "574:\tlearn: 0.2772142\ttest: 0.8225426\tbest: 0.7202733 (0)\ttotal: 19s\tremaining: 14s\n",
            "575:\tlearn: 0.2771204\ttest: 0.8220483\tbest: 0.7202733 (0)\ttotal: 19s\tremaining: 14s\n",
            "576:\tlearn: 0.2770452\ttest: 0.8228473\tbest: 0.7202733 (0)\ttotal: 19s\tremaining: 14s\n",
            "577:\tlearn: 0.2769657\ttest: 0.8298077\tbest: 0.7202733 (0)\ttotal: 19.1s\tremaining: 13.9s\n",
            "578:\tlearn: 0.2768452\ttest: 0.8314937\tbest: 0.7202733 (0)\ttotal: 19.1s\tremaining: 13.9s\n",
            "579:\tlearn: 0.2767808\ttest: 0.8313878\tbest: 0.7202733 (0)\ttotal: 19.2s\tremaining: 13.9s\n",
            "580:\tlearn: 0.2766849\ttest: 0.8309407\tbest: 0.7202733 (0)\ttotal: 19.2s\tremaining: 13.8s\n",
            "581:\tlearn: 0.2766151\ttest: 0.8403213\tbest: 0.7202733 (0)\ttotal: 19.2s\tremaining: 13.8s\n",
            "582:\tlearn: 0.2765652\ttest: 0.8412373\tbest: 0.7202733 (0)\ttotal: 19.2s\tremaining: 13.8s\n",
            "583:\tlearn: 0.2764523\ttest: 0.8403654\tbest: 0.7202733 (0)\ttotal: 19.3s\tremaining: 13.7s\n",
            "584:\tlearn: 0.2763823\ttest: 0.8440092\tbest: 0.7202733 (0)\ttotal: 19.3s\tremaining: 13.7s\n",
            "585:\tlearn: 0.2763248\ttest: 0.8452326\tbest: 0.7202733 (0)\ttotal: 19.3s\tremaining: 13.7s\n",
            "586:\tlearn: 0.2762548\ttest: 0.8458128\tbest: 0.7202733 (0)\ttotal: 19.4s\tremaining: 13.6s\n",
            "587:\tlearn: 0.2762120\ttest: 0.8456897\tbest: 0.7202733 (0)\ttotal: 19.4s\tremaining: 13.6s\n",
            "588:\tlearn: 0.2761442\ttest: 0.8391461\tbest: 0.7202733 (0)\ttotal: 19.4s\tremaining: 13.6s\n",
            "589:\tlearn: 0.2760599\ttest: 0.8595553\tbest: 0.7202733 (0)\ttotal: 19.5s\tremaining: 13.5s\n",
            "590:\tlearn: 0.2759830\ttest: 0.8543704\tbest: 0.7202733 (0)\ttotal: 19.5s\tremaining: 13.5s\n",
            "591:\tlearn: 0.2758489\ttest: 0.8546937\tbest: 0.7202733 (0)\ttotal: 19.5s\tremaining: 13.5s\n",
            "592:\tlearn: 0.2757477\ttest: 0.8610648\tbest: 0.7202733 (0)\ttotal: 19.6s\tremaining: 13.4s\n",
            "593:\tlearn: 0.2756901\ttest: 0.8621687\tbest: 0.7202733 (0)\ttotal: 19.6s\tremaining: 13.4s\n",
            "594:\tlearn: 0.2756084\ttest: 0.8644953\tbest: 0.7202733 (0)\ttotal: 19.6s\tremaining: 13.4s\n",
            "595:\tlearn: 0.2755398\ttest: 0.8656271\tbest: 0.7202733 (0)\ttotal: 19.7s\tremaining: 13.3s\n",
            "596:\tlearn: 0.2754632\ttest: 0.8650382\tbest: 0.7202733 (0)\ttotal: 19.7s\tremaining: 13.3s\n",
            "597:\tlearn: 0.2754194\ttest: 0.8851653\tbest: 0.7202733 (0)\ttotal: 19.8s\tremaining: 13.3s\n",
            "598:\tlearn: 0.2753673\ttest: 0.8852422\tbest: 0.7202733 (0)\ttotal: 19.8s\tremaining: 13.2s\n",
            "599:\tlearn: 0.2752941\ttest: 0.8876685\tbest: 0.7202733 (0)\ttotal: 19.8s\tremaining: 13.2s\n",
            "600:\tlearn: 0.2751592\ttest: 0.8878491\tbest: 0.7202733 (0)\ttotal: 19.8s\tremaining: 13.2s\n",
            "601:\tlearn: 0.2750787\ttest: 0.8882386\tbest: 0.7202733 (0)\ttotal: 19.9s\tremaining: 13.1s\n",
            "602:\tlearn: 0.2749991\ttest: 0.8817059\tbest: 0.7202733 (0)\ttotal: 19.9s\tremaining: 13.1s\n",
            "603:\tlearn: 0.2749329\ttest: 0.8837943\tbest: 0.7202733 (0)\ttotal: 19.9s\tremaining: 13.1s\n",
            "604:\tlearn: 0.2748176\ttest: 0.8836976\tbest: 0.7202733 (0)\ttotal: 20s\tremaining: 13s\n",
            "605:\tlearn: 0.2747248\ttest: 0.8703561\tbest: 0.7202733 (0)\ttotal: 20s\tremaining: 13s\n",
            "606:\tlearn: 0.2746471\ttest: 0.8674926\tbest: 0.7202733 (0)\ttotal: 20s\tremaining: 13s\n",
            "607:\tlearn: 0.2745748\ttest: 0.8674621\tbest: 0.7202733 (0)\ttotal: 20.1s\tremaining: 12.9s\n",
            "608:\tlearn: 0.2744274\ttest: 0.8669138\tbest: 0.7202733 (0)\ttotal: 20.1s\tremaining: 12.9s\n",
            "609:\tlearn: 0.2743399\ttest: 0.8636121\tbest: 0.7202733 (0)\ttotal: 20.1s\tremaining: 12.9s\n",
            "610:\tlearn: 0.2741119\ttest: 0.8636186\tbest: 0.7202733 (0)\ttotal: 20.2s\tremaining: 12.8s\n",
            "611:\tlearn: 0.2739190\ttest: 0.8635404\tbest: 0.7202733 (0)\ttotal: 20.2s\tremaining: 12.8s\n",
            "612:\tlearn: 0.2738327\ttest: 0.8691961\tbest: 0.7202733 (0)\ttotal: 20.2s\tremaining: 12.8s\n",
            "613:\tlearn: 0.2737680\ttest: 0.8699868\tbest: 0.7202733 (0)\ttotal: 20.3s\tremaining: 12.7s\n",
            "614:\tlearn: 0.2737036\ttest: 0.8700186\tbest: 0.7202733 (0)\ttotal: 20.3s\tremaining: 12.7s\n",
            "615:\tlearn: 0.2736144\ttest: 0.8704660\tbest: 0.7202733 (0)\ttotal: 20.3s\tremaining: 12.7s\n",
            "616:\tlearn: 0.2735538\ttest: 0.8716884\tbest: 0.7202733 (0)\ttotal: 20.4s\tremaining: 12.6s\n",
            "617:\tlearn: 0.2735112\ttest: 0.8728911\tbest: 0.7202733 (0)\ttotal: 20.4s\tremaining: 12.6s\n",
            "618:\tlearn: 0.2734450\ttest: 0.8559659\tbest: 0.7202733 (0)\ttotal: 20.4s\tremaining: 12.6s\n",
            "619:\tlearn: 0.2733247\ttest: 0.8561242\tbest: 0.7202733 (0)\ttotal: 20.5s\tremaining: 12.5s\n",
            "620:\tlearn: 0.2731789\ttest: 0.8562869\tbest: 0.7202733 (0)\ttotal: 20.5s\tremaining: 12.5s\n",
            "621:\tlearn: 0.2731043\ttest: 0.8579517\tbest: 0.7202733 (0)\ttotal: 20.5s\tremaining: 12.5s\n",
            "622:\tlearn: 0.2730363\ttest: 0.8601178\tbest: 0.7202733 (0)\ttotal: 20.6s\tremaining: 12.4s\n",
            "623:\tlearn: 0.2729617\ttest: 0.8602840\tbest: 0.7202733 (0)\ttotal: 20.6s\tremaining: 12.4s\n",
            "624:\tlearn: 0.2729113\ttest: 0.8601230\tbest: 0.7202733 (0)\ttotal: 20.6s\tremaining: 12.4s\n",
            "625:\tlearn: 0.2728005\ttest: 0.8589784\tbest: 0.7202733 (0)\ttotal: 20.7s\tremaining: 12.3s\n",
            "626:\tlearn: 0.2727114\ttest: 0.8581620\tbest: 0.7202733 (0)\ttotal: 20.7s\tremaining: 12.3s\n",
            "627:\tlearn: 0.2726616\ttest: 0.8588265\tbest: 0.7202733 (0)\ttotal: 20.7s\tremaining: 12.3s\n",
            "628:\tlearn: 0.2725884\ttest: 0.8548062\tbest: 0.7202733 (0)\ttotal: 20.8s\tremaining: 12.2s\n",
            "629:\tlearn: 0.2725117\ttest: 0.8355694\tbest: 0.7202733 (0)\ttotal: 20.8s\tremaining: 12.2s\n",
            "630:\tlearn: 0.2724394\ttest: 0.8367956\tbest: 0.7202733 (0)\ttotal: 20.8s\tremaining: 12.2s\n",
            "631:\tlearn: 0.2723778\ttest: 0.8381001\tbest: 0.7202733 (0)\ttotal: 20.9s\tremaining: 12.1s\n",
            "632:\tlearn: 0.2723242\ttest: 0.8272735\tbest: 0.7202733 (0)\ttotal: 20.9s\tremaining: 12.1s\n",
            "633:\tlearn: 0.2722225\ttest: 0.8266167\tbest: 0.7202733 (0)\ttotal: 20.9s\tremaining: 12.1s\n",
            "634:\tlearn: 0.2721458\ttest: 0.8247505\tbest: 0.7202733 (0)\ttotal: 20.9s\tremaining: 12s\n",
            "635:\tlearn: 0.2720536\ttest: 0.8252059\tbest: 0.7202733 (0)\ttotal: 21s\tremaining: 12s\n",
            "636:\tlearn: 0.2719958\ttest: 0.8130861\tbest: 0.7202733 (0)\ttotal: 21s\tremaining: 12s\n",
            "637:\tlearn: 0.2719796\ttest: 0.8130849\tbest: 0.7202733 (0)\ttotal: 21s\tremaining: 11.9s\n",
            "638:\tlearn: 0.2719047\ttest: 0.8197254\tbest: 0.7202733 (0)\ttotal: 21.1s\tremaining: 11.9s\n",
            "639:\tlearn: 0.2718221\ttest: 0.8157793\tbest: 0.7202733 (0)\ttotal: 21.1s\tremaining: 11.9s\n",
            "640:\tlearn: 0.2717522\ttest: 0.8155516\tbest: 0.7202733 (0)\ttotal: 21.1s\tremaining: 11.8s\n",
            "641:\tlearn: 0.2716691\ttest: 0.8152509\tbest: 0.7202733 (0)\ttotal: 21.2s\tremaining: 11.8s\n",
            "642:\tlearn: 0.2715697\ttest: 0.8138358\tbest: 0.7202733 (0)\ttotal: 21.2s\tremaining: 11.8s\n",
            "643:\tlearn: 0.2714930\ttest: 0.8136579\tbest: 0.7202733 (0)\ttotal: 21.2s\tremaining: 11.7s\n",
            "644:\tlearn: 0.2714180\ttest: 0.8134441\tbest: 0.7202733 (0)\ttotal: 21.3s\tremaining: 11.7s\n",
            "645:\tlearn: 0.2713553\ttest: 0.8125652\tbest: 0.7202733 (0)\ttotal: 21.3s\tremaining: 11.7s\n",
            "646:\tlearn: 0.2713326\ttest: 0.8130151\tbest: 0.7202733 (0)\ttotal: 21.3s\tremaining: 11.6s\n",
            "647:\tlearn: 0.2712586\ttest: 0.8126939\tbest: 0.7202733 (0)\ttotal: 21.4s\tremaining: 11.6s\n",
            "648:\tlearn: 0.2711695\ttest: 0.8125046\tbest: 0.7202733 (0)\ttotal: 21.4s\tremaining: 11.6s\n",
            "649:\tlearn: 0.2710906\ttest: 0.8154010\tbest: 0.7202733 (0)\ttotal: 21.4s\tremaining: 11.5s\n",
            "650:\tlearn: 0.2710500\ttest: 0.8151678\tbest: 0.7202733 (0)\ttotal: 21.5s\tremaining: 11.5s\n",
            "651:\tlearn: 0.2709906\ttest: 0.8155617\tbest: 0.7202733 (0)\ttotal: 21.5s\tremaining: 11.5s\n",
            "652:\tlearn: 0.2708665\ttest: 0.8150829\tbest: 0.7202733 (0)\ttotal: 21.5s\tremaining: 11.4s\n",
            "653:\tlearn: 0.2708154\ttest: 0.8150737\tbest: 0.7202733 (0)\ttotal: 21.6s\tremaining: 11.4s\n",
            "654:\tlearn: 0.2707474\ttest: 0.8180287\tbest: 0.7202733 (0)\ttotal: 21.6s\tremaining: 11.4s\n",
            "655:\tlearn: 0.2706996\ttest: 0.8188583\tbest: 0.7202733 (0)\ttotal: 21.6s\tremaining: 11.3s\n",
            "656:\tlearn: 0.2706387\ttest: 0.8290351\tbest: 0.7202733 (0)\ttotal: 21.7s\tremaining: 11.3s\n",
            "657:\tlearn: 0.2705529\ttest: 0.8288470\tbest: 0.7202733 (0)\ttotal: 21.7s\tremaining: 11.3s\n",
            "658:\tlearn: 0.2704981\ttest: 0.8293362\tbest: 0.7202733 (0)\ttotal: 21.7s\tremaining: 11.3s\n",
            "659:\tlearn: 0.2704476\ttest: 0.7982279\tbest: 0.7202733 (0)\ttotal: 21.8s\tremaining: 11.2s\n",
            "660:\tlearn: 0.2704027\ttest: 0.8000864\tbest: 0.7202733 (0)\ttotal: 21.8s\tremaining: 11.2s\n",
            "661:\tlearn: 0.2703184\ttest: 0.7999973\tbest: 0.7202733 (0)\ttotal: 21.8s\tremaining: 11.1s\n",
            "662:\tlearn: 0.2702663\ttest: 0.7850304\tbest: 0.7202733 (0)\ttotal: 21.9s\tremaining: 11.1s\n",
            "663:\tlearn: 0.2701999\ttest: 0.7890855\tbest: 0.7202733 (0)\ttotal: 21.9s\tremaining: 11.1s\n",
            "664:\tlearn: 0.2700957\ttest: 0.7874497\tbest: 0.7202733 (0)\ttotal: 21.9s\tremaining: 11s\n",
            "665:\tlearn: 0.2700104\ttest: 0.7847923\tbest: 0.7202733 (0)\ttotal: 22s\tremaining: 11s\n",
            "666:\tlearn: 0.2699064\ttest: 0.7849595\tbest: 0.7202733 (0)\ttotal: 22s\tremaining: 11s\n",
            "667:\tlearn: 0.2697529\ttest: 0.7847590\tbest: 0.7202733 (0)\ttotal: 22s\tremaining: 10.9s\n",
            "668:\tlearn: 0.2696523\ttest: 0.7863944\tbest: 0.7202733 (0)\ttotal: 22.1s\tremaining: 10.9s\n",
            "669:\tlearn: 0.2695786\ttest: 0.7969502\tbest: 0.7202733 (0)\ttotal: 22.1s\tremaining: 10.9s\n",
            "670:\tlearn: 0.2695258\ttest: 0.7954011\tbest: 0.7202733 (0)\ttotal: 22.1s\tremaining: 10.8s\n",
            "671:\tlearn: 0.2694643\ttest: 0.7933936\tbest: 0.7202733 (0)\ttotal: 22.2s\tremaining: 10.8s\n",
            "672:\tlearn: 0.2693127\ttest: 0.7925094\tbest: 0.7202733 (0)\ttotal: 22.2s\tremaining: 10.8s\n",
            "673:\tlearn: 0.2692579\ttest: 0.7834997\tbest: 0.7202733 (0)\ttotal: 22.2s\tremaining: 10.7s\n",
            "674:\tlearn: 0.2692086\ttest: 0.7693836\tbest: 0.7202733 (0)\ttotal: 22.2s\tremaining: 10.7s\n",
            "675:\tlearn: 0.2691438\ttest: 0.7730761\tbest: 0.7202733 (0)\ttotal: 22.3s\tremaining: 10.7s\n",
            "676:\tlearn: 0.2690239\ttest: 0.7735461\tbest: 0.7202733 (0)\ttotal: 22.3s\tremaining: 10.6s\n",
            "677:\tlearn: 0.2689250\ttest: 0.7736372\tbest: 0.7202733 (0)\ttotal: 22.3s\tremaining: 10.6s\n",
            "678:\tlearn: 0.2688685\ttest: 0.7736364\tbest: 0.7202733 (0)\ttotal: 22.4s\tremaining: 10.6s\n",
            "679:\tlearn: 0.2687807\ttest: 0.7748675\tbest: 0.7202733 (0)\ttotal: 22.4s\tremaining: 10.5s\n",
            "680:\tlearn: 0.2686106\ttest: 0.7743249\tbest: 0.7202733 (0)\ttotal: 22.4s\tremaining: 10.5s\n",
            "681:\tlearn: 0.2685198\ttest: 0.7727560\tbest: 0.7202733 (0)\ttotal: 22.5s\tremaining: 10.5s\n",
            "682:\tlearn: 0.2683944\ttest: 0.7738868\tbest: 0.7202733 (0)\ttotal: 22.5s\tremaining: 10.4s\n",
            "683:\tlearn: 0.2682706\ttest: 0.7755379\tbest: 0.7202733 (0)\ttotal: 22.5s\tremaining: 10.4s\n",
            "684:\tlearn: 0.2681849\ttest: 0.7753027\tbest: 0.7202733 (0)\ttotal: 22.6s\tremaining: 10.4s\n",
            "685:\tlearn: 0.2680680\ttest: 0.7744705\tbest: 0.7202733 (0)\ttotal: 22.6s\tremaining: 10.3s\n",
            "686:\tlearn: 0.2680098\ttest: 0.7471334\tbest: 0.7202733 (0)\ttotal: 22.6s\tremaining: 10.3s\n",
            "687:\tlearn: 0.2679415\ttest: 0.7475078\tbest: 0.7202733 (0)\ttotal: 22.7s\tremaining: 10.3s\n",
            "688:\tlearn: 0.2678978\ttest: 0.7431356\tbest: 0.7202733 (0)\ttotal: 22.7s\tremaining: 10.2s\n",
            "689:\tlearn: 0.2678502\ttest: 0.7433270\tbest: 0.7202733 (0)\ttotal: 22.7s\tremaining: 10.2s\n",
            "690:\tlearn: 0.2677578\ttest: 0.7432225\tbest: 0.7202733 (0)\ttotal: 22.8s\tremaining: 10.2s\n",
            "691:\tlearn: 0.2677051\ttest: 0.7433424\tbest: 0.7202733 (0)\ttotal: 22.8s\tremaining: 10.1s\n",
            "692:\tlearn: 0.2676250\ttest: 0.7425365\tbest: 0.7202733 (0)\ttotal: 22.8s\tremaining: 10.1s\n",
            "693:\tlearn: 0.2675449\ttest: 0.7344530\tbest: 0.7202733 (0)\ttotal: 22.9s\tremaining: 10.1s\n",
            "694:\tlearn: 0.2674800\ttest: 0.7384153\tbest: 0.7202733 (0)\ttotal: 22.9s\tremaining: 10s\n",
            "695:\tlearn: 0.2673886\ttest: 0.7393168\tbest: 0.7202733 (0)\ttotal: 22.9s\tremaining: 10s\n",
            "696:\tlearn: 0.2673397\ttest: 0.7400974\tbest: 0.7202733 (0)\ttotal: 22.9s\tremaining: 9.98s\n",
            "697:\tlearn: 0.2672540\ttest: 0.7400522\tbest: 0.7202733 (0)\ttotal: 23s\tremaining: 9.94s\n",
            "698:\tlearn: 0.2671465\ttest: 0.7400178\tbest: 0.7202733 (0)\ttotal: 23s\tremaining: 9.91s\n",
            "699:\tlearn: 0.2670881\ttest: 0.7401047\tbest: 0.7202733 (0)\ttotal: 23s\tremaining: 9.88s\n",
            "700:\tlearn: 0.2670606\ttest: 0.7409504\tbest: 0.7202733 (0)\ttotal: 23.1s\tremaining: 9.84s\n",
            "701:\tlearn: 0.2669534\ttest: 0.7411498\tbest: 0.7202733 (0)\ttotal: 23.1s\tremaining: 9.81s\n",
            "702:\tlearn: 0.2668909\ttest: 0.7354637\tbest: 0.7202733 (0)\ttotal: 23.1s\tremaining: 9.77s\n",
            "703:\tlearn: 0.2668372\ttest: 0.7365713\tbest: 0.7202733 (0)\ttotal: 23.2s\tremaining: 9.74s\n",
            "704:\tlearn: 0.2667611\ttest: 0.7367089\tbest: 0.7202733 (0)\ttotal: 23.2s\tremaining: 9.71s\n",
            "705:\tlearn: 0.2666884\ttest: 0.7399115\tbest: 0.7202733 (0)\ttotal: 23.2s\tremaining: 9.68s\n",
            "706:\tlearn: 0.2666463\ttest: 0.7399518\tbest: 0.7202733 (0)\ttotal: 23.3s\tremaining: 9.64s\n",
            "707:\tlearn: 0.2664749\ttest: 0.7401125\tbest: 0.7202733 (0)\ttotal: 23.3s\tremaining: 9.61s\n",
            "708:\tlearn: 0.2664297\ttest: 0.7403848\tbest: 0.7202733 (0)\ttotal: 23.3s\tremaining: 9.57s\n",
            "709:\tlearn: 0.2663901\ttest: 0.7196015\tbest: 0.7196015 (709)\ttotal: 23.4s\tremaining: 9.54s\n",
            "710:\tlearn: 0.2663212\ttest: 0.7210785\tbest: 0.7196015 (709)\ttotal: 23.4s\tremaining: 9.51s\n",
            "711:\tlearn: 0.2662525\ttest: 0.7229230\tbest: 0.7196015 (709)\ttotal: 23.4s\tremaining: 9.48s\n",
            "712:\tlearn: 0.2661970\ttest: 0.7230821\tbest: 0.7196015 (709)\ttotal: 23.5s\tremaining: 9.44s\n",
            "713:\tlearn: 0.2661803\ttest: 0.7231260\tbest: 0.7196015 (709)\ttotal: 23.5s\tremaining: 9.41s\n",
            "714:\tlearn: 0.2660610\ttest: 0.7229749\tbest: 0.7196015 (709)\ttotal: 23.5s\tremaining: 9.38s\n",
            "715:\tlearn: 0.2659707\ttest: 0.7230178\tbest: 0.7196015 (709)\ttotal: 23.6s\tremaining: 9.35s\n",
            "716:\tlearn: 0.2659066\ttest: 0.7230616\tbest: 0.7196015 (709)\ttotal: 23.6s\tremaining: 9.32s\n",
            "717:\tlearn: 0.2658530\ttest: 0.7210314\tbest: 0.7196015 (709)\ttotal: 23.6s\tremaining: 9.29s\n",
            "718:\tlearn: 0.2657849\ttest: 0.7218615\tbest: 0.7196015 (709)\ttotal: 23.7s\tremaining: 9.26s\n",
            "719:\tlearn: 0.2657153\ttest: 0.7169320\tbest: 0.7169320 (719)\ttotal: 23.7s\tremaining: 9.22s\n",
            "720:\tlearn: 0.2656349\ttest: 0.7171785\tbest: 0.7169320 (719)\ttotal: 23.8s\tremaining: 9.19s\n",
            "721:\tlearn: 0.2655792\ttest: 0.7133195\tbest: 0.7133195 (721)\ttotal: 23.8s\tremaining: 9.16s\n",
            "722:\tlearn: 0.2655196\ttest: 0.7132061\tbest: 0.7132061 (722)\ttotal: 23.8s\tremaining: 9.12s\n",
            "723:\tlearn: 0.2654070\ttest: 0.7133868\tbest: 0.7132061 (722)\ttotal: 23.9s\tremaining: 9.09s\n",
            "724:\tlearn: 0.2653531\ttest: 0.7132368\tbest: 0.7132061 (722)\ttotal: 23.9s\tremaining: 9.06s\n",
            "725:\tlearn: 0.2652707\ttest: 0.7130436\tbest: 0.7130436 (725)\ttotal: 23.9s\tremaining: 9.02s\n",
            "726:\tlearn: 0.2651881\ttest: 0.7141844\tbest: 0.7130436 (725)\ttotal: 23.9s\tremaining: 8.99s\n",
            "727:\tlearn: 0.2651695\ttest: 0.7141905\tbest: 0.7130436 (725)\ttotal: 24s\tremaining: 8.96s\n",
            "728:\tlearn: 0.2651190\ttest: 0.7170656\tbest: 0.7130436 (725)\ttotal: 24s\tremaining: 8.92s\n",
            "729:\tlearn: 0.2650473\ttest: 0.7172950\tbest: 0.7130436 (725)\ttotal: 24s\tremaining: 8.89s\n",
            "730:\tlearn: 0.2649566\ttest: 0.7172584\tbest: 0.7130436 (725)\ttotal: 24.1s\tremaining: 8.86s\n",
            "731:\tlearn: 0.2648730\ttest: 0.7172691\tbest: 0.7130436 (725)\ttotal: 24.1s\tremaining: 8.82s\n",
            "732:\tlearn: 0.2646948\ttest: 0.7172612\tbest: 0.7130436 (725)\ttotal: 24.1s\tremaining: 8.79s\n",
            "733:\tlearn: 0.2646071\ttest: 0.7126440\tbest: 0.7126440 (733)\ttotal: 24.2s\tremaining: 8.75s\n",
            "734:\tlearn: 0.2644851\ttest: 0.7127117\tbest: 0.7126440 (733)\ttotal: 24.2s\tremaining: 8.72s\n",
            "735:\tlearn: 0.2643985\ttest: 0.7172306\tbest: 0.7126440 (733)\ttotal: 24.2s\tremaining: 8.69s\n",
            "736:\tlearn: 0.2642766\ttest: 0.7168310\tbest: 0.7126440 (733)\ttotal: 24.3s\tremaining: 8.65s\n",
            "737:\tlearn: 0.2642191\ttest: 0.7152539\tbest: 0.7126440 (733)\ttotal: 24.3s\tremaining: 8.62s\n",
            "738:\tlearn: 0.2641098\ttest: 0.7057636\tbest: 0.7057636 (738)\ttotal: 24.3s\tremaining: 8.59s\n",
            "739:\tlearn: 0.2640398\ttest: 0.7059504\tbest: 0.7057636 (738)\ttotal: 24.4s\tremaining: 8.56s\n",
            "740:\tlearn: 0.2639795\ttest: 0.7047933\tbest: 0.7047933 (740)\ttotal: 24.4s\tremaining: 8.53s\n",
            "741:\tlearn: 0.2639214\ttest: 0.7043303\tbest: 0.7043303 (741)\ttotal: 24.4s\tremaining: 8.49s\n",
            "742:\tlearn: 0.2638403\ttest: 0.7050164\tbest: 0.7043303 (741)\ttotal: 24.4s\tremaining: 8.46s\n",
            "743:\tlearn: 0.2637665\ttest: 0.7050016\tbest: 0.7043303 (741)\ttotal: 24.5s\tremaining: 8.42s\n",
            "744:\tlearn: 0.2636762\ttest: 0.7059459\tbest: 0.7043303 (741)\ttotal: 24.5s\tremaining: 8.39s\n",
            "745:\tlearn: 0.2634136\ttest: 0.7058811\tbest: 0.7043303 (741)\ttotal: 24.5s\tremaining: 8.36s\n",
            "746:\tlearn: 0.2632997\ttest: 0.7059328\tbest: 0.7043303 (741)\ttotal: 24.6s\tremaining: 8.32s\n",
            "747:\tlearn: 0.2632518\ttest: 0.7067418\tbest: 0.7043303 (741)\ttotal: 24.6s\tremaining: 8.29s\n",
            "748:\tlearn: 0.2631990\ttest: 0.7064583\tbest: 0.7043303 (741)\ttotal: 24.6s\tremaining: 8.26s\n",
            "749:\tlearn: 0.2631587\ttest: 0.7064531\tbest: 0.7043303 (741)\ttotal: 24.7s\tremaining: 8.23s\n",
            "750:\tlearn: 0.2630463\ttest: 0.7066281\tbest: 0.7043303 (741)\ttotal: 24.7s\tremaining: 8.2s\n",
            "751:\tlearn: 0.2630017\ttest: 0.7041729\tbest: 0.7041729 (751)\ttotal: 24.8s\tremaining: 8.16s\n",
            "752:\tlearn: 0.2629489\ttest: 0.7040528\tbest: 0.7040528 (752)\ttotal: 24.8s\tremaining: 8.13s\n",
            "753:\tlearn: 0.2628539\ttest: 0.7040233\tbest: 0.7040233 (753)\ttotal: 24.8s\tremaining: 8.1s\n",
            "754:\tlearn: 0.2626852\ttest: 0.7040683\tbest: 0.7040233 (753)\ttotal: 24.8s\tremaining: 8.06s\n",
            "755:\tlearn: 0.2626323\ttest: 0.7006288\tbest: 0.7006288 (755)\ttotal: 24.9s\tremaining: 8.03s\n",
            "756:\tlearn: 0.2625609\ttest: 0.7006149\tbest: 0.7006149 (756)\ttotal: 24.9s\tremaining: 8s\n",
            "757:\tlearn: 0.2625024\ttest: 0.7008385\tbest: 0.7006149 (756)\ttotal: 24.9s\tremaining: 7.96s\n",
            "758:\tlearn: 0.2624416\ttest: 0.7007568\tbest: 0.7006149 (756)\ttotal: 25s\tremaining: 7.93s\n",
            "759:\tlearn: 0.2623832\ttest: 0.7010602\tbest: 0.7006149 (756)\ttotal: 25s\tremaining: 7.9s\n",
            "760:\tlearn: 0.2622756\ttest: 0.7014130\tbest: 0.7006149 (756)\ttotal: 25s\tremaining: 7.86s\n",
            "761:\tlearn: 0.2622120\ttest: 0.7028921\tbest: 0.7006149 (756)\ttotal: 25.1s\tremaining: 7.83s\n",
            "762:\tlearn: 0.2621323\ttest: 0.7030237\tbest: 0.7006149 (756)\ttotal: 25.1s\tremaining: 7.79s\n",
            "763:\tlearn: 0.2620760\ttest: 0.7004843\tbest: 0.7004843 (763)\ttotal: 25.1s\tremaining: 7.76s\n",
            "764:\tlearn: 0.2620470\ttest: 0.6991184\tbest: 0.6991184 (764)\ttotal: 25.2s\tremaining: 7.73s\n",
            "765:\tlearn: 0.2619844\ttest: 0.6981979\tbest: 0.6981979 (765)\ttotal: 25.2s\tremaining: 7.7s\n",
            "766:\tlearn: 0.2618788\ttest: 0.6981651\tbest: 0.6981651 (766)\ttotal: 25.2s\tremaining: 7.67s\n",
            "767:\tlearn: 0.2618071\ttest: 0.6986402\tbest: 0.6981651 (766)\ttotal: 25.3s\tremaining: 7.63s\n",
            "768:\tlearn: 0.2617388\ttest: 0.7009790\tbest: 0.6981651 (766)\ttotal: 25.3s\tremaining: 7.6s\n",
            "769:\tlearn: 0.2616799\ttest: 0.7035652\tbest: 0.6981651 (766)\ttotal: 25.3s\tremaining: 7.56s\n",
            "770:\tlearn: 0.2616228\ttest: 0.7037118\tbest: 0.6981651 (766)\ttotal: 25.4s\tremaining: 7.53s\n",
            "771:\tlearn: 0.2616039\ttest: 0.7117804\tbest: 0.6981651 (766)\ttotal: 25.4s\tremaining: 7.5s\n",
            "772:\tlearn: 0.2615206\ttest: 0.7113856\tbest: 0.6981651 (766)\ttotal: 25.4s\tremaining: 7.46s\n",
            "773:\tlearn: 0.2614814\ttest: 0.7196062\tbest: 0.6981651 (766)\ttotal: 25.5s\tremaining: 7.43s\n",
            "774:\tlearn: 0.2614097\ttest: 0.7194490\tbest: 0.6981651 (766)\ttotal: 25.5s\tremaining: 7.4s\n",
            "775:\tlearn: 0.2613151\ttest: 0.7195562\tbest: 0.6981651 (766)\ttotal: 25.5s\tremaining: 7.37s\n",
            "776:\tlearn: 0.2612253\ttest: 0.7131009\tbest: 0.6981651 (766)\ttotal: 25.6s\tremaining: 7.33s\n",
            "777:\tlearn: 0.2611632\ttest: 0.7135349\tbest: 0.6981651 (766)\ttotal: 25.6s\tremaining: 7.3s\n",
            "778:\tlearn: 0.2610635\ttest: 0.7137728\tbest: 0.6981651 (766)\ttotal: 25.6s\tremaining: 7.27s\n",
            "779:\tlearn: 0.2609490\ttest: 0.7135383\tbest: 0.6981651 (766)\ttotal: 25.6s\tremaining: 7.23s\n",
            "780:\tlearn: 0.2608714\ttest: 0.7136197\tbest: 0.6981651 (766)\ttotal: 25.7s\tremaining: 7.2s\n",
            "781:\tlearn: 0.2607586\ttest: 0.7134508\tbest: 0.6981651 (766)\ttotal: 25.7s\tremaining: 7.17s\n",
            "782:\tlearn: 0.2607039\ttest: 0.7134492\tbest: 0.6981651 (766)\ttotal: 25.7s\tremaining: 7.14s\n",
            "783:\tlearn: 0.2605894\ttest: 0.7132035\tbest: 0.6981651 (766)\ttotal: 25.8s\tremaining: 7.1s\n",
            "784:\tlearn: 0.2605120\ttest: 0.7127129\tbest: 0.6981651 (766)\ttotal: 25.8s\tremaining: 7.07s\n",
            "785:\tlearn: 0.2604451\ttest: 0.7127997\tbest: 0.6981651 (766)\ttotal: 25.8s\tremaining: 7.04s\n",
            "786:\tlearn: 0.2603743\ttest: 0.7120890\tbest: 0.6981651 (766)\ttotal: 25.9s\tremaining: 7s\n",
            "787:\tlearn: 0.2603153\ttest: 0.7123367\tbest: 0.6981651 (766)\ttotal: 25.9s\tremaining: 6.97s\n",
            "788:\tlearn: 0.2602324\ttest: 0.7127541\tbest: 0.6981651 (766)\ttotal: 25.9s\tremaining: 6.94s\n",
            "789:\tlearn: 0.2600299\ttest: 0.7126968\tbest: 0.6981651 (766)\ttotal: 26s\tremaining: 6.9s\n",
            "790:\tlearn: 0.2599500\ttest: 0.7113748\tbest: 0.6981651 (766)\ttotal: 26s\tremaining: 6.87s\n",
            "791:\tlearn: 0.2598877\ttest: 0.7098457\tbest: 0.6981651 (766)\ttotal: 26s\tremaining: 6.84s\n",
            "792:\tlearn: 0.2598376\ttest: 0.7098979\tbest: 0.6981651 (766)\ttotal: 26.1s\tremaining: 6.81s\n",
            "793:\tlearn: 0.2598027\ttest: 0.7100578\tbest: 0.6981651 (766)\ttotal: 26.1s\tremaining: 6.77s\n",
            "794:\tlearn: 0.2597515\ttest: 0.7099696\tbest: 0.6981651 (766)\ttotal: 26.1s\tremaining: 6.74s\n",
            "795:\tlearn: 0.2596599\ttest: 0.7101933\tbest: 0.6981651 (766)\ttotal: 26.2s\tremaining: 6.71s\n",
            "796:\tlearn: 0.2596010\ttest: 0.7101379\tbest: 0.6981651 (766)\ttotal: 26.2s\tremaining: 6.67s\n",
            "797:\tlearn: 0.2595147\ttest: 0.7098794\tbest: 0.6981651 (766)\ttotal: 26.2s\tremaining: 6.64s\n",
            "798:\tlearn: 0.2595055\ttest: 0.7099316\tbest: 0.6981651 (766)\ttotal: 26.3s\tremaining: 6.61s\n",
            "799:\tlearn: 0.2594491\ttest: 0.7097103\tbest: 0.6981651 (766)\ttotal: 26.3s\tremaining: 6.57s\n",
            "800:\tlearn: 0.2594025\ttest: 0.7099092\tbest: 0.6981651 (766)\ttotal: 26.3s\tremaining: 6.54s\n",
            "801:\tlearn: 0.2592988\ttest: 0.7105809\tbest: 0.6981651 (766)\ttotal: 26.4s\tremaining: 6.51s\n",
            "802:\tlearn: 0.2592262\ttest: 0.7103741\tbest: 0.6981651 (766)\ttotal: 26.4s\tremaining: 6.47s\n",
            "803:\tlearn: 0.2591638\ttest: 0.7102934\tbest: 0.6981651 (766)\ttotal: 26.4s\tremaining: 6.44s\n",
            "804:\tlearn: 0.2590969\ttest: 0.7104129\tbest: 0.6981651 (766)\ttotal: 26.5s\tremaining: 6.41s\n",
            "805:\tlearn: 0.2590186\ttest: 0.7103937\tbest: 0.6981651 (766)\ttotal: 26.5s\tremaining: 6.37s\n",
            "806:\tlearn: 0.2589546\ttest: 0.7104128\tbest: 0.6981651 (766)\ttotal: 26.5s\tremaining: 6.34s\n",
            "807:\tlearn: 0.2588603\ttest: 0.7103019\tbest: 0.6981651 (766)\ttotal: 26.6s\tremaining: 6.31s\n",
            "808:\tlearn: 0.2587766\ttest: 0.7089960\tbest: 0.6981651 (766)\ttotal: 26.6s\tremaining: 6.28s\n",
            "809:\tlearn: 0.2587051\ttest: 0.7155147\tbest: 0.6981651 (766)\ttotal: 26.6s\tremaining: 6.24s\n",
            "810:\tlearn: 0.2586407\ttest: 0.7086748\tbest: 0.6981651 (766)\ttotal: 26.6s\tremaining: 6.21s\n",
            "811:\tlearn: 0.2585469\ttest: 0.7092515\tbest: 0.6981651 (766)\ttotal: 26.7s\tremaining: 6.18s\n",
            "812:\tlearn: 0.2585099\ttest: 0.7095754\tbest: 0.6981651 (766)\ttotal: 26.7s\tremaining: 6.14s\n",
            "813:\tlearn: 0.2584507\ttest: 0.7107338\tbest: 0.6981651 (766)\ttotal: 26.8s\tremaining: 6.11s\n",
            "814:\tlearn: 0.2584038\ttest: 0.7091712\tbest: 0.6981651 (766)\ttotal: 26.8s\tremaining: 6.08s\n",
            "815:\tlearn: 0.2583463\ttest: 0.7092444\tbest: 0.6981651 (766)\ttotal: 26.8s\tremaining: 6.04s\n",
            "816:\tlearn: 0.2582774\ttest: 0.7086621\tbest: 0.6981651 (766)\ttotal: 26.8s\tremaining: 6.01s\n",
            "817:\tlearn: 0.2582256\ttest: 0.7086641\tbest: 0.6981651 (766)\ttotal: 26.9s\tremaining: 5.98s\n",
            "818:\tlearn: 0.2581682\ttest: 0.7086640\tbest: 0.6981651 (766)\ttotal: 26.9s\tremaining: 5.94s\n",
            "819:\tlearn: 0.2580919\ttest: 0.7084642\tbest: 0.6981651 (766)\ttotal: 26.9s\tremaining: 5.91s\n",
            "820:\tlearn: 0.2579885\ttest: 0.7073823\tbest: 0.6981651 (766)\ttotal: 27s\tremaining: 5.88s\n",
            "821:\tlearn: 0.2579396\ttest: 0.7071202\tbest: 0.6981651 (766)\ttotal: 27s\tremaining: 5.85s\n",
            "822:\tlearn: 0.2578963\ttest: 0.7106868\tbest: 0.6981651 (766)\ttotal: 27s\tremaining: 5.81s\n",
            "823:\tlearn: 0.2578522\ttest: 0.7090220\tbest: 0.6981651 (766)\ttotal: 27.1s\tremaining: 5.78s\n",
            "824:\tlearn: 0.2578069\ttest: 0.7111589\tbest: 0.6981651 (766)\ttotal: 27.1s\tremaining: 5.75s\n",
            "825:\tlearn: 0.2576931\ttest: 0.7110729\tbest: 0.6981651 (766)\ttotal: 27.1s\tremaining: 5.71s\n",
            "826:\tlearn: 0.2576256\ttest: 0.7111348\tbest: 0.6981651 (766)\ttotal: 27.2s\tremaining: 5.68s\n",
            "827:\tlearn: 0.2575604\ttest: 0.7111188\tbest: 0.6981651 (766)\ttotal: 27.2s\tremaining: 5.65s\n",
            "828:\tlearn: 0.2573968\ttest: 0.7113865\tbest: 0.6981651 (766)\ttotal: 27.2s\tremaining: 5.61s\n",
            "829:\tlearn: 0.2572804\ttest: 0.7115816\tbest: 0.6981651 (766)\ttotal: 27.2s\tremaining: 5.58s\n",
            "830:\tlearn: 0.2571305\ttest: 0.7116288\tbest: 0.6981651 (766)\ttotal: 27.3s\tremaining: 5.55s\n",
            "831:\tlearn: 0.2570638\ttest: 0.7114840\tbest: 0.6981651 (766)\ttotal: 27.3s\tremaining: 5.51s\n",
            "832:\tlearn: 0.2569978\ttest: 0.7114774\tbest: 0.6981651 (766)\ttotal: 27.3s\tremaining: 5.48s\n",
            "833:\tlearn: 0.2569169\ttest: 0.7114661\tbest: 0.6981651 (766)\ttotal: 27.4s\tremaining: 5.45s\n",
            "834:\tlearn: 0.2568397\ttest: 0.7111179\tbest: 0.6981651 (766)\ttotal: 27.4s\tremaining: 5.42s\n",
            "835:\tlearn: 0.2567866\ttest: 0.7112372\tbest: 0.6981651 (766)\ttotal: 27.4s\tremaining: 5.38s\n",
            "836:\tlearn: 0.2567142\ttest: 0.7110291\tbest: 0.6981651 (766)\ttotal: 27.5s\tremaining: 5.35s\n",
            "837:\tlearn: 0.2566631\ttest: 0.7092610\tbest: 0.6981651 (766)\ttotal: 27.5s\tremaining: 5.32s\n",
            "838:\tlearn: 0.2565936\ttest: 0.7092954\tbest: 0.6981651 (766)\ttotal: 27.5s\tremaining: 5.28s\n",
            "839:\tlearn: 0.2564132\ttest: 0.7094711\tbest: 0.6981651 (766)\ttotal: 27.6s\tremaining: 5.25s\n",
            "840:\tlearn: 0.2563561\ttest: 0.6970260\tbest: 0.6970260 (840)\ttotal: 27.6s\tremaining: 5.22s\n",
            "841:\tlearn: 0.2562908\ttest: 0.6929291\tbest: 0.6929291 (841)\ttotal: 27.6s\tremaining: 5.18s\n",
            "842:\tlearn: 0.2562167\ttest: 0.6926290\tbest: 0.6926290 (842)\ttotal: 27.7s\tremaining: 5.15s\n",
            "843:\tlearn: 0.2560796\ttest: 0.6926795\tbest: 0.6926290 (842)\ttotal: 27.7s\tremaining: 5.12s\n",
            "844:\tlearn: 0.2560064\ttest: 0.6924463\tbest: 0.6924463 (844)\ttotal: 27.7s\tremaining: 5.09s\n",
            "845:\tlearn: 0.2558085\ttest: 0.6923380\tbest: 0.6923380 (845)\ttotal: 27.8s\tremaining: 5.05s\n",
            "846:\tlearn: 0.2557977\ttest: 0.6923469\tbest: 0.6923380 (845)\ttotal: 27.8s\tremaining: 5.02s\n",
            "847:\tlearn: 0.2557673\ttest: 0.6927153\tbest: 0.6923380 (845)\ttotal: 27.8s\tremaining: 4.99s\n",
            "848:\tlearn: 0.2556504\ttest: 0.6926391\tbest: 0.6923380 (845)\ttotal: 27.9s\tremaining: 4.96s\n",
            "849:\tlearn: 0.2555895\ttest: 0.6954854\tbest: 0.6923380 (845)\ttotal: 27.9s\tremaining: 4.92s\n",
            "850:\tlearn: 0.2555555\ttest: 0.6955443\tbest: 0.6923380 (845)\ttotal: 27.9s\tremaining: 4.89s\n",
            "851:\tlearn: 0.2554862\ttest: 0.7003591\tbest: 0.6923380 (845)\ttotal: 28s\tremaining: 4.86s\n",
            "852:\tlearn: 0.2553203\ttest: 0.7003425\tbest: 0.6923380 (845)\ttotal: 28s\tremaining: 4.82s\n",
            "853:\tlearn: 0.2552895\ttest: 0.7081227\tbest: 0.6923380 (845)\ttotal: 28s\tremaining: 4.79s\n",
            "854:\tlearn: 0.2552438\ttest: 0.7080697\tbest: 0.6923380 (845)\ttotal: 28s\tremaining: 4.76s\n",
            "855:\tlearn: 0.2551869\ttest: 0.7081964\tbest: 0.6923380 (845)\ttotal: 28.1s\tremaining: 4.72s\n",
            "856:\tlearn: 0.2551418\ttest: 0.7083756\tbest: 0.6923380 (845)\ttotal: 28.1s\tremaining: 4.69s\n",
            "857:\tlearn: 0.2550758\ttest: 0.7094627\tbest: 0.6923380 (845)\ttotal: 28.1s\tremaining: 4.66s\n",
            "858:\tlearn: 0.2549669\ttest: 0.7089432\tbest: 0.6923380 (845)\ttotal: 28.2s\tremaining: 4.62s\n",
            "859:\tlearn: 0.2548743\ttest: 0.7090221\tbest: 0.6923380 (845)\ttotal: 28.2s\tremaining: 4.59s\n",
            "860:\tlearn: 0.2548138\ttest: 0.7027629\tbest: 0.6923380 (845)\ttotal: 28.2s\tremaining: 4.56s\n",
            "861:\tlearn: 0.2547524\ttest: 0.7019591\tbest: 0.6923380 (845)\ttotal: 28.3s\tremaining: 4.53s\n",
            "862:\tlearn: 0.2546796\ttest: 0.7020960\tbest: 0.6923380 (845)\ttotal: 28.3s\tremaining: 4.49s\n",
            "863:\tlearn: 0.2546327\ttest: 0.7063944\tbest: 0.6923380 (845)\ttotal: 28.3s\tremaining: 4.46s\n",
            "864:\tlearn: 0.2545472\ttest: 0.7069067\tbest: 0.6923380 (845)\ttotal: 28.4s\tremaining: 4.43s\n",
            "865:\tlearn: 0.2544300\ttest: 0.7080888\tbest: 0.6923380 (845)\ttotal: 28.4s\tremaining: 4.39s\n",
            "866:\tlearn: 0.2543996\ttest: 0.7096478\tbest: 0.6923380 (845)\ttotal: 28.4s\tremaining: 4.36s\n",
            "867:\tlearn: 0.2543357\ttest: 0.7093447\tbest: 0.6923380 (845)\ttotal: 28.5s\tremaining: 4.33s\n",
            "868:\tlearn: 0.2542514\ttest: 0.7128774\tbest: 0.6923380 (845)\ttotal: 28.5s\tremaining: 4.3s\n",
            "869:\tlearn: 0.2541657\ttest: 0.7130628\tbest: 0.6923380 (845)\ttotal: 28.5s\tremaining: 4.26s\n",
            "870:\tlearn: 0.2541047\ttest: 0.7138125\tbest: 0.6923380 (845)\ttotal: 28.6s\tremaining: 4.23s\n",
            "871:\tlearn: 0.2540431\ttest: 0.7085687\tbest: 0.6923380 (845)\ttotal: 28.6s\tremaining: 4.2s\n",
            "872:\tlearn: 0.2539985\ttest: 0.7085432\tbest: 0.6923380 (845)\ttotal: 28.6s\tremaining: 4.17s\n",
            "873:\tlearn: 0.2539322\ttest: 0.7101594\tbest: 0.6923380 (845)\ttotal: 28.7s\tremaining: 4.13s\n",
            "874:\tlearn: 0.2538280\ttest: 0.7102117\tbest: 0.6923380 (845)\ttotal: 28.7s\tremaining: 4.1s\n",
            "875:\tlearn: 0.2537437\ttest: 0.7104501\tbest: 0.6923380 (845)\ttotal: 28.7s\tremaining: 4.07s\n",
            "876:\tlearn: 0.2537231\ttest: 0.7105315\tbest: 0.6923380 (845)\ttotal: 28.8s\tremaining: 4.03s\n",
            "877:\tlearn: 0.2536482\ttest: 0.7104622\tbest: 0.6923380 (845)\ttotal: 28.8s\tremaining: 4s\n",
            "878:\tlearn: 0.2535936\ttest: 0.7140555\tbest: 0.6923380 (845)\ttotal: 28.8s\tremaining: 3.97s\n",
            "879:\tlearn: 0.2535402\ttest: 0.7108038\tbest: 0.6923380 (845)\ttotal: 28.9s\tremaining: 3.94s\n",
            "880:\tlearn: 0.2534914\ttest: 0.7104895\tbest: 0.6923380 (845)\ttotal: 28.9s\tremaining: 3.9s\n",
            "881:\tlearn: 0.2534420\ttest: 0.7105742\tbest: 0.6923380 (845)\ttotal: 28.9s\tremaining: 3.87s\n",
            "882:\tlearn: 0.2533532\ttest: 0.7105778\tbest: 0.6923380 (845)\ttotal: 29s\tremaining: 3.84s\n",
            "883:\tlearn: 0.2532953\ttest: 0.7103405\tbest: 0.6923380 (845)\ttotal: 29s\tremaining: 3.8s\n",
            "884:\tlearn: 0.2531981\ttest: 0.7200403\tbest: 0.6923380 (845)\ttotal: 29s\tremaining: 3.77s\n",
            "885:\tlearn: 0.2531570\ttest: 0.7208921\tbest: 0.6923380 (845)\ttotal: 29.1s\tremaining: 3.74s\n",
            "886:\tlearn: 0.2531316\ttest: 0.7230397\tbest: 0.6923380 (845)\ttotal: 29.1s\tremaining: 3.7s\n",
            "887:\tlearn: 0.2530405\ttest: 0.7268203\tbest: 0.6923380 (845)\ttotal: 29.1s\tremaining: 3.67s\n",
            "888:\tlearn: 0.2530238\ttest: 0.7268554\tbest: 0.6923380 (845)\ttotal: 29.1s\tremaining: 3.64s\n",
            "889:\tlearn: 0.2528987\ttest: 0.7268129\tbest: 0.6923380 (845)\ttotal: 29.2s\tremaining: 3.61s\n",
            "890:\tlearn: 0.2528294\ttest: 0.7267280\tbest: 0.6923380 (845)\ttotal: 29.2s\tremaining: 3.57s\n",
            "891:\tlearn: 0.2527628\ttest: 0.7255425\tbest: 0.6923380 (845)\ttotal: 29.2s\tremaining: 3.54s\n",
            "892:\tlearn: 0.2526772\ttest: 0.7254746\tbest: 0.6923380 (845)\ttotal: 29.3s\tremaining: 3.51s\n",
            "893:\tlearn: 0.2526232\ttest: 0.7258901\tbest: 0.6923380 (845)\ttotal: 29.3s\tremaining: 3.47s\n",
            "894:\tlearn: 0.2525527\ttest: 0.7259476\tbest: 0.6923380 (845)\ttotal: 29.3s\tremaining: 3.44s\n",
            "895:\tlearn: 0.2525043\ttest: 0.7260046\tbest: 0.6923380 (845)\ttotal: 29.4s\tremaining: 3.41s\n",
            "896:\tlearn: 0.2524532\ttest: 0.7260893\tbest: 0.6923380 (845)\ttotal: 29.4s\tremaining: 3.38s\n",
            "897:\tlearn: 0.2524062\ttest: 0.7260208\tbest: 0.6923380 (845)\ttotal: 29.4s\tremaining: 3.34s\n",
            "898:\tlearn: 0.2523355\ttest: 0.7261908\tbest: 0.6923380 (845)\ttotal: 29.5s\tremaining: 3.31s\n",
            "899:\tlearn: 0.2522472\ttest: 0.7330223\tbest: 0.6923380 (845)\ttotal: 29.5s\tremaining: 3.28s\n",
            "900:\tlearn: 0.2521776\ttest: 0.7328629\tbest: 0.6923380 (845)\ttotal: 29.5s\tremaining: 3.24s\n",
            "901:\tlearn: 0.2521188\ttest: 0.7330537\tbest: 0.6923380 (845)\ttotal: 29.6s\tremaining: 3.21s\n",
            "902:\tlearn: 0.2520465\ttest: 0.7323035\tbest: 0.6923380 (845)\ttotal: 29.6s\tremaining: 3.18s\n",
            "903:\tlearn: 0.2519828\ttest: 0.7348869\tbest: 0.6923380 (845)\ttotal: 29.6s\tremaining: 3.15s\n",
            "904:\tlearn: 0.2518893\ttest: 0.7351650\tbest: 0.6923380 (845)\ttotal: 29.7s\tremaining: 3.12s\n",
            "905:\tlearn: 0.2518167\ttest: 0.7351760\tbest: 0.6923380 (845)\ttotal: 29.7s\tremaining: 3.08s\n",
            "906:\tlearn: 0.2517659\ttest: 0.7513449\tbest: 0.6923380 (845)\ttotal: 29.7s\tremaining: 3.05s\n",
            "907:\tlearn: 0.2516817\ttest: 0.7512987\tbest: 0.6923380 (845)\ttotal: 29.8s\tremaining: 3.02s\n",
            "908:\tlearn: 0.2516315\ttest: 0.7523811\tbest: 0.6923380 (845)\ttotal: 29.8s\tremaining: 2.98s\n",
            "909:\tlearn: 0.2515744\ttest: 0.7493722\tbest: 0.6923380 (845)\ttotal: 29.8s\tremaining: 2.95s\n",
            "910:\tlearn: 0.2515051\ttest: 0.7491551\tbest: 0.6923380 (845)\ttotal: 29.9s\tremaining: 2.92s\n",
            "911:\tlearn: 0.2514449\ttest: 0.7424867\tbest: 0.6923380 (845)\ttotal: 29.9s\tremaining: 2.88s\n",
            "912:\tlearn: 0.2513918\ttest: 0.7430974\tbest: 0.6923380 (845)\ttotal: 29.9s\tremaining: 2.85s\n",
            "913:\tlearn: 0.2513001\ttest: 0.7431542\tbest: 0.6923380 (845)\ttotal: 30s\tremaining: 2.82s\n",
            "914:\tlearn: 0.2512412\ttest: 0.7421602\tbest: 0.6923380 (845)\ttotal: 30s\tremaining: 2.79s\n",
            "915:\tlearn: 0.2511992\ttest: 0.7415507\tbest: 0.6923380 (845)\ttotal: 30s\tremaining: 2.75s\n",
            "916:\tlearn: 0.2511474\ttest: 0.7483395\tbest: 0.6923380 (845)\ttotal: 30.1s\tremaining: 2.72s\n",
            "917:\tlearn: 0.2510647\ttest: 0.7498777\tbest: 0.6923380 (845)\ttotal: 30.1s\tremaining: 2.69s\n",
            "918:\tlearn: 0.2509961\ttest: 0.7502106\tbest: 0.6923380 (845)\ttotal: 30.1s\tremaining: 2.65s\n",
            "919:\tlearn: 0.2509308\ttest: 0.7503205\tbest: 0.6923380 (845)\ttotal: 30.2s\tremaining: 2.62s\n",
            "920:\tlearn: 0.2508602\ttest: 0.7505320\tbest: 0.6923380 (845)\ttotal: 30.2s\tremaining: 2.59s\n",
            "921:\tlearn: 0.2507977\ttest: 0.7504788\tbest: 0.6923380 (845)\ttotal: 30.2s\tremaining: 2.56s\n",
            "922:\tlearn: 0.2507593\ttest: 0.7502525\tbest: 0.6923380 (845)\ttotal: 30.3s\tremaining: 2.52s\n",
            "923:\tlearn: 0.2507177\ttest: 0.7474438\tbest: 0.6923380 (845)\ttotal: 30.3s\tremaining: 2.49s\n",
            "924:\tlearn: 0.2506688\ttest: 0.7474175\tbest: 0.6923380 (845)\ttotal: 30.3s\tremaining: 2.46s\n",
            "925:\tlearn: 0.2505992\ttest: 0.7459947\tbest: 0.6923380 (845)\ttotal: 30.3s\tremaining: 2.42s\n",
            "926:\tlearn: 0.2505145\ttest: 0.7463892\tbest: 0.6923380 (845)\ttotal: 30.4s\tremaining: 2.39s\n",
            "927:\tlearn: 0.2504468\ttest: 0.7461555\tbest: 0.6923380 (845)\ttotal: 30.4s\tremaining: 2.36s\n",
            "928:\tlearn: 0.2504041\ttest: 0.7458295\tbest: 0.6923380 (845)\ttotal: 30.4s\tremaining: 2.33s\n",
            "929:\tlearn: 0.2503369\ttest: 0.7434780\tbest: 0.6923380 (845)\ttotal: 30.5s\tremaining: 2.29s\n",
            "930:\tlearn: 0.2502765\ttest: 0.7368603\tbest: 0.6923380 (845)\ttotal: 30.5s\tremaining: 2.26s\n",
            "931:\tlearn: 0.2502195\ttest: 0.7367911\tbest: 0.6923380 (845)\ttotal: 30.5s\tremaining: 2.23s\n",
            "932:\tlearn: 0.2501604\ttest: 0.7371735\tbest: 0.6923380 (845)\ttotal: 30.6s\tremaining: 2.19s\n",
            "933:\tlearn: 0.2501208\ttest: 0.7380041\tbest: 0.6923380 (845)\ttotal: 30.6s\tremaining: 2.16s\n",
            "934:\tlearn: 0.2500896\ttest: 0.7389018\tbest: 0.6923380 (845)\ttotal: 30.6s\tremaining: 2.13s\n",
            "935:\tlearn: 0.2500386\ttest: 0.7359025\tbest: 0.6923380 (845)\ttotal: 30.7s\tremaining: 2.1s\n",
            "936:\tlearn: 0.2499668\ttest: 0.7309718\tbest: 0.6923380 (845)\ttotal: 30.7s\tremaining: 2.06s\n",
            "937:\tlearn: 0.2498909\ttest: 0.7303946\tbest: 0.6923380 (845)\ttotal: 30.7s\tremaining: 2.03s\n",
            "938:\tlearn: 0.2498595\ttest: 0.7308424\tbest: 0.6923380 (845)\ttotal: 30.8s\tremaining: 2s\n",
            "939:\tlearn: 0.2498177\ttest: 0.7308447\tbest: 0.6923380 (845)\ttotal: 30.8s\tremaining: 1.97s\n",
            "940:\tlearn: 0.2497660\ttest: 0.7303804\tbest: 0.6923380 (845)\ttotal: 30.8s\tremaining: 1.93s\n",
            "941:\tlearn: 0.2496980\ttest: 0.7304593\tbest: 0.6923380 (845)\ttotal: 30.9s\tremaining: 1.9s\n",
            "942:\tlearn: 0.2495825\ttest: 0.7305102\tbest: 0.6923380 (845)\ttotal: 30.9s\tremaining: 1.87s\n",
            "943:\tlearn: 0.2495183\ttest: 0.7297415\tbest: 0.6923380 (845)\ttotal: 30.9s\tremaining: 1.83s\n",
            "944:\tlearn: 0.2494098\ttest: 0.7296290\tbest: 0.6923380 (845)\ttotal: 31s\tremaining: 1.8s\n",
            "945:\tlearn: 0.2493472\ttest: 0.7297289\tbest: 0.6923380 (845)\ttotal: 31s\tremaining: 1.77s\n",
            "946:\tlearn: 0.2492427\ttest: 0.7296149\tbest: 0.6923380 (845)\ttotal: 31s\tremaining: 1.74s\n",
            "947:\tlearn: 0.2491999\ttest: 0.7298763\tbest: 0.6923380 (845)\ttotal: 31.1s\tremaining: 1.7s\n",
            "948:\tlearn: 0.2491600\ttest: 0.7298341\tbest: 0.6923380 (845)\ttotal: 31.1s\tremaining: 1.67s\n",
            "949:\tlearn: 0.2490838\ttest: 0.7297973\tbest: 0.6923380 (845)\ttotal: 31.1s\tremaining: 1.64s\n",
            "950:\tlearn: 0.2490120\ttest: 0.7298435\tbest: 0.6923380 (845)\ttotal: 31.2s\tremaining: 1.6s\n",
            "951:\tlearn: 0.2489703\ttest: 0.7258582\tbest: 0.6923380 (845)\ttotal: 31.2s\tremaining: 1.57s\n",
            "952:\tlearn: 0.2488905\ttest: 0.7258260\tbest: 0.6923380 (845)\ttotal: 31.2s\tremaining: 1.54s\n",
            "953:\tlearn: 0.2488288\ttest: 0.7257865\tbest: 0.6923380 (845)\ttotal: 31.3s\tremaining: 1.51s\n",
            "954:\tlearn: 0.2487391\ttest: 0.7262339\tbest: 0.6923380 (845)\ttotal: 31.3s\tremaining: 1.47s\n",
            "955:\tlearn: 0.2486825\ttest: 0.7262495\tbest: 0.6923380 (845)\ttotal: 31.3s\tremaining: 1.44s\n",
            "956:\tlearn: 0.2486022\ttest: 0.7263523\tbest: 0.6923380 (845)\ttotal: 31.4s\tremaining: 1.41s\n",
            "957:\tlearn: 0.2485756\ttest: 0.7268851\tbest: 0.6923380 (845)\ttotal: 31.4s\tremaining: 1.38s\n",
            "958:\tlearn: 0.2485208\ttest: 0.7268647\tbest: 0.6923380 (845)\ttotal: 31.4s\tremaining: 1.34s\n",
            "959:\tlearn: 0.2484531\ttest: 0.7269600\tbest: 0.6923380 (845)\ttotal: 31.5s\tremaining: 1.31s\n",
            "960:\tlearn: 0.2483863\ttest: 0.7265481\tbest: 0.6923380 (845)\ttotal: 31.5s\tremaining: 1.28s\n",
            "961:\tlearn: 0.2483408\ttest: 0.7281097\tbest: 0.6923380 (845)\ttotal: 31.5s\tremaining: 1.25s\n",
            "962:\tlearn: 0.2482850\ttest: 0.7281570\tbest: 0.6923380 (845)\ttotal: 31.6s\tremaining: 1.21s\n",
            "963:\tlearn: 0.2482064\ttest: 0.7283502\tbest: 0.6923380 (845)\ttotal: 31.6s\tremaining: 1.18s\n",
            "964:\tlearn: 0.2481413\ttest: 0.7278449\tbest: 0.6923380 (845)\ttotal: 31.6s\tremaining: 1.15s\n",
            "965:\tlearn: 0.2480548\ttest: 0.7280630\tbest: 0.6923380 (845)\ttotal: 31.7s\tremaining: 1.11s\n",
            "966:\tlearn: 0.2480099\ttest: 0.7268159\tbest: 0.6923380 (845)\ttotal: 31.7s\tremaining: 1.08s\n",
            "967:\tlearn: 0.2479387\ttest: 0.7264850\tbest: 0.6923380 (845)\ttotal: 31.7s\tremaining: 1.05s\n",
            "968:\tlearn: 0.2478605\ttest: 0.7266368\tbest: 0.6923380 (845)\ttotal: 31.8s\tremaining: 1.01s\n",
            "969:\tlearn: 0.2477914\ttest: 0.7266767\tbest: 0.6923380 (845)\ttotal: 31.8s\tremaining: 983ms\n",
            "970:\tlearn: 0.2477449\ttest: 0.7240431\tbest: 0.6923380 (845)\ttotal: 31.8s\tremaining: 950ms\n",
            "971:\tlearn: 0.2476806\ttest: 0.7241387\tbest: 0.6923380 (845)\ttotal: 31.9s\tremaining: 918ms\n",
            "972:\tlearn: 0.2476121\ttest: 0.7233247\tbest: 0.6923380 (845)\ttotal: 31.9s\tremaining: 885ms\n",
            "973:\tlearn: 0.2474920\ttest: 0.7233296\tbest: 0.6923380 (845)\ttotal: 31.9s\tremaining: 852ms\n",
            "974:\tlearn: 0.2474177\ttest: 0.7235787\tbest: 0.6923380 (845)\ttotal: 31.9s\tremaining: 819ms\n",
            "975:\tlearn: 0.2472760\ttest: 0.7237244\tbest: 0.6923380 (845)\ttotal: 32s\tremaining: 786ms\n",
            "976:\tlearn: 0.2472398\ttest: 0.7248463\tbest: 0.6923380 (845)\ttotal: 32s\tremaining: 753ms\n",
            "977:\tlearn: 0.2471644\ttest: 0.7244786\tbest: 0.6923380 (845)\ttotal: 32s\tremaining: 721ms\n",
            "978:\tlearn: 0.2471133\ttest: 0.7245136\tbest: 0.6923380 (845)\ttotal: 32.1s\tremaining: 688ms\n",
            "979:\tlearn: 0.2470484\ttest: 0.7246364\tbest: 0.6923380 (845)\ttotal: 32.1s\tremaining: 655ms\n",
            "980:\tlearn: 0.2469821\ttest: 0.7245890\tbest: 0.6923380 (845)\ttotal: 32.1s\tremaining: 622ms\n",
            "981:\tlearn: 0.2469483\ttest: 0.7202164\tbest: 0.6923380 (845)\ttotal: 32.2s\tremaining: 590ms\n",
            "982:\tlearn: 0.2468887\ttest: 0.7211367\tbest: 0.6923380 (845)\ttotal: 32.2s\tremaining: 557ms\n",
            "983:\tlearn: 0.2468043\ttest: 0.7209748\tbest: 0.6923380 (845)\ttotal: 32.2s\tremaining: 524ms\n",
            "984:\tlearn: 0.2467161\ttest: 0.7207740\tbest: 0.6923380 (845)\ttotal: 32.3s\tremaining: 491ms\n",
            "985:\tlearn: 0.2466366\ttest: 0.7207586\tbest: 0.6923380 (845)\ttotal: 32.3s\tremaining: 459ms\n",
            "986:\tlearn: 0.2465958\ttest: 0.7182704\tbest: 0.6923380 (845)\ttotal: 32.3s\tremaining: 426ms\n",
            "987:\tlearn: 0.2465649\ttest: 0.7161451\tbest: 0.6923380 (845)\ttotal: 32.4s\tremaining: 393ms\n",
            "988:\tlearn: 0.2465133\ttest: 0.7162343\tbest: 0.6923380 (845)\ttotal: 32.4s\tremaining: 360ms\n",
            "989:\tlearn: 0.2465026\ttest: 0.7160009\tbest: 0.6923380 (845)\ttotal: 32.4s\tremaining: 328ms\n",
            "990:\tlearn: 0.2464289\ttest: 0.7157191\tbest: 0.6923380 (845)\ttotal: 32.5s\tremaining: 295ms\n",
            "991:\tlearn: 0.2463678\ttest: 0.7158430\tbest: 0.6923380 (845)\ttotal: 32.5s\tremaining: 262ms\n",
            "992:\tlearn: 0.2463027\ttest: 0.7154200\tbest: 0.6923380 (845)\ttotal: 32.5s\tremaining: 229ms\n",
            "993:\tlearn: 0.2461915\ttest: 0.7152212\tbest: 0.6923380 (845)\ttotal: 32.6s\tremaining: 196ms\n",
            "994:\tlearn: 0.2461366\ttest: 0.7165559\tbest: 0.6923380 (845)\ttotal: 32.6s\tremaining: 164ms\n",
            "995:\tlearn: 0.2460852\ttest: 0.7167464\tbest: 0.6923380 (845)\ttotal: 32.6s\tremaining: 131ms\n",
            "996:\tlearn: 0.2460070\ttest: 0.7172592\tbest: 0.6923380 (845)\ttotal: 32.6s\tremaining: 98.2ms\n",
            "997:\tlearn: 0.2459314\ttest: 0.7174136\tbest: 0.6923380 (845)\ttotal: 32.7s\tremaining: 65.5ms\n",
            "998:\tlearn: 0.2458923\ttest: 0.7178673\tbest: 0.6923380 (845)\ttotal: 32.7s\tremaining: 32.8ms\n",
            "999:\tlearn: 0.2458376\ttest: 0.7178908\tbest: 0.6923380 (845)\ttotal: 32.8s\tremaining: 0us\n",
            "\n",
            "bestTest = 0.6923379568\n",
            "bestIteration = 845\n",
            "\n",
            "Shrink model to first 846 iterations.\n"
          ]
        },
        {
          "output_type": "execute_result",
          "data": {
            "text/plain": [
              "<catboost.core.CatBoostClassifier at 0x7f4ddfb18fd0>"
            ]
          },
          "metadata": {},
          "execution_count": 124
        }
      ]
    },
    {
      "cell_type": "code",
      "metadata": {
        "colab": {
          "base_uri": "https://localhost:8080/",
          "height": 296
        },
        "id": "oV0Ny2u4FgxA",
        "outputId": "6ba353ff-aa2a-46d5-e559-817abc259a04"
      },
      "source": [
        "from sklearn.metrics import plot_roc_curve\n",
        "plot_roc_curve(CBC,X_test,y_test)"
      ],
      "execution_count": 125,
      "outputs": [
        {
          "output_type": "execute_result",
          "data": {
            "text/plain": [
              "<sklearn.metrics._plot.roc_curve.RocCurveDisplay at 0x7f4ddf26af90>"
            ]
          },
          "metadata": {},
          "execution_count": 125
        },
        {
          "output_type": "display_data",
          "data": {
            "image/png": "[encoded data removed]",
            "text/plain": [
              "<Figure size 432x288 with 1 Axes>"
            ]
          },
          "metadata": {
            "needs_background": "light"
          }
        }
      ]
    },
    {
      "cell_type": "code",
      "metadata": {
        "id": "Z3oJFwiUNGOn"
      },
      "source": [
        "submission2 = df_test[[\"ID\"]]\n",
        "submission2[\"default\"] = CBC.predict(test_data)\n",
        "submission2.to_csv(\"/home/cbc.csv\",index=False)"
      ],
      "execution_count": 126,
      "outputs": []
    },
    {
      "cell_type": "code",
      "metadata": {
        "colab": {
          "base_uri": "https://localhost:8080/",
          "height": 204
        },
        "id": "RqnmK0mUNQM8",
        "outputId": "f2ad14c5-fe16-4ae1-9615-01effbec331c"
      },
      "source": [
        "submission2.head()"
      ],
      "execution_count": 127,
      "outputs": [
        {
          "output_type": "execute_result",
          "data": {
            "text/html": [
              "<div>\n",
              "<style scoped>\n",
              "    .dataframe tbody tr th:only-of-type {\n",
              "        vertical-align: middle;\n",
              "    }\n",
              "\n",
              "    .dataframe tbody tr th {\n",
              "        vertical-align: top;\n",
              "    }\n",
              "\n",
              "    .dataframe thead th {\n",
              "        text-align: right;\n",
              "    }\n",
              "</style>\n",
              "<table border=\"1\" class=\"dataframe\">\n",
              "  <thead>\n",
              "    <tr style=\"text-align: right;\">\n",
              "      <th></th>\n",
              "      <th>ID</th>\n",
              "      <th>default</th>\n",
              "    </tr>\n",
              "  </thead>\n",
              "  <tbody>\n",
              "    <tr>\n",
              "      <th>0</th>\n",
              "      <td>4855329</td>\n",
              "      <td>1</td>\n",
              "    </tr>\n",
              "    <tr>\n",
              "      <th>1</th>\n",
              "      <td>66862420</td>\n",
              "      <td>0</td>\n",
              "    </tr>\n",
              "    <tr>\n",
              "      <th>2</th>\n",
              "      <td>3637416</td>\n",
              "      <td>0</td>\n",
              "    </tr>\n",
              "    <tr>\n",
              "      <th>3</th>\n",
              "      <td>53682249</td>\n",
              "      <td>1</td>\n",
              "    </tr>\n",
              "    <tr>\n",
              "      <th>4</th>\n",
              "      <td>53937165</td>\n",
              "      <td>0</td>\n",
              "    </tr>\n",
              "  </tbody>\n",
              "</table>\n",
              "</div>"
            ],
            "text/plain": [
              "         ID  default\n",
              "0   4855329        1\n",
              "1  66862420        0\n",
              "2   3637416        0\n",
              "3  53682249        1\n",
              "4  53937165        0"
            ]
          },
          "metadata": {},
          "execution_count": 127
        }
      ]
    },
    {
      "cell_type": "markdown",
      "metadata": {
        "id": "WzHnnEF7PQD1"
      },
      "source": [
        "MODEL 3: SVC\n",
        "\n",
        "> Indented block\n",
        "\n"
      ]
    },
    {
      "cell_type": "code",
      "metadata": {
        "id": "t9Si81vXPPGI"
      },
      "source": [
        "df_svm = data.copy()\n",
        "train_set_svc, test_set_svc = train_test_split(df_svm, test_size = 0.2, random_state = 42)\n",
        "X_train_svc = train_set_svc.drop(['default'], axis = 1)\n",
        "y_train_svc = train_set_svc['default']\n",
        "X_test_svc = test_set_svc.drop(['default'], axis = 1)\n",
        "y_test_svc = test_set_svc['default']\n"
      ],
      "execution_count": 130,
      "outputs": []
    },
    {
      "cell_type": "code",
      "metadata": {
        "id": "z11jLnQ3NUTN"
      },
      "source": [
        "zscore_svc = StandardScaler()\n",
        "features_names = X_train_svc.columns\n",
        "X_train_svc = zscore_svc.fit_transform(X_train_svc)\n",
        "X_train_svc = pd.DataFrame(X_train_svc, columns = features_names)\n",
        "X_test_svc = zscore_svc.transform(X_test_svc)\n",
        "X_test_svc = pd.DataFrame(X_test_svc, columns = features_names)"
      ],
      "execution_count": 131,
      "outputs": []
    },
    {
      "cell_type": "code",
      "metadata": {
        "colab": {
          "base_uri": "https://localhost:8080/"
        },
        "id": "fKdz6RhiVbUL",
        "outputId": "c51544bc-5a4e-45d9-9145-ff35e131b358"
      },
      "source": [
        "svc = SVC(random_state=42, class_weight='balanced',probability=True, verbose=True)\n",
        "parameters = {'C':[0.1, 1, 10]}\n",
        "clf_svc = GridSearchCV(svc, parameters, cv = 5).fit(X_train_svc, y_train_svc)\n"
      ],
      "execution_count": null,
      "outputs": [
        {
          "metadata": {
            "tags": null
          },
          "name": "stdout",
          "output_type": "stream",
          "text": [
            "[LibSVM][LibSVM][LibSVM]"
          ]
        }
      ]
    },
    {
      "cell_type": "code",
      "metadata": {
        "id": "pBMa3_JNVqO7"
      },
      "source": [
        "from sklearn.metrics import plot_roc_curve\n",
        "plot_roc_curve(clf_svc,X_test,y_test)"
      ],
      "execution_count": null,
      "outputs": []
    },
    {
      "cell_type": "code",
      "metadata": {
        "id": "IJIz3_SpV1jS"
      },
      "source": [
        "submission3 = df_test[[\"ID\"]]\n",
        "submission3[\"default\"] = clf_scv.predict(test_data)\n",
        "submission3.to_csv(\"/home/svc.csv\",index=False)"
      ],
      "execution_count": null,
      "outputs": []
    },
    {
      "cell_type": "code",
      "metadata": {
        "id": "QL8OP97UWEMy"
      },
      "source": [
        "svc = SVC(random_state=42, class_weight='balanced',probability=True, verbose=True)\n",
        "parameters = {'C':[0.1, 1, 10]}\n",
        "rlf_svc = RandomSearch(svc, parameters, cv = 5).fit(X_train_svc, y_train_svc)"
      ],
      "execution_count": null,
      "outputs": []
    },
    {
      "cell_type": "code",
      "metadata": {
        "id": "xkTZytDbBuVv"
      },
      "source": [
        "from sklearn.metrics import plot_roc_curve\n",
        "plot_roc_curve(rlf_svc,X_test,y_test)"
      ],
      "execution_count": null,
      "outputs": []
    },
    {
      "cell_type": "code",
      "metadata": {
        "id": "Iz0mq5pmBxq6"
      },
      "source": [
        "submission6 = df_test[[\"ID\"]]\n",
        "submission6[\"default\"] = rlf_scv.predict(test_data)\n",
        "submission6.to_csv(\"/home/svc.csv\",index=False)"
      ],
      "execution_count": null,
      "outputs": []
    }
  ]
}