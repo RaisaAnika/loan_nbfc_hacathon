{
  "nbformat": 4,
  "nbformat_minor": 0,
  "metadata": {
    "colab": {
      "name": "LOAN_NBFC_Hackathon.ipynb",
      "provenance": [],
      "include_colab_link": true
    },
    "kernelspec": {
      "name": "python3",
      "display_name": "Python 3"
    },
    "language_info": {
      "name": "python"
    }
  },
  "cells": [
    {
      "cell_type": "markdown",
      "metadata": {
        "id": "view-in-github",
        "colab_type": "text"
      },
      "source": [
        "<a href=\"https://colab.research.google.com/github/RaisaAnika/loan_nbfc_hacathon/blob/main/LOAN_NBFC_Hackathon.ipynb\" target=\"_parent\"><img src=\"https://colab.research.google.com/assets/colab-badge.svg\" alt=\"Open In Colab\"/></a>"
      ]
    },
    {
      "cell_type": "markdown",
      "metadata": {
        "id": "O9YretAgoe9Z"
      },
      "source": [
        "HACATHON TOPIC: **NBFC Loan Default**\n",
        "Team Details: \n",
        "**Data_Falcon**\n",
        " Members:\n",
        "  * Anika Raisa Chowdhury\n",
        "  * Ian Brick\n",
        "  * Fabrizio Maltese\n",
        "\n",
        "Hackathon link: https://olympus.greatlearning.in/hackathons/216 \n",
        "Repository link: https://github.com/RaisaAnika/loan_nbfc_hacathon \n",
        "\n",
        "A non-banking financial institution (NBFI) or non-bank financial company (NBFC) is a Financial Institution that does not have a full banking license or is not supervised by a national or international banking regulatory agency. NBFC facilitates bank-related financial services, such as investment, risk pooling, contractual savings, and market brokering.\n",
        "\n",
        "The following is the story of a challenge faced by DHDL Ltd. (Name Changed), an NBFC in India. In recent times, the company is struggling to mark profits due to an increase in Loan Defaults. The company aims to determine the relative importance of each parameter with regards to their contribution as to whether a loan is going to default or not. Provided is a sample that contains the data of 90,000 + clients who have taken a loan from the company in the past with the information on whether the loan defaulted. \n",
        "\n",
        "The objective of this exercise is to understand which parameters play an important role in determining whether a client will default on the loan payment or not. "
      ]
    },
    {
      "cell_type": "markdown",
      "metadata": {
        "id": "uy1cZdXbhXWE"
      },
      "source": [
        "**Goal:**\n",
        "The goal of the problem is to predict whether a client will default on the loan payment or not. For each ID in the test_data, you must predict the “default” level.\n",
        "\n",
        "\n",
        "**Datasets**\n",
        "The problem contains two datasets, Train Data, and Test Data. Model building is to be done on Train Dataset and the Model testing is to be done on Test Dataset. The output from the Test Data is to be submitted in the Hackathon platform\n",
        "\n",
        "\n",
        "**Metric to measure**\n",
        "Your score is the percentage of all correct predictions made by you. This is simply known as accuracy. The best accuracy is 1 whereas the worst is 0. It will be calculated as the total number of two correct predictions (True positive + True negative) divided by the total number of observations in the dataset.\n",
        "\n",
        "\n",
        "**Submission File Format:**\n",
        "You should submit a CSV file with exactly 39933 entries plus a header row.\n",
        "The file should have exactly two columns\n",
        "\n",
        "·         ID ( sorted in any order)\n",
        "\n",
        "·         default (contains 0 & 1, 1 represents default)"
      ]
    },
    {
      "cell_type": "code",
      "metadata": {
        "id": "zGpbDn19pbGO"
      },
      "source": [
        ""
      ],
      "execution_count": null,
      "outputs": []
    }
  ]
}